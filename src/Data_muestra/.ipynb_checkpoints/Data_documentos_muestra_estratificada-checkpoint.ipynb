{
 "cells": [
  {
   "cell_type": "markdown",
   "id": "052918df-400b-4edb-a2c2-26418bfd9b0d",
   "metadata": {},
   "source": [
    "# Data documentos"
   ]
  },
  {
   "cell_type": "code",
   "execution_count": 1,
   "id": "a07a5f17-856b-4d62-86bb-4e4a3050b44a",
   "metadata": {},
   "outputs": [],
   "source": [
    "##Se importan packages necesarios\n",
    "from pyspark.sql import SparkSession\n",
    "from pyspark.sql.functions import *\n",
    "from pyspark import SparkContext, SparkConf\n",
    "import pyspark\n",
    "import pandas as pd\n",
    "import warnings\n",
    "warnings.filterwarnings('ignore', category=DeprecationWarning)\n",
    "from pyspark.sql.types import StringType,TimestampType\n",
    "import matplotlib.pyplot as plt\n",
    "from pyspark.sql import functions as F"
   ]
  },
  {
   "cell_type": "code",
   "execution_count": 2,
   "id": "b9d0152e-b6ef-4448-a2a1-f90702d0b81e",
   "metadata": {},
   "outputs": [
    {
     "name": "stderr",
     "output_type": "stream",
     "text": [
      "Setting spark.hadoop.yarn.resourcemanager.principal to hvega.externo\n"
     ]
    }
   ],
   "source": [
    "#inicio de sesion en spark\n",
    "ss_name = 'Lectura de datos Dashboard'\n",
    "wg_conn = \"spark.kerberos.access.hadoopFileSystems\"\n",
    "db_conn = \"abfs://data@datalakesii.dfs.core.windows.net/\"\n",
    "\n",
    "spark = SparkSession.builder \\\n",
    "      .appName(f\"Ejecucion algoritmo {ss_name}\")  \\\n",
    "      .config(wg_conn, db_conn) \\\n",
    "      .config(\"spark.executor.memory\", \"6g\") \\\n",
    "      .config(\"spark.driver.memory\", \"12g\")\\\n",
    "      .config(\"spark.executor.cores\", \"4\") \\\n",
    "      .config(\"spark.executor.instances\", \"5\") \\\n",
    "      .config(\"spark.driver.maxResultSize\", \"12g\") \\\n",
    "      .getOrCreate()\n",
    "\n",
    "spark.sparkContext.setLogLevel(\"ERROR\")\n",
    "\n",
    "spark.conf.set(\"spark.sql.parquet.enableVectorizedReader\",\"false\")\n",
    "spark.conf.set(\"spark.sql.parquet.int96RebaseModeInRead\", \"CORRECTED\")\n",
    "spark.conf.set(\"spark.sql.parquet.int96RebaseModeInWrite\", \"CORRECTED\")\n",
    "spark.conf.set(\"spark.sql.parquet.datetimeRebaseModeInRead\", \"CORRECTED\")\n",
    "spark.conf.set(\"spark.sql.parquet.datetimeRebaseModeInWrite\", \"CORRECTED\")\n",
    "spark.conf.set(\"spark.sql.debug.maxToStringFields\", \"2000\")"
   ]
  },
  {
   "cell_type": "markdown",
   "id": "cc65d567-0979-450a-913a-2e4af97cabad",
   "metadata": {},
   "source": [
    "### DETALLE DTE'S"
   ]
  },
  {
   "cell_type": "code",
   "execution_count": 3,
   "id": "0ac02340-102f-4264-959f-972942293053",
   "metadata": {},
   "outputs": [
    {
     "name": "stderr",
     "output_type": "stream",
     "text": [
      "Hive Session ID = e73c9efb-865d-491c-a772-66f0ef5b5ba9\n"
     ]
    },
    {
     "data": {
      "text/plain": [
       "['dhdr_pcarga',\n",
       " 'dhdr_codigo',\n",
       " 'denv_trackid',\n",
       " 'dtes_estado',\n",
       " 'dhdr_tmst_firma',\n",
       " 'dhdr_tmst_firma_int',\n",
       " 'dhdr_tmst_firma_str',\n",
       " 'dtdc_codigo',\n",
       " 'dhdr_folio',\n",
       " 'dhdr_fch_emis',\n",
       " 'dhdr_fch_emis_int',\n",
       " 'dhdr_ind_no_rebaja',\n",
       " 'dhdr_tipo_despacho',\n",
       " 'dhdr_ind_venta',\n",
       " 'dhdr_ind_servicio',\n",
       " 'dhdr_mnt_bruto',\n",
       " 'dhdr_fma_pago',\n",
       " 'dhdr_fch_cancel',\n",
       " 'dhdr_fch_cancel_int',\n",
       " 'dhdr_periodo_desde',\n",
       " 'dhdr_periodo_hasta',\n",
       " 'dhdr_medio_pago',\n",
       " 'dhdr_term_pago_dias',\n",
       " 'dhdr_term_pago_cdg',\n",
       " 'dhdr_fch_venc',\n",
       " 'dhdr_fch_venc_int',\n",
       " 'dhdr_rut_emisor',\n",
       " 'dhdr_dv_emisor',\n",
       " 'dhdr_rzn_soc',\n",
       " 'dhdr_giro_emis',\n",
       " 'dhdr_sucursal',\n",
       " 'dhdr_cdg_sii_sucur',\n",
       " 'dhdr_dir_origen',\n",
       " 'dhdr_cmna_origen',\n",
       " 'dhdr_ciudad_origen',\n",
       " 'dhdr_cdg_vendedor',\n",
       " 'dhdr_rut_mandante',\n",
       " 'dhdr_dv_mandante',\n",
       " 'dhdr_rut_recep',\n",
       " 'dhdr_dv_recep',\n",
       " 'dhdr_cdg_int_recep',\n",
       " 'dhdr_rzn_soc_recep',\n",
       " 'dhdr_giro_recep',\n",
       " 'dhdr_contacto',\n",
       " 'dhdr_dir_recep',\n",
       " 'dhdr_cmna_recep',\n",
       " 'dhdr_ciudad_recep',\n",
       " 'dhdr_dir_postal',\n",
       " 'dhdr_cmna_postal',\n",
       " 'dhdr_ciudad_postal',\n",
       " 'dhdr_rut_solicita',\n",
       " 'dhdr_dv_solicita',\n",
       " 'dhdr_patente',\n",
       " 'dhdr_rut_trans',\n",
       " 'dhdr_dv_trans',\n",
       " 'dhdr_dir_dest',\n",
       " 'dhdr_cmna_dest',\n",
       " 'dhdr_ciudad_dest',\n",
       " 'dhdr_mnt_neto',\n",
       " 'dhdr_mnt_exe',\n",
       " 'dhdr_iva',\n",
       " 'dhdr_iva_no_ret',\n",
       " 'dhdr_cred_ec',\n",
       " 'dhdr_grnt_dep',\n",
       " 'dhdr_mnt_total',\n",
       " 'dhdr_monto_nf',\n",
       " 'dhdr_mnt_periodo',\n",
       " 'dhdr_saldo_anterior',\n",
       " 'dhdr_vlr_pagar',\n",
       " 'dhdr_tasa_iva',\n",
       " 'dhdr_mnt_base',\n",
       " 'dhdr_iva_terc',\n",
       " 'dhdr_iva_prop',\n",
       " 'dhdr_iddoc_tpoimpresion',\n",
       " 'dhdr_iddoc_fmapagexp',\n",
       " 'dhdr_iddoc_mntcancel',\n",
       " 'dhdr_iddoc_saldoinsol',\n",
       " 'dhdr_iddoc_termpagoglosa',\n",
       " 'dhdr_emi_telefono1',\n",
       " 'dhdr_emi_telefono2',\n",
       " 'dhdr_emi_guiaexp_cdgtraslado',\n",
       " 'dhdr_emi_guiaexp_folioaut',\n",
       " 'dhdr_emi_guiaexp_fchaut',\n",
       " 'dhdr_rcp_ext_numid',\n",
       " 'dhdr_rcp_ext_nacionalidad',\n",
       " 'dhdr_rcp_correorecep',\n",
       " 'dhdr_trans_rutchofer',\n",
       " 'dhdr_trans_dvchofer',\n",
       " 'dhdr_trans_nombrechofer',\n",
       " 'dhdr_otmon_tpomoneda',\n",
       " 'dhdr_otmon_tpocambio',\n",
       " 'dhdr_otmon_mntnetootrmnda',\n",
       " 'dhdr_otmon_mntexeotrmnda',\n",
       " 'dhdr_otmon_mntfaecarneotrmnda',\n",
       " 'dhdr_otmon_mntmargcomotrmnda',\n",
       " 'dhdr_otmon_ivaotrmnda',\n",
       " 'dhdr_otmon_ivanoretotrmnda',\n",
       " 'dhdr_otmon_mnttototrmnda']"
      ]
     },
     "execution_count": 3,
     "metadata": {},
     "output_type": "execute_result"
    }
   ],
   "source": [
    "spark.table(\"DWBGDATA.HEADER_DTE_CONSOLIDADA_ENC_SAS_ANALITICA\").columns"
   ]
  },
  {
   "cell_type": "code",
   "execution_count": 4,
   "id": "e2285458-cc69-44a1-a8c4-364084529c34",
   "metadata": {},
   "outputs": [],
   "source": [
    "dte=spark.sql(\"select dhdr_folio,dtdc_codigo,dhdr_fch_emis, dhdr_rut_emisor,dhdr_dv_emisor,dhdr_rut_recep,dhdr_dv_recep,dhdr_mnt_total,dhdr_iva from DWBGDATA.HEADER_DTE_CONSOLIDADA_ENC_SAS_ANALITICA where dtdc_codigo=33\")"
   ]
  },
  {
   "cell_type": "code",
   "execution_count": 5,
   "id": "fe50ad23-74a2-4f96-b5a0-d28fc86fdf88",
   "metadata": {},
   "outputs": [],
   "source": [
    "dte=dte.sample(withReplacement=False, fraction=0.1).limit(10)"
   ]
  },
  {
   "cell_type": "code",
   "execution_count": 51,
   "id": "2a317ceb-8645-4d37-a9c6-a595200ed31a",
   "metadata": {
    "scrolled": true
   },
   "outputs": [
    {
     "name": "stderr",
     "output_type": "stream",
     "text": [
      "[Stage 4:(1617 + -16) / 1601][Stage 52:(1605 + -4) / 1601][Stage 75:(4729 + -185) / 4544]\r"
     ]
    },
    {
     "name": "stdout",
     "output_type": "stream",
     "text": [
      "+----------+-----------+-------------------+--------------------+--------------+--------------------+-------------+--------------+--------+\n",
      "|dhdr_folio|dtdc_codigo|      dhdr_fch_emis|     dhdr_rut_emisor|dhdr_dv_emisor|      dhdr_rut_recep|dhdr_dv_recep|dhdr_mnt_total|dhdr_iva|\n",
      "+----------+-----------+-------------------+--------------------+--------------+--------------------+-------------+--------------+--------+\n",
      "|       125|         33|2020-01-01 03:00:00|J8M5NnLsq8virJEoW...|             8|iCprrtCnZPKMQhYSL...|            7|  743750.00000|  118750|\n",
      "|      1219|         33|2020-11-10 03:00:00|5gGWC//8S09jfr81R...|             7|sqfa6+ZYDzBsttNeE...|            0| 6069000.00000|  969000|\n",
      "|   1425922|         33|2020-11-10 03:00:00|ghKdN0VZMj2oQ+yck...|             9|0jx5+SYdSXh4CSDFZ...|            6|   96350.00000|   15384|\n",
      "|    146952|         33|2020-11-10 03:00:00|3IFEVNUYdk7bAJK+P...|             7|6NS81AW9j3BXBfeie...|            6|   10000.00000|     854|\n",
      "|     15356|         33|2020-11-10 03:00:00|YSnCE66dbpQfCqYZv...|             8|9f+uA5fmbjhNvz38K...|            5|  119595.00000|   19095|\n",
      "|    113266|         33|2020-11-09 03:00:00|Iq9aGykJr88dJEwz6...|             7|OL5wQGV/abHs6MFAS...|            2|   24000.00000|    3832|\n",
      "|       728|         33|2020-11-10 03:00:00|kdTzIec6VYnWqbyuO...|             7|f/vnzUkXfMIj1AbDY...|            0|   11870.00000|    1895|\n",
      "|   8523288|         33|2020-11-11 03:00:00|47oGu5juiHIYcKWSh...|             3|LDaofod5a3qWCW7g6...|            3|   46718.00000|    7459|\n",
      "|     59165|         33|2020-11-10 03:00:00|ZQM7tOnmpLldIDBfH...|             K|MkRfddh6hhvBtzLMk...|            6|  200000.00000|   26980|\n",
      "|       969|         33|2020-11-10 03:00:00|FtFjKI5NTs1tsx1mQ...|             3|Zkn1tsm5H+YSmCT4j...|            8|   85811.00000|   13701|\n",
      "+----------+-----------+-------------------+--------------------+--------------+--------------------+-------------+--------------+--------+\n",
      "\n"
     ]
    },
    {
     "name": "stderr",
     "output_type": "stream",
     "text": [
      "24/10/25 15:53:25 630 ERROR TransportClient: Failed to send RPC RPC 6700339453969799483 to /10.244.12.17:43522: io.netty.channel.StacklessClosedChannelException\n",
      "io.netty.channel.StacklessClosedChannelException\n",
      "\tat io.netty.channel.AbstractChannel$AbstractUnsafe.write(Object, ChannelPromise)(Unknown Source)\n",
      "24/10/25 15:53:25 630 ERROR TransportClient: Failed to send RPC RPC 8369534014045239516 to /10.244.16.15:48710: io.netty.channel.StacklessClosedChannelException\n",
      "io.netty.channel.StacklessClosedChannelException\n",
      "\tat io.netty.channel.AbstractChannel$AbstractUnsafe.write(Object, ChannelPromise)(Unknown Source)\n",
      "24/10/25 15:53:25 630 ERROR TransportClient: Failed to send RPC RPC 4806551072569306350 to /10.244.13.21:54120: io.netty.channel.StacklessClosedChannelException\n",
      "io.netty.channel.StacklessClosedChannelException\n",
      "\tat io.netty.channel.AbstractChannel$AbstractUnsafe.write(Object, ChannelPromise)(Unknown Source)\n",
      "24/10/25 15:53:25 630 ERROR TransportClient: Failed to send RPC RPC 7727553146707946018 to /10.244.12.19:55884: io.netty.channel.StacklessClosedChannelException\n",
      "io.netty.channel.StacklessClosedChannelException\n",
      "\tat io.netty.channel.AbstractChannel$AbstractUnsafe.write(Object, ChannelPromise)(Unknown Source)\n",
      "24/10/25 15:53:25 630 ERROR TransportClient: Failed to send RPC RPC 5410630738749432151 to /10.244.6.20:53612: io.netty.channel.StacklessClosedChannelException\n",
      "io.netty.channel.StacklessClosedChannelException\n",
      "\tat io.netty.channel.AbstractChannel$AbstractUnsafe.write(Object, ChannelPromise)(Unknown Source)\n",
      "24/10/25 15:53:25 631 ERROR TransportClient: Failed to send RPC RPC 5503125412278775417 to /10.244.8.15:58884: io.netty.channel.StacklessClosedChannelException\n",
      "io.netty.channel.StacklessClosedChannelException\n",
      "\tat io.netty.channel.AbstractChannel$AbstractUnsafe.write(Object, ChannelPromise)(Unknown Source)\n",
      "24/10/25 15:53:25 631 ERROR TransportClient: Failed to send RPC RPC 8285965395216067865 to /10.244.10.21:57500: io.netty.channel.StacklessClosedChannelException\n",
      "io.netty.channel.StacklessClosedChannelException\n",
      "\tat io.netty.channel.AbstractChannel$AbstractUnsafe.write(Object, ChannelPromise)(Unknown Source)\n",
      "24/10/25 15:53:25 632 ERROR TransportClient: Failed to send RPC RPC 6917680466095349883 to /10.244.13.19:60920: io.netty.channel.StacklessClosedChannelException\n",
      "io.netty.channel.StacklessClosedChannelException\n",
      "\tat io.netty.channel.AbstractChannel$AbstractUnsafe.write(Object, ChannelPromise)(Unknown Source)\n",
      "24/10/25 15:53:25 633 ERROR TransportClient: Failed to send RPC RPC 8245906319255112994 to /10.244.10.18:56962: io.netty.channel.StacklessClosedChannelException\n",
      "io.netty.channel.StacklessClosedChannelException\n",
      "\tat io.netty.channel.AbstractChannel$AbstractUnsafe.write(Object, ChannelPromise)(Unknown Source)\n"
     ]
    }
   ],
   "source": [
    "dte.show()"
   ]
  },
  {
   "cell_type": "markdown",
   "id": "3320bf5c-8f91-4425-9dc3-065bd14826b0",
   "metadata": {},
   "source": [
    "### Cesión de documentos tributarios"
   ]
  },
  {
   "cell_type": "code",
   "execution_count": 52,
   "id": "9ff046b4-acc6-4240-a641-a658e7a3c23f",
   "metadata": {},
   "outputs": [],
   "source": [
    "doct=spark.table(\"hivenom.csn_doctos_final\")\n",
    "ces=spark.table(\"hivenom.csn_cesion_final\")"
   ]
  },
  {
   "cell_type": "code",
   "execution_count": 53,
   "id": "6ad7f2f5-71d7-405a-951c-6e5582459c60",
   "metadata": {},
   "outputs": [
    {
     "name": "stderr",
     "output_type": "stream",
     "text": [
      "[Stage 4:(1617 + -16) / 1601][Stage 52:(1605 + -4) / 1601][Stage 75:(4729 + -185) / 4544]\r"
     ]
    }
   ],
   "source": [
    "# Realiza el inner join\n",
    "dte_cesion = dte.join(\n",
    "    doct,  # Asumiendo que ya tienes el DataFrame 'ces'\n",
    "    (dte.dhdr_folio == doct.rdoc_folio) &\n",
    "    (dte.dhdr_rut_emisor == doct.rdoc_rut_emisor_e) &\n",
    "    (dte.dhdr_dv_emisor == doct.rdoc_dv_emisor),\n",
    "    \"left\"\n",
    ").select(\n",
    "    dte.dhdr_folio,\n",
    "    dte.dhdr_rut_emisor,\n",
    "    dte.dhdr_dv_emisor,\n",
    "    dte.dhdr_rut_recep,\n",
    "    dte.dhdr_dv_recep,\n",
    "    dte.dhdr_fch_emis,  # Asegúrate de que esta columna exista en dte\n",
    "    *doct.columns # Selecciona todas las columnas de 'ces'\n",
    ")\n",
    "\n",
    "# Agrega la columna 'cedido' para indicar si hay cruce\n",
    "dte_cesion = dte_cesion.withColumn(\n",
    "    \"cedido\",\n",
    "    F.when(doct.rdoc_folio.isNotNull(), \"Sí\").otherwise(\"No\")\n",
    ")\n",
    "\n"
   ]
  },
  {
   "cell_type": "code",
   "execution_count": null,
   "id": "3ca8c5fc-360c-494c-afba-3683102ace80",
   "metadata": {},
   "outputs": [],
   "source": [
    "# Realiza el left join con dte_cesion\n",
    "dte_cesion_det = cesion.join(\n",
    "    ces,  # Asumiendo que ya tienes el DataFrame 'ces'\n",
    "    dte_cesion.rdoc_codigo == ces.rdoc_codigo,  # Asegúrate de que esta columna exista\n",
    "    \"left\"  # Cambiado a left join\n",
    ").select(\n",
    "    dte_cesion.dhdr_folio,\n",
    "    dte_cesion.dhdr_rut_emisor,\n",
    "    dte_cesion.dhdr_rut_recep,\n",
    "    *ces.columns  # Selecciona todas las columnas de 'ces'\n",
    ")\n",
    "\n",
    "# Muestra el resultado (opcional)\n",
    "dte_cesion_det.show()"
   ]
  },
  {
   "cell_type": "code",
   "execution_count": null,
   "id": "7382b453-8128-4710-9fdb-9a859e7ec050",
   "metadata": {},
   "outputs": [],
   "source": [
    "# Agrupa por las columnas originales de dte y cuenta las veces que ha sido cedido\n",
    "result = dte_cesion_det.groupBy(\n",
    "    \"dhdr_folio\",\n",
    "    \"dtdc_codigo\",\n",
    "    \"dhdr_fch_emis\",\n",
    "    \"dhdr_rut_emisor\",\n",
    "    \"dhdr_dv_emisor\",\n",
    "    \"dhdr_rut_recep\",\n",
    "    \"dhdr_dv_recep\",\n",
    "    \"dhdr_mnt_total\",\n",
    "    \"dhdr_iva\"\n",
    ").agg(\n",
    "    F.count(F.when(F.col(\"cedido\") == \"Sí\", 1)).alias(\"veces_cedido\")  # Cuenta solo los cedidos\n",
    ")"
   ]
  },
  {
   "cell_type": "code",
   "execution_count": null,
   "id": "980329c9-c59e-44a6-ac2f-d0a5e2def316",
   "metadata": {},
   "outputs": [],
   "source": [
    "result.show()"
   ]
  },
  {
   "cell_type": "markdown",
   "id": "8bb31454-5585-4a24-b804-2ec33c8b8505",
   "metadata": {},
   "source": [
    "### Obtencion de documentos de RCV"
   ]
  },
  {
   "cell_type": "code",
   "execution_count": 18,
   "id": "5d70a574-5f0e-4699-a01d-eb8bea7a0c16",
   "metadata": {},
   "outputs": [],
   "source": [
    "rcv=spark.table(\"DWBGDATA.DCV_GENERIC_DET_CONSOLIDADO_SAS\")"
   ]
  },
  {
   "cell_type": "markdown",
   "id": "750c3c07-8d34-4705-9aef-bb816c0a079e",
   "metadata": {},
   "source": [
    "## Cruce con registros de RCV"
   ]
  },
  {
   "cell_type": "code",
   "execution_count": 21,
   "id": "e6370876-00ef-4deb-a8bc-806e072a19dd",
   "metadata": {},
   "outputs": [],
   "source": [
    "# Realiza el left join\n",
    "union= dte.join(\n",
    "    rcv,\n",
    "    (dte.dhdr_folio == rcv.det_folio_doc_ref) &\n",
    "    (dte.dhdr_rut_emisor ==rcv.dcv_rut_emisor_e) &\n",
    "    (dte.dhdr_rut_recep == rcv.det_rut_doc_e),\n",
    "    \"left\"\n",
    ")\n",
    "\n",
    "# Agrega una columna para indicar si hubo cruce\n",
    "union = union.withColumn(\n",
    "    \"cruce_rcv\",\n",
    "    F.when(rcv.det_folio_doc_ref.isNotNull(), \"Sí\").otherwise(\"No\")\n",
    ")\n"
   ]
  },
  {
   "cell_type": "code",
   "execution_count": 24,
   "id": "3bdb1073-89ca-49ba-930f-196b48b65174",
   "metadata": {},
   "outputs": [
    {
     "name": "stderr",
     "output_type": "stream",
     "text": [
      "[Stage 4:(1617 + -16) / 1601][Stage 52:(1605 + -4) / 1601][Stage 75:(4729 + -185) / 4544]\r"
     ]
    },
    {
     "name": "stdout",
     "output_type": "stream",
     "text": [
      "+----------+-----------+-------------------+--------------------+--------------+--------------------+-------------+--------------+--------+---------------+-------------------+--------------------+----------------+---------+\n",
      "|dhdr_folio|dtdc_codigo|      dhdr_fch_emis|     dhdr_rut_emisor|dhdr_dv_emisor|      dhdr_rut_recep|dhdr_dv_recep|dhdr_mnt_total|dhdr_iva|det_emisor_nota|        det_fch_doc|    det_fec_creacion|tipo_transaccion|cruce_rcv|\n",
      "+----------+-----------+-------------------+--------------------+--------------+--------------------+-------------+--------------+--------+---------------+-------------------+--------------------+----------------+---------+\n",
      "|    236667|         33|2022-02-21 03:00:00|/PYNca4wWu3+tVpNu...|             8|mbgkCuOzCjQu2ZZ5n...|            5|  300830.00000|   48032|           null|               null|                null|            null|       No|\n",
      "|      9007|         33|2022-02-21 03:00:00|+6vrg2K/QLKzxInTG...|             0|6am9XBKf4xLWX1Sbn...|            7|   35813.00000|    5718|           null|               null|                null|            null|       No|\n",
      "|   1336233|         33|2022-02-21 03:00:00|nmwCCLFzoo5kJLmqS...|             5|52lmUzfMMiXCHDio5...|            2| 2112295.00000|  337257|           null|               null|                null|            null|       No|\n",
      "|  82949210|         33|2022-02-21 03:00:00|Ko/7oJDTYvzpo74e3...|             8|UDYSCCYsNSDWb7RkQ...|            9|  131835.00000|   21050|           null|               null|                null|            null|       No|\n",
      "|     15140|         33|2022-02-21 03:00:00|+6pOaA2SQw/9lRHUz...|             K|jOX7AA+Jouf5fPYSl...|            5|  232000.00000|   37042|           null|               null|                null|            null|       No|\n",
      "| 116796630|         33|2022-02-21 03:00:00|fNbGIovmthwhGeUH+...|             K|I8nZZoGjyVbJ4+fgg...|            7|  170303.00000|   27191|           null|               null|                null|            null|       No|\n",
      "|      5438|         33|2022-02-21 03:00:00|6IRbKQ3u2WGAfeXjT...|             K|AnYtbLBchx3uaIHHR...|            1|  221720.00000|   35401|           null|               null|                null|            null|       No|\n",
      "|    344872|         33|2022-02-21 03:00:00|6GzfTTPKe1eshBB/z...|             8|CRD8Fm/32wT9ptCAz...|            9|    7990.00000|    1276|           null|               null|                null|            null|       No|\n",
      "|      6977|         33|2022-02-21 03:00:00|YJQho7VFPc6vE3Zls...|             9|sy2Etu6OJN4weWTEN...|            7|    6000.00000|     958|           null|               null|                null|            null|       No|\n",
      "|     13206|         33|2022-02-21 03:00:00|UCAD7xgmD3fIWs/vc...|             7|aI05H/8Nban3YezAe...|            K| 1087482.00000|  173632|           null|2023-12-20 03:00:00|2023-12-20 18:40:...|               1|       Sí|\n",
      "|     13206|         33|2022-02-21 03:00:00|UCAD7xgmD3fIWs/vc...|             7|aI05H/8Nban3YezAe...|            K| 1087482.00000|  173632|           null|2023-12-12 03:00:00|2023-12-12 13:09:...|               1|       Sí|\n",
      "|     13206|         33|2022-02-21 03:00:00|UCAD7xgmD3fIWs/vc...|             7|aI05H/8Nban3YezAe...|            K| 1087482.00000|  173632|           null|2022-03-02 03:00:00|2022-03-02 13:58:...|               1|       Sí|\n",
      "+----------+-----------+-------------------+--------------------+--------------+--------------------+-------------+--------------+--------+---------------+-------------------+--------------------+----------------+---------+\n",
      "\n"
     ]
    },
    {
     "name": "stderr",
     "output_type": "stream",
     "text": [
      "[Stage 4:(1617 + -16) / 1601][Stage 52:(1605 + -4) / 1601][Stage 75:(4729 + -185) / 4544]\r"
     ]
    }
   ],
   "source": [
    "# Selecciona todas las columnas originales de dte y las columnas específicas de rcv\n",
    "df_final = union.select(\n",
    "    dte.dhdr_folio,\n",
    "    dte.dtdc_codigo,\n",
    "    dte.dhdr_fch_emis,\n",
    "    dte.dhdr_rut_emisor,\n",
    "    dte.dhdr_dv_emisor,\n",
    "    dte.dhdr_rut_recep,\n",
    "    dte.dhdr_dv_recep,\n",
    "    dte.dhdr_mnt_total,\n",
    "    dte.dhdr_iva,\n",
    "    rcv.det_emisor_nota,\n",
    "    rcv.det_fch_doc,\n",
    "    rcv.det_fec_creacion,\n",
    "    rcv.tipo_transaccion,\n",
    "    F.when(rcv.det_folio_doc_ref.isNotNull(), \"Sí\").otherwise(\"No\").alias(\"cruce_rcv\")\n",
    ")\n",
    "\n",
    "# Muestra el resultado\n",
    "df_final.show()\n"
   ]
  },
  {
   "cell_type": "markdown",
   "id": "545ebbe3-6220-4046-b3a7-8c2658a79917",
   "metadata": {},
   "source": [
    "### Cesion de documentos"
   ]
  },
  {
   "cell_type": "code",
   "execution_count": 33,
   "id": "c3101d41-777b-4f76-83a8-a374173397ed",
   "metadata": {},
   "outputs": [],
   "source": []
  },
  {
   "cell_type": "code",
   "execution_count": 20,
   "id": "67fd752b-a1a1-47e7-9942-d7b790260340",
   "metadata": {},
   "outputs": [],
   "source": [
    "spark.stop()"
   ]
  },
  {
   "cell_type": "code",
   "execution_count": null,
   "id": "703ecbed-af7e-4c0f-b2ec-0582f68417f0",
   "metadata": {},
   "outputs": [],
   "source": []
  },
  {
   "cell_type": "code",
   "execution_count": null,
   "id": "c05352d5-0ec0-4887-9431-638ede588f67",
   "metadata": {},
   "outputs": [],
   "source": []
  },
  {
   "cell_type": "code",
   "execution_count": null,
   "id": "c09d9bc5-3320-4c6e-ba2f-953febb2d670",
   "metadata": {},
   "outputs": [],
   "source": []
  }
 ],
 "metadata": {
  "kernelspec": {
   "display_name": "Python 3 (ipykernel)",
   "language": "python",
   "name": "python3"
  },
  "language_info": {
   "codemirror_mode": {
    "name": "ipython",
    "version": 3
   },
   "file_extension": ".py",
   "mimetype": "text/x-python",
   "name": "python",
   "nbconvert_exporter": "python",
   "pygments_lexer": "ipython3",
   "version": "3.11.6"
  }
 },
 "nbformat": 4,
 "nbformat_minor": 5
}
