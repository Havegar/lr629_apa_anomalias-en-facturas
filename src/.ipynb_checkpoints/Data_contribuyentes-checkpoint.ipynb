{
 "cells": [
  {
   "cell_type": "markdown",
   "id": "dc48932f-fdbd-4827-9377-a27eaa85cd3b",
   "metadata": {},
   "source": [
    "## Proceso ETL data contribuyentes"
   ]
  },
  {
   "cell_type": "code",
   "execution_count": 1,
   "id": "33feb54d-5a80-4494-beed-f1b90ff5fc05",
   "metadata": {},
   "outputs": [],
   "source": [
    "##Se importan packages necesarios\n",
    "from pyspark.sql import SparkSession\n",
    "from pyspark.sql.functions import *\n",
    "from pyspark import SparkContext, SparkConf\n",
    "import pyspark\n",
    "import pandas as pd\n",
    "import warnings\n",
    "warnings.filterwarnings('ignore', category=DeprecationWarning)\n",
    "from pyspark.sql.types import StringType,TimestampType\n",
    "import matplotlib.pyplot as plt\n",
    "from pyspark.sql import functions as F"
   ]
  },
  {
   "cell_type": "code",
   "execution_count": 2,
   "id": "651494d9-04fe-4007-b20f-661c8eb291b2",
   "metadata": {},
   "outputs": [
    {
     "name": "stderr",
     "output_type": "stream",
     "text": [
      "Setting spark.hadoop.yarn.resourcemanager.principal to hvega.externo\n"
     ]
    }
   ],
   "source": [
    "#inicio de sesion en spark\n",
    "ss_name = 'Lectura de datos Dashboard'\n",
    "wg_conn = \"spark.kerberos.access.hadoopFileSystems\"\n",
    "db_conn = \"abfs://data@datalakesii.dfs.core.windows.net/\"\n",
    "\n",
    "spark = SparkSession.builder \\\n",
    "      .appName(f\"Ejecucion algoritmo {ss_name}\")  \\\n",
    "      .config(wg_conn, db_conn) \\\n",
    "      .config(\"spark.executor.memory\", \"6g\") \\\n",
    "      .config(\"spark.driver.memory\", \"12g\")\\\n",
    "      .config(\"spark.executor.cores\", \"4\") \\\n",
    "      .config(\"spark.executor.instances\", \"5\") \\\n",
    "      .config(\"spark.driver.maxResultSize\", \"12g\") \\\n",
    "      .getOrCreate()\n",
    "\n",
    "spark.sparkContext.setLogLevel(\"ERROR\")\n",
    "\n",
    "spark.conf.set(\"spark.sql.parquet.enableVectorizedReader\",\"false\")\n",
    "spark.conf.set(\"spark.sql.parquet.int96RebaseModeInRead\", \"CORRECTED\")\n",
    "spark.conf.set(\"spark.sql.parquet.int96RebaseModeInWrite\", \"CORRECTED\")\n",
    "spark.conf.set(\"spark.sql.parquet.datetimeRebaseModeInRead\", \"CORRECTED\")\n",
    "spark.conf.set(\"spark.sql.parquet.datetimeRebaseModeInWrite\", \"CORRECTED\")\n",
    "spark.conf.set(\"spark.sql.debug.maxToStringFields\", \"2000\")"
   ]
  },
  {
   "cell_type": "markdown",
   "id": "2c2ffaea-1abf-4466-a050-d34dc5536330",
   "metadata": {},
   "source": [
    "## Segmento del contribuyente"
   ]
  },
  {
   "cell_type": "code",
   "execution_count": 3,
   "id": "7e43d85c-48cb-4347-b224-f034460a177e",
   "metadata": {},
   "outputs": [
    {
     "name": "stderr",
     "output_type": "stream",
     "text": [
      "Hive Session ID = c73ef268-2071-4b40-a362-ca1924c375b6\n"
     ]
    }
   ],
   "source": [
    "# Cargar las tablas\n",
    "df_contribuyentes = spark.table(\"DW.DW_TRN_CONTRIBUYENTES_E\")\n",
    "df_atributos_contrib = spark.table(\"DW.DW_TRN_RIAC_ATRIBUTO_CONTRIB_E\")\n",
    "df_atributo_dim = spark.table(\"DW.DW_DIM_ATRIBUTO_CONTRIB\")"
   ]
  },
  {
   "cell_type": "code",
   "execution_count": 4,
   "id": "de4cefd5-7f10-4f7f-a51c-2276887716b3",
   "metadata": {},
   "outputs": [],
   "source": [
    "# Crear la tabla temporal #SGM_I\n",
    "df_sgm_i = df_contribuyentes.alias(\"t1\") \\\n",
    "    .join(df_atributos_contrib.alias(\"t3\"), \n",
    "           df_contribuyentes[\"CONT_RUT\"] == df_atributos_contrib[\"CONT_RUT\"], \n",
    "           \"left\") \\\n",
    "    .join(df_atributo_dim.alias(\"t4\"), \n",
    "           (df_atributos_contrib[\"TATR_CODIGO\"] == df_atributo_dim[\"TATR_CODIGO\"]) & \n",
    "           (df_atributos_contrib[\"ATRC_FECHA_TERMINO\"].isNull()) & \n",
    "           (df_atributos_contrib[\"ATRC_VIGENTE\"] == 1) & \n",
    "           (df_atributos_contrib[\"TATR_CODIGO\"].isin(['SGGC', 'SGME', 'SGMI', 'SGPM', 'SGPE']))) \\\n",
    "    .select(\n",
    "        F.col(\"t1.CONT_RUT\"),\n",
    "        F.col(\"t1.CONT_DV\"),\n",
    "        F.col(\"t3.ATRC_VIGENTE\"),\n",
    "        F.col(\"t4.TATR_VIGENTE\"),\n",
    "        F.col(\"t3.TATR_CODIGO\"),\n",
    "        F.when(F.col(\"t3.TATR_CODIGO\") == 'SGGC', 5)\n",
    "         .when(F.col(\"t3.TATR_CODIGO\") == 'SGME', 4)\n",
    "         .when(F.col(\"t3.TATR_CODIGO\") == 'SGPM', 3)\n",
    "         .when(F.col(\"t3.TATR_CODIGO\") == 'SGMI', 2)\n",
    "         .when(F.col(\"t3.TATR_CODIGO\") == 'SGPE', 1).alias(\"SGM_NUM\"),\n",
    "        F.col(\"t3.ATRC_FECHA_INICIO\"),\n",
    "        (F.year(F.col(\"t3.ATRC_FECHA_INICIO\")) * 10000 +\n",
    "         F.month(F.col(\"t3.ATRC_FECHA_INICIO\")) * 100 +\n",
    "         F.dayofmonth(F.col(\"t3.ATRC_FECHA_INICIO\"))).alias(\"DIA_AGNO\"),\n",
    "        F.col(\"t4.TATR_DESCRIPCION\")\n",
    "    )\n",
    "\n",
    "# Crear una vista temporal\n",
    "df_sgm_i.createOrReplaceTempView(\"SGM_I\")\n"
   ]
  },
  {
   "cell_type": "code",
   "execution_count": 5,
   "id": "ec925118-a402-4684-a01a-07972b53a3ae",
   "metadata": {},
   "outputs": [
    {
     "data": {
      "text/plain": [
       "['CONT_RUT',\n",
       " 'CONT_DV',\n",
       " 'ATRC_VIGENTE',\n",
       " 'TATR_VIGENTE',\n",
       " 'TATR_CODIGO',\n",
       " 'SGM_NUM',\n",
       " 'ATRC_FECHA_INICIO',\n",
       " 'DIA_AGNO',\n",
       " 'TATR_DESCRIPCION']"
      ]
     },
     "execution_count": 5,
     "metadata": {},
     "output_type": "execute_result"
    }
   ],
   "source": [
    "df_sgm_i.columns"
   ]
  },
  {
   "cell_type": "code",
   "execution_count": 6,
   "id": "b966ad8b-9f39-48b6-9ae3-4ef2a8ae8758",
   "metadata": {},
   "outputs": [
    {
     "name": "stderr",
     "output_type": "stream",
     "text": [
      "                                                                                \r"
     ]
    },
    {
     "data": {
      "text/plain": [
       "29098582"
      ]
     },
     "execution_count": 6,
     "metadata": {},
     "output_type": "execute_result"
    }
   ],
   "source": [
    "df_sgm_i.select('CONT_RUT').distinct().count()"
   ]
  },
  {
   "cell_type": "code",
   "execution_count": 7,
   "id": "6b14fccb-2419-4666-b35c-09a6c5cc94e3",
   "metadata": {},
   "outputs": [],
   "source": [
    "# Crear la tabla temporal #SGM_FM\n",
    "df_sgm_fm = spark.sql(\"\"\"\n",
    "    SELECT \n",
    "        COALESCE(AL1.CONT_RUT, AL2.CONT_RUT) AS CONT_RUT, \n",
    "        COALESCE(AL1.CONT_DV, AL2.CONT_DV) AS CONT_DV, \n",
    "        AL1.FECHA_INI_M, \n",
    "        AL2.ATRC_FECHA_INICIO, \n",
    "        AL2.TATR_CODIGO, \n",
    "        AL2.SGM_NUM, \n",
    "        AL2.DIA_AGNO\n",
    "    FROM  \n",
    "        (SELECT \n",
    "            A1.CONT_RUT, \n",
    "            A1.CONT_DV, \n",
    "            MAX(A1.ATRC_FECHA_INICIO) AS FECHA_INI_M\n",
    "        FROM \n",
    "            SGM_I A1\n",
    "        GROUP BY \n",
    "            A1.CONT_RUT, A1.CONT_DV) AL1\n",
    "    JOIN \n",
    "        SGM_I AL2 ON AL1.FECHA_INI_M = AL2.ATRC_FECHA_INICIO \n",
    "        AND AL1.CONT_RUT = AL2.CONT_RUT\n",
    "\"\"\")\n",
    "\n",
    "df_sgm_fm.createOrReplaceTempView(\"SGM_FM\")"
   ]
  },
  {
   "cell_type": "code",
   "execution_count": 8,
   "id": "29cca672-90da-4990-b46c-7e5d4b7b18a8",
   "metadata": {
    "scrolled": true
   },
   "outputs": [],
   "source": [
    "# Crear la tabla temporal #SGM_TRN_FINAL con las columnas adicionales\n",
    "df_sgm_trn_final = spark.sql(\"\"\"\n",
    "    SELECT \n",
    "        COALESCE(AL1.CONT_RUT, AL2.CONT_RUT) AS CONT_RUT, \n",
    "        COALESCE(AL1.CONT_DV, AL2.CONT_DV) AS CONT_DV, \n",
    "        AL2.DIA_AGNO as INICIO_SEGMENTO,\n",
    "        -- Agregar columna de Segmento de Empresa\n",
    "        CASE \n",
    "            WHEN AL2.TATR_CODIGO = 'SGGC' THEN 'Segmento Grandes Empresas/Contribuyentes'\n",
    "            WHEN AL2.TATR_CODIGO = 'SGME' THEN 'Segmento Medianas Empresas'\n",
    "            WHEN AL2.TATR_CODIGO = 'SGPM' THEN 'Segmento Pequeñas Empresas'\n",
    "            WHEN AL2.TATR_CODIGO = 'SGMI' THEN 'Segmento Micro Empresas'\n",
    "            ELSE NULL\n",
    "        END AS ES_EMPRESA,\n",
    "        -- Agregar columna para indicar si es persona o no\n",
    "        CASE \n",
    "            WHEN AL2.TATR_CODIGO = 'SGPE' THEN 1 -- Si es persona\n",
    "            ELSE NULL -- Si no es persona\n",
    "        END AS ES_PERSONA\n",
    "    FROM \n",
    "        (SELECT \n",
    "            A1.CONT_RUT, \n",
    "            A1.CONT_DV, \n",
    "            MAX(A1.SGM_NUM) AS SGM_NUM_MAX\n",
    "        FROM \n",
    "            SGM_FM A1\n",
    "        GROUP BY \n",
    "            A1.CONT_RUT, A1.CONT_DV) AL1\n",
    "    JOIN \n",
    "        SGM_FM AL2 ON AL1.SGM_NUM_MAX = AL2.SGM_NUM \n",
    "        AND AL1.CONT_RUT = AL2.CONT_RUT\n",
    "\"\"\")\n",
    "# Mostrar el resultado\n",
    "#df_sgm_trn_final=df_sgm_trn_final.sample(withReplacement=False, fraction=0.1).limit(3)\n",
    "#df_sgm_trn_final.show()\n"
   ]
  },
  {
   "cell_type": "code",
   "execution_count": null,
   "id": "147440b6-ff1a-42d2-93ef-bde01160896b",
   "metadata": {},
   "outputs": [],
   "source": [
    "\n",
    "# Analizamos si tenemos valores unicos de CONT_RUT para evitar tener mas de una fila con informacion por contribuyente\n",
    "df_sgm_trn_final.select('CONT_RUT').count()"
   ]
  },
  {
   "cell_type": "code",
   "execution_count": null,
   "id": "7b94c613-6bc3-4aa3-883a-3eec30b8dbca",
   "metadata": {},
   "outputs": [],
   "source": [
    "df_sgm_trn_final.select('CONT_RUT').distinct().count()"
   ]
  },
  {
   "cell_type": "markdown",
   "id": "6856bbeb-5e97-4262-9319-017157bd0fb1",
   "metadata": {},
   "source": [
    "### Tabla DW.DW_TRN_ALERTAS_E \n",
    "-----------------------------------------------------------------------------------------------------------------"
   ]
  },
  {
   "cell_type": "code",
   "execution_count": null,
   "id": "31e42553-da4b-4087-9974-4c40224be3ba",
   "metadata": {},
   "outputs": [],
   "source": [
    "dw_trn_alertas = spark.sql(\"\"\"\n",
    "SELECT \n",
    "    CONT_RUT,\n",
    "    CONT_DV,\n",
    "    CASE \n",
    "        WHEN ALER_COD_TIPO_ALERTA_VO BETWEEN 4001 AND 4007 \n",
    "        THEN 'DELITO/QUERELLA' \n",
    "        ELSE ALER_DESC_TIPO_ALERTA_VO \n",
    "    END AS ALER_DESC_TIPO_ALERTA_VO,\n",
    "    UNOP_UNIDAD_ACTIV,\n",
    "    ALER_FECHA_ACTIV_VO,\n",
    "    CASE WHEN ALER_COD_TIPO_ALERTA_VO LIKE '400%' THEN '400X'\n",
    "    ELSE ALER_COD_TIPO_ALERTA_VO END AS ALER_COD_TIPO_ALERTA_VO\n",
    "FROM \n",
    "    DW.DW_TRN_ALERTAS_E \n",
    "WHERE \n",
    "    ALER_COD_TIPO_ALERTA_VO IN (4110, 4111, 4112, 4113, 52, 5201, 5203, 53, 5301, 2250, 1019, 4001, 4002, 4004, 4005, 4006, 4007) \n",
    "    AND ALER_FECHA_DESACTIV_VO IS NULL\n",
    "\"\"\").distinct()\n",
    "#count=13351059\n",
    "\n",
    "# Agrupar por ALER_DESC_TIPO_ALERTA_VO y contar, luego ordenar en orden descendente\n",
    "agrupacion_alertas = dw_trn_alertas.groupBy(\"ALER_DESC_TIPO_ALERTA_VO\").count().orderBy(\"count\", ascending=False)\n",
    "\n",
    "#Por el momento y dado que hay un solo registro, dejamps fuera el codigo 2046 de domicilio inexistente  \n",
    "# Mostrar los resultados\n",
    "agrupacion_alertas.show()\n"
   ]
  },
  {
   "cell_type": "code",
   "execution_count": null,
   "id": "29d56001-82a3-429d-869d-f5368d38a09d",
   "metadata": {},
   "outputs": [],
   "source": [
    "\n",
    "# Pivotear los datos y agregar prefijo \"Alerta_\" a las columnas\n",
    "pivot_alertas = dw_trn_alertas.groupBy(\"CONT_RUT\", \"CONT_DV\") \\\n",
    "    .pivot(\"ALER_COD_TIPO_ALERTA_VO\") \\\n",
    "    .agg(F.first(\"ALER_COD_TIPO_ALERTA_VO\"))\n",
    "\n",
    "# Renombrar las columnas con prefijo \"Alerta_\"\n",
    "for col_name in pivot_alertas.columns:\n",
    "    if col_name not in [\"CONT_RUT\", \"CONT_DV\"]:  # Evitar cambiar las columnas de identificación\n",
    "        pivot_alertas = pivot_alertas.withColumnRenamed(col_name, f\"Alerta_{col_name}\")\n",
    "\n",
    "# Transformar los valores a 1 o 0\n",
    "pivot_alertas = pivot_alertas.select(\n",
    "    \"CONT_RUT\",\n",
    "    \"CONT_DV\",\n",
    "    *[(F.when(F.col(col).isNotNull(), 1).otherwise(0).alias(col)) for col in pivot_alertas.columns if col not in [\"CONT_RUT\", \"CONT_DV\"]]\n",
    ").distinct()\n",
    "\n",
    "\n",
    "#count=13351059\n",
    "#dw_trn_alertas=pivot_alertas.sample(withReplacement=False, fraction=0.1).limit(3)\n",
    "\n",
    "pivot_alertas.limit(5).show()"
   ]
  },
  {
   "cell_type": "markdown",
   "id": "627c161d-5b30-4bbb-b67b-b467d9b06988",
   "metadata": {},
   "source": [
    "## Direccion regional"
   ]
  },
  {
   "cell_type": "code",
   "execution_count": null,
   "id": "01c1bdfc-8fb4-432e-9c8a-fd54ae248d3f",
   "metadata": {},
   "outputs": [],
   "source": [
    "df_negocios_nom = spark.table(\"DW.DW_TRN_NEGOCIOS_E\")\n",
    "df_unidad_operativa  = spark.table(\"DW.DW_DIM_UNIDAD_OPERATIVA\")"
   ]
  },
  {
   "cell_type": "code",
   "execution_count": null,
   "id": "1fc2f025-ffe0-4e7c-b91c-563a21040643",
   "metadata": {},
   "outputs": [],
   "source": [
    "df_negocios_nom.columns"
   ]
  },
  {
   "cell_type": "code",
   "execution_count": null,
   "id": "c1af5fc3-122c-484e-be7f-20d0f5ae1c99",
   "metadata": {},
   "outputs": [],
   "source": [
    "\n",
    "df_negocios_nom.createOrReplaceTempView(\"DW_TRN_NEGOCIOS_NOM\")\n",
    "df_unidad_operativa.createOrReplaceTempView(\"DW_DIM_UNIDAD_OPERATIVA\")\n",
    "df_negocios_nom.columns\n"
   ]
  },
  {
   "cell_type": "code",
   "execution_count": null,
   "id": "a1b35641-8564-4f22-baeb-13381d768bd6",
   "metadata": {},
   "outputs": [],
   "source": [
    "#Verificamos para un rut en particular las entradas y fechas relacionadas. Escogemso fecha de modificacion para encontra rle maximoregistro\n",
    "spark.sql(' SELECT AUX.CONT_RUT, AUX.CONT_DV,NEGO_FECHA_CREACION_VO,NEGO_FECHA_IND_VERIFICACION_VO,NEGO_FECHA_INICIO_VO,NEGO_FECHA_MODIFICACION_VO,NEGO_FECHA_VIGENCIA FROM DW_TRN_NEGOCIOS_NOM AUX where CONT_RUT like \"++DZAjc7cVaoNs7R%\" ').show()"
   ]
  },
  {
   "cell_type": "code",
   "execution_count": null,
   "id": "dc9bff6d-4df4-416b-9e67-2c9004bb93c5",
   "metadata": {},
   "outputs": [],
   "source": [
    "# Consulta SQL\n",
    "query = \"\"\"\n",
    "SELECT BL1.CONT_RUT, BL1.CONT_DV, BL1.UNOP_UNIDAD as UNOP_UNIDAD_I, BL1.UNOP_UNIDAD_GRAN_CONT, \n",
    "       BL2.UNOP_UNIDAD, \n",
    "       BL2.UNOP_COD_REGIONAL AS UNOP_COD_REGIONAL_I, \n",
    "       (CASE  \n",
    "          WHEN CAST(CASE  \n",
    "              WHEN BL1.UNOP_UNIDAD_GRAN_CONT IS NULL OR BL1.UNOP_UNIDAD_GRAN_CONT = '-9999'\n",
    "              THEN BL1.UNOP_UNIDAD\n",
    "              ELSE BL1.UNOP_UNIDAD_GRAN_CONT\n",
    "              END AS FLOAT) >= 17000\n",
    "          AND \n",
    "          CAST(CASE  \n",
    "              WHEN BL1.UNOP_UNIDAD_GRAN_CONT IS NULL OR BL1.UNOP_UNIDAD_GRAN_CONT = '-9999'\n",
    "              THEN BL1.UNOP_UNIDAD\n",
    "              ELSE BL1.UNOP_UNIDAD_GRAN_CONT\n",
    "              END AS FLOAT) < 18000\n",
    "          THEN 17\n",
    "          ELSE BL2.UNOP_COD_REGIONAL\n",
    "       END) AS UNOP_COD_REGIONAL,\n",
    "       BL1.NEGO_IND_EXPORTADOR_VO,\n",
    "       BL1.NEGO_IND_PRIMERA_EXP_VO,\n",
    "       BL1.NEGO_IND_VERIFICACION_VO,\n",
    "       BL1.NEGO_NRO_FACTURAS_6MESES_VO,\n",
    "       BL1.NEGO_NRO_FACTURAS_6MESES_VO\n",
    "       \n",
    "FROM (\n",
    "   SELECT AL2.CONT_RUT, AL2.CONT_DV, AL2.UNOP_UNIDAD, AL2.UNOP_UNIDAD_GRAN_CONT,AL2.NEGO_IND_EXPORTADOR_VO,AL2.NEGO_IND_PRIMERA_EXP_VO,AL2.NEGO_IND_VERIFICACION_VO,AL2.NEGO_NRO_FACTURAS_6MESES_VO\n",
    "   FROM (\n",
    "      SELECT AUX.CONT_RUT, AUX.CONT_DV, MAX(NEGO_FECHA_VIGENCIA) as NEGO_FECHA_VIGENCIA\n",
    "      FROM DW_TRN_NEGOCIOS_NOM AUX \n",
    "      GROUP BY AUX.CONT_RUT, AUX.CONT_DV\n",
    "   ) AL1\n",
    "   JOIN DW_TRN_NEGOCIOS_NOM AL2\n",
    "   ON AL1.CONT_RUT = AL2.CONT_RUT AND AL1.NEGO_FECHA_VIGENCIA = AL2.NEGO_FECHA_VIGENCIA\n",
    ") BL1\n",
    "JOIN DW_DIM_UNIDAD_OPERATIVA BL2\n",
    "ON BL1.UNOP_UNIDAD = BL2.UNOP_UNIDAD\n",
    "\"\"\"\n",
    "df_negocio = spark.sql(query).distinct()\n",
    "### Ante la falta de una fecha de carga en el data warehouse se escoge el negocio con la fecha de vigencia mas reciente"
   ]
  },
  {
   "cell_type": "markdown",
   "id": "b5058722-0ebf-4418-b281-00fd26c603f0",
   "metadata": {},
   "source": [
    "### Tabla DW.DW_HEC_CONT_COMPORTAMIENTO_E \n",
    "-----------------------------------------------------------------------------------------------------------------"
   ]
  },
  {
   "cell_type": "code",
   "execution_count": null,
   "id": "fc6d1eac-62f2-4eb1-9204-93d775d18fce",
   "metadata": {},
   "outputs": [],
   "source": [
    "spark.sql('select CONT_RUT ,COCO_FECHA_CARGA_DW,COCO_AGNO_COMERCIAL from DW.DW_HEC_CONT_COMPORTAMIENTO_E where CONT_RUT like \"MMjMmHvg0zm+0U9%\" ').show()"
   ]
  },
  {
   "cell_type": "code",
   "execution_count": null,
   "id": "d1ec98ef-ef36-4980-8d4d-79b985de893a",
   "metadata": {
    "scrolled": true
   },
   "outputs": [],
   "source": [
    "from pyspark.sql import Window\n",
    "import pyspark.sql.functions as F\n",
    "\n",
    "# Definir una ventana por CONT_RUT ordenada por COCO_AGNO_COMERCIAL descendente\n",
    "window_spec = Window.partitionBy(\"CONT_RUT\").orderBy(F.desc(\"COCO_AGNO_COMERCIAL\"))\n",
    "\n",
    "# Seleccionar los datos de la tabla con la fila de mayor COCO_AGNO_COMERCIAL para cada CONT_RUT\n",
    "comportamiento = spark.sql(\"\"\"\n",
    "SELECT \n",
    "    CONT_RUT,\n",
    "    CONT_DV,\n",
    "    COCO_IMP_VENTAS_IVA,\n",
    "    COCO_IMP_VENTAS_TRANSPORTE,\n",
    "    COCO_MCA_1_CATEGORIA,\n",
    "    COCO_MCA_2_CATEGORIA,\n",
    "    COCO_MCA_AFECTO_IMPTO_ADIC,\n",
    "    COCO_MCA_AFECTO_IMPTO_UNICO,\n",
    "    COCO_MCA_DOBLE_DECL_F22,\n",
    "    COCO_MCA_DONACIONES_CULTURALES,\n",
    "    COCO_MCA_DONACIONES_DEPORTIVAS,\n",
    "    COCO_MCA_DONACIONES_EDUCACIONALES,\n",
    "    COCO_MCA_DONACIONES_POLITICAS,\n",
    "    COCO_MCA_DONACIONES_UNIVERSIDAD,\n",
    "    COCO_MCA_ES_EMPRESA,\n",
    "    COCO_MCA_ES_GRAN_CONT,\n",
    "    COCO_MCA_ES_MINERA,\n",
    "    COCO_MCA_GLOBAL_COMPLE,\n",
    "    COCO_MCA_IMP_PPM_FONDO_MUTUO,\n",
    "    COCO_MCA_IMP_SOC_PROC,\n",
    "    COCO_MCA_SIN_CLAS_IMP,\n",
    "    COCO_MCA_TIPO_IMP,\n",
    "    COCO_MTO_DEV_SOLICITADA_F22,\n",
    "    COCO_MTO_VENTAS,\n",
    "    TICO_SUB_TPO_CONTR,\n",
    "    TRRE_COD_TMO_RTA,\n",
    "    TRVE_COD_TMO_VTA,\n",
    "    UNOP_UNIDAD_GRAN_CONT as UNIDAD_GRAN_CONTRIBUYENTE_COMPORTAMIENTO,\n",
    "    COMU_COD_COMUNA_PRINCIPAL,\n",
    "    COCO_AGNO_COMERCIAL\n",
    "FROM \n",
    "    DW.DW_HEC_CONT_COMPORTAMIENTO_E\n",
    "\"\"\")\n",
    "\n",
    "# Aplicar la ventana y filtrar solo la fila con el mayor COCO_AGNO_COMERCIAL para cada CONT_RUT\n",
    "df_comportamiento = comportamiento.withColumn(\n",
    "    \"row_number\", \n",
    "    F.row_number().over(window_spec)\n",
    ").filter(F.col(\"row_number\") == 1).drop(\"row_number\")\n",
    "\n",
    "#count=87547893\n",
    "#df_comportamiento=comportamiento.sample(withReplacement=False, fraction=0.1).limit(3)"
   ]
  },
  {
   "cell_type": "markdown",
   "id": "6550b47e-30dc-4f7d-ba8e-a74705fc94e0",
   "metadata": {},
   "source": [
    "### Tabla Actividad económica principal\n",
    "-----------------------------------------------------------------------------------------------------------------"
   ]
  },
  {
   "cell_type": "code",
   "execution_count": null,
   "id": "c55aad46-ecd3-456f-b1b2-fd3ea328d526",
   "metadata": {},
   "outputs": [],
   "source": [
    "df_hec_cont = spark.table(\"DW.DW_HEC_CONT_COMPORTAMIENTO_E\")\n",
    "df_dim_actividad = spark.table(\"DW.DW_DIM_ACTIVIDAD_ECONOMICA_E\")\n",
    "df_trn_actividad = spark.table(\"DW.DW_TRN_ACTIVIDAD_ECONOMICA_E\")\n",
    "\n",
    "# Realizar JOINs\n",
    "joined_df = df_hec_cont.alias(\"AL1\") \\\n",
    "    .join(df_trn_actividad.alias(\"AL3\"), \n",
    "          (F.col(\"AL1.CONT_RUT\") == F.col(\"AL3.CONT_RUT\")) & \n",
    "          (F.col(\"AL1.CONT_DV\") == F.col(\"AL3.CONT_DV\"))) \\\n",
    "    .join(df_dim_actividad.alias(\"AL2\"), \n",
    "          F.col(\"AL1.ACEC_COD_ACTECO_PRINCIPAL\") == F.col(\"AL2.ACEC_COD_ACTECO\")) \\\n",
    "    .filter((F.col(\"AL1.ACEC_COD_ACTECO_PRINCIPAL\") == F.col(\"AL3.ACTECO_COD_ACTECO\")) & \n",
    "            (F.col(\"AL1.PERI_AGNO_TRIBUTARIO_RENTA\") == 202300) & \n",
    "            (F.col(\"AL3.ACTECO_VIGENCIA\") == 'S'))\n",
    "\n",
    "\n",
    "acteco_principal = joined_df.select(\n",
    "    F.col(\"AL1.CONT_RUT\"),\n",
    "    F.col(\"AL1.CONT_DV\"),\n",
    "#    F.col(\"AL1.ACEC_COD_ACTECO_PRINCIPAL\"),\n",
    "    F.col(\"AL2.ACEC_DES_ACTECO\").alias(\"ACEC_DES_ACTECO_PPAL\"),\n",
    "#    F.col(\"AL2.ACEC_COD_RUBRO\").alias(\"ACEC_COD_RUBRO_AP\"),\n",
    "    F.col(\"AL2.ACEC_DES_RUBRO\").alias(\"ACEC_DES_RUBRO_PPAL\"),\n",
    "#    F.col(\"AL2.ACEC_COD_SUBRUBRO\").alias(\"ACEC_COD_SUBRUBRO_AP\"),\n",
    "    F.col(\"AL2.ACEC_DES_SUBRUBRO\").alias(\"ACEC_DES_SUBRUBRO_PPAL\")\n",
    ").distinct()\n",
    "\n",
    "\n",
    "#acteco_principal=acteco_principal.sample(withReplacement=False, fraction=0.1).limit(3)\n",
    "acteco_principal.show()"
   ]
  },
  {
   "cell_type": "code",
   "execution_count": null,
   "id": "a10241f5-4643-4bad-afbc-3a0bd63e7f7b",
   "metadata": {},
   "outputs": [],
   "source": [
    "acteco_principal.select('CONT_RUT').count()"
   ]
  },
  {
   "cell_type": "code",
   "execution_count": null,
   "id": "aee13b4b-31f8-4059-9512-a5794ab7125c",
   "metadata": {},
   "outputs": [],
   "source": [
    "acteco_principal.select('CONT_RUT').distinct().count()"
   ]
  },
  {
   "cell_type": "markdown",
   "id": "3ec29569-d3e7-47c8-bc42-e1960f31ce0b",
   "metadata": {},
   "source": [
    "## Cruce de tabla de segmentos con alertas"
   ]
  },
  {
   "cell_type": "code",
   "execution_count": null,
   "id": "00bc9353-303a-48e2-9405-34fb564185ae",
   "metadata": {},
   "outputs": [],
   "source": [
    "# Realizar el full outer join entre df_sgm_trn_final y dw_trn_alertas\n",
    "result = df_sgm_trn_final.join(\n",
    "    dw_trn_alertas, \n",
    "    on=[\"CONT_RUT\", \"CONT_DV\"], \n",
    "    how=\"full_outer\"\n",
    ")\n",
    "\n",
    "# Seleccionar todas las columnas de ambas tablas y asegurar que CONT_RUT y CONT_DV aparezcan una sola vez\n",
    "result = result.select(\"CONT_RUT\", \"CONT_DV\", \n",
    "                       \"INICIO_SEGMENTO\", \n",
    "                       \"ES_EMPRESA\", \n",
    "                       \"ES_PERSONA\", \n",
    "                       \"Alerta_1019\", \n",
    "                       \"Alerta_2250\", \n",
    "                       \"Alerta_400X\", \n",
    "                       \"Alerta_4110\", \n",
    "                       \"Alerta_4111\", \n",
    "                       \"Alerta_4112\", \n",
    "                       \"Alerta_4113\", \n",
    "                       \"Alerta_52\", \n",
    "                       \"Alerta_5201\", \n",
    "                       \"Alerta_5203\", \n",
    "                       \"Alerta_53\", \n",
    "                       \"Alerta_5301\")\n",
    "\n"
   ]
  },
  {
   "cell_type": "markdown",
   "id": "ccbef3fd-7a7d-46a4-9906-0e6bcf484460",
   "metadata": {},
   "source": [
    "### Cruce con la tabla de alertas"
   ]
  },
  {
   "cell_type": "code",
   "execution_count": null,
   "id": "f3a84744-3d9a-4842-9da6-c7a7ba9533b0",
   "metadata": {},
   "outputs": [],
   "source": [
    "# Realizar el full outer join entre df_sgm_trn_final y dw_trn_alertas\n",
    "result = df_sgm_trn_final.join(\n",
    "    dw_trn_alertas, \n",
    "    on=[\"CONT_RUT\", \"CONT_DV\"], \n",
    "    how=\"full_outer\"\n",
    ")\n",
    "\n",
    "# Seleccionar todas las columnas de ambas tablas y asegurar que CONT_RUT y CONT_DV aparezcan una sola vez\n",
    "result = result.select(\"CONT_RUT\", \"CONT_DV\", \n",
    "                       \"INICIO_SEGMENTO\", \n",
    "                       \"ES_EMPRESA\", \n",
    "                       \"ES_PERSONA\", \n",
    "                       \"Alerta_1019\", \n",
    "                       \"Alerta_2250\", \n",
    "                       \"Alerta_400X\", \n",
    "                       \"Alerta_4110\", \n",
    "                       \"Alerta_4111\", \n",
    "                       \"Alerta_4112\", \n",
    "                       \"Alerta_4113\", \n",
    "                       \"Alerta_52\", \n",
    "                       \"Alerta_5201\", \n",
    "                       \"Alerta_5203\", \n",
    "                       \"Alerta_53\", \n",
    "                       \"Alerta_5301\")\n"
   ]
  },
  {
   "cell_type": "markdown",
   "id": "fe7b3697-6e59-413d-ac7b-6dcd86b4228a",
   "metadata": {},
   "source": [
    "### Cruce con direccion regional yotras variables asociado al ultimo negocio"
   ]
  },
  {
   "cell_type": "code",
   "execution_count": null,
   "id": "0b76e8b8-0c8c-42e6-b3a7-80c78c741a4b",
   "metadata": {},
   "outputs": [],
   "source": [
    "# Realizar el full outer join entre el resultado y df_negocio\n",
    "result_final = result.join(\n",
    "    df_negocio,\n",
    "    on=[\"CONT_RUT\", \"CONT_DV\"],\n",
    "    how=\"full_outer\"\n",
    ")\n",
    "\n",
    "# Seleccionar todas las columnas deseadas\n",
    "result_final = result_final.select(\n",
    "    \"CONT_RUT\", \n",
    "    \"CONT_DV\", \n",
    "    \"INICIO_SEGMENTO\", \n",
    "    \"ES_EMPRESA\", \n",
    "    \"ES_PERSONA\", \n",
    "    \"Alerta_1019\", \n",
    "    \"Alerta_2250\", \n",
    "    \"Alerta_400X\", \n",
    "    \"Alerta_4110\", \n",
    "    \"Alerta_4111\", \n",
    "    \"Alerta_4112\", \n",
    "    \"Alerta_4113\", \n",
    "    \"Alerta_52\", \n",
    "    \"Alerta_5201\", \n",
    "    \"Alerta_5203\", \n",
    "    \"Alerta_53\", \n",
    "    \"Alerta_5301\", \n",
    "    \"UNOP_UNIDAD_GRAN_CONT\", \n",
    "    \"UNOP_UNIDAD\", \n",
    "    \"UNOP_COD_REGIONAL\", \n",
    "    \"NEGO_IND_EXPORTADOR_VO\", \n",
    "    \"NEGO_IND_PRIMERA_EXP_VO\", \n",
    "    \"NEGO_IND_VERIFICACION_VO\", \n",
    "    \"NEGO_NRO_FACTURAS_6MESES_VO\"\n",
    ")\n",
    "\n"
   ]
  },
  {
   "cell_type": "code",
   "execution_count": null,
   "id": "e161751b-0659-418e-916b-4502306ec106",
   "metadata": {},
   "outputs": [],
   "source": [
    "result_final.columns"
   ]
  },
  {
   "cell_type": "code",
   "execution_count": null,
   "id": "898a7d1a-89fb-4e23-98f2-969245814b35",
   "metadata": {},
   "outputs": [],
   "source": [
    "df_comportamiento.columns"
   ]
  },
  {
   "cell_type": "markdown",
   "id": "f6f77975-dfa9-4d33-a094-cfb8a244860f",
   "metadata": {},
   "source": [
    "### Cruce con indicadores de comportamiento"
   ]
  },
  {
   "cell_type": "code",
   "execution_count": null,
   "id": "87bc1be9-8160-4006-b2ca-0e1778c40f08",
   "metadata": {},
   "outputs": [],
   "source": [
    "# Realizar el full outer join entre el resultado final y df_comportamiento\n",
    "result_final_comportamiento = result_final.join(\n",
    "    df_comportamiento,\n",
    "    on=[\"CONT_RUT\", \"CONT_DV\"],\n",
    "    how=\"full_outer\"\n",
    ")\n",
    "\n",
    "# Seleccionar todas las columnas deseadas\n",
    "result_final_comportamiento = result_final_comportamiento.select(\n",
    "    \"CONT_RUT\", \n",
    "    \"CONT_DV\", \n",
    "    \"INICIO_SEGMENTO\", \n",
    "    \"ES_EMPRESA\", \n",
    "    \"ES_PERSONA\", \n",
    "    \"Alerta_1019\", \n",
    "    \"Alerta_2250\", \n",
    "    \"Alerta_400X\", \n",
    "    \"Alerta_4110\", \n",
    "    \"Alerta_4111\", \n",
    "    \"Alerta_4112\", \n",
    "    \"Alerta_4113\", \n",
    "    \"Alerta_52\", \n",
    "    \"Alerta_5201\", \n",
    "    \"Alerta_5203\", \n",
    "    \"Alerta_53\", \n",
    "    \"Alerta_5301\", \n",
    "    \"UNOP_UNIDAD_GRAN_CONT\", \n",
    "    \"UNOP_COD_REGIONAL\", \n",
    "    \"NEGO_IND_EXPORTADOR_VO\", \n",
    "    \"NEGO_IND_PRIMERA_EXP_VO\", \n",
    "    \"NEGO_IND_VERIFICACION_VO\", \n",
    "    \"NEGO_NRO_FACTURAS_6MESES_VO\",\n",
    "    \"COCO_IMP_VENTAS_IVA\", \n",
    "    \"COCO_IMP_VENTAS_TRANSPORTE\", \n",
    "    \"COCO_MCA_1_CATEGORIA\", \n",
    "    \"COCO_MCA_2_CATEGORIA\", \n",
    "    \"COCO_MCA_AFECTO_IMPTO_ADIC\", \n",
    "    \"COCO_MCA_AFECTO_IMPTO_UNICO\", \n",
    "    \"COCO_MCA_DOBLE_DECL_F22\", \n",
    "    \"COCO_MCA_DONACIONES_CULTURALES\", \n",
    "    \"COCO_MCA_DONACIONES_DEPORTIVAS\", \n",
    "    \"COCO_MCA_DONACIONES_EDUCACIONALES\", \n",
    "    \"COCO_MCA_DONACIONES_POLITICAS\", \n",
    "    \"COCO_MCA_DONACIONES_UNIVERSIDAD\", \n",
    "    \"COCO_MCA_ES_EMPRESA\", \n",
    "    \"COCO_MCA_ES_GRAN_CONT\", \n",
    "    \"COCO_MCA_ES_MINERA\", \n",
    "    \"COCO_MCA_GLOBAL_COMPLE\", \n",
    "    \"COCO_MCA_IMP_PPM_FONDO_MUTUO\", \n",
    "    \"COCO_MCA_IMP_SOC_PROC\", \n",
    "    \"COCO_MCA_SIN_CLAS_IMP\", \n",
    "    \"COCO_MCA_TIPO_IMP\", \n",
    "    \"COCO_MTO_DEV_SOLICITADA_F22\", \n",
    "    \"COCO_MTO_VENTAS\", \n",
    "    \"TICO_SUB_TPO_CONTR\", \n",
    "    \"TRRE_COD_TMO_RTA\", \n",
    "    \"TRVE_COD_TMO_VTA\", \n",
    "    \"COMU_COD_COMUNA_PRINCIPAL\",\n",
    "    \"UNIDAD_GRAN_CONTRIBUYENTE_COMPORTAMIENTO\"\n",
    ")\n"
   ]
  },
  {
   "cell_type": "code",
   "execution_count": null,
   "id": "5fe29f92-7780-4ca9-993e-d5a44f165304",
   "metadata": {},
   "outputs": [],
   "source": [
    "result_final_comportamiento.columns"
   ]
  },
  {
   "cell_type": "markdown",
   "id": "f5af5a25-15c0-448d-a74c-ec09e7aac1ac",
   "metadata": {},
   "source": [
    "### Cruce con  actividad economica principal"
   ]
  },
  {
   "cell_type": "code",
   "execution_count": null,
   "id": "ecfc10a9-6949-4be6-bdd2-178fe88827a1",
   "metadata": {},
   "outputs": [],
   "source": [
    "# Realizar el full outer join entre el resultado final y acteco_principal\n",
    "result_final_acteco = result_final_comportamiento.join(\n",
    "    acteco_principal,\n",
    "    on=[\"CONT_RUT\", \"CONT_DV\"],\n",
    "    how=\"full_outer\"\n",
    ")\n",
    "\n",
    "# Seleccionar todas las columnas deseadas\n",
    "result_final_acteco = result_final_acteco.select(\n",
    "    \"CONT_RUT\", \n",
    "    \"CONT_DV\", \n",
    "    \"INICIO_SEGMENTO\", \n",
    "    \"ES_EMPRESA\", \n",
    "    \"ES_PERSONA\", \n",
    "    \"Alerta_1019\", \n",
    "    \"Alerta_2250\", \n",
    "    \"Alerta_400X\", \n",
    "    \"Alerta_4110\", \n",
    "    \"Alerta_4111\", \n",
    "    \"Alerta_4112\", \n",
    "    \"Alerta_4113\", \n",
    "    \"Alerta_52\", \n",
    "    \"Alerta_5201\", \n",
    "    \"Alerta_5203\", \n",
    "    \"Alerta_53\", \n",
    "    \"Alerta_5301\", \n",
    "    \"UNOP_UNIDAD_GRAN_CONT\", \n",
    "    \"UNOP_COD_REGIONAL\", \n",
    "    \"NEGO_IND_EXPORTADOR_VO\", \n",
    "    \"NEGO_IND_PRIMERA_EXP_VO\", \n",
    "    \"NEGO_IND_VERIFICACION_VO\", \n",
    "    \"NEGO_NRO_FACTURAS_6MESES_VO\", \n",
    "    \"COCO_IMP_VENTAS_IVA\", \n",
    "    \"COCO_IMP_VENTAS_TRANSPORTE\", \n",
    "    \"COCO_MCA_1_CATEGORIA\", \n",
    "    \"COCO_MCA_2_CATEGORIA\", \n",
    "    \"COCO_MCA_AFECTO_IMPTO_ADIC\", \n",
    "    \"COCO_MCA_AFECTO_IMPTO_UNICO\", \n",
    "    \"COCO_MCA_DOBLE_DECL_F22\", \n",
    "    \"COCO_MCA_DONACIONES_CULTURALES\", \n",
    "    \"COCO_MCA_DONACIONES_DEPORTIVAS\", \n",
    "    \"COCO_MCA_DONACIONES_EDUCACIONALES\", \n",
    "    \"COCO_MCA_DONACIONES_POLITICAS\", \n",
    "    \"COCO_MCA_DONACIONES_UNIVERSIDAD\", \n",
    "    \"COCO_MCA_ES_EMPRESA\", \n",
    "    \"COCO_MCA_ES_GRAN_CONT\", \n",
    "    \"COCO_MCA_ES_MINERA\", \n",
    "    \"COCO_MCA_GLOBAL_COMPLE\", \n",
    "    \"COCO_MCA_IMP_PPM_FONDO_MUTUO\", \n",
    "    \"COCO_MCA_IMP_SOC_PROC\", \n",
    "    \"COCO_MCA_SIN_CLAS_IMP\", \n",
    "    \"COCO_MCA_TIPO_IMP\", \n",
    "    \"COCO_MTO_DEV_SOLICITADA_F22\", \n",
    "    \"COCO_MTO_VENTAS\", \n",
    "    \"TICO_SUB_TPO_CONTR\", \n",
    "    \"TRRE_COD_TMO_RTA\", \n",
    "    \"TRVE_COD_TMO_VTA\", \n",
    "    \"COMU_COD_COMUNA_PRINCIPAL\", \n",
    "    \"ACEC_DES_ACTECO_PPAL\", \n",
    "    \"ACEC_DES_RUBRO_PPAL\", \n",
    "    \"ACEC_DES_SUBRUBRO_PPAL\",\n",
    "    \"UNIDAD_GRAN_CONTRIBUYENTE_COMPORTAMIENTO\"\n",
    ").distinct()\n"
   ]
  },
  {
   "cell_type": "code",
   "execution_count": null,
   "id": "ebac80bd-6b04-4c16-86ab-3cb76206171c",
   "metadata": {},
   "outputs": [],
   "source": [
    "spark.stop()"
   ]
  }
 ],
 "metadata": {
  "kernelspec": {
   "display_name": "Python 3 (ipykernel)",
   "language": "python",
   "name": "python3"
  },
  "language_info": {
   "codemirror_mode": {
    "name": "ipython",
    "version": 3
   },
   "file_extension": ".py",
   "mimetype": "text/x-python",
   "name": "python",
   "nbconvert_exporter": "python",
   "pygments_lexer": "ipython3",
   "version": "3.11.6"
  }
 },
 "nbformat": 4,
 "nbformat_minor": 5
}
