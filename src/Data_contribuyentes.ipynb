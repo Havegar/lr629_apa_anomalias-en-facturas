{
 "cells": [
  {
   "cell_type": "markdown",
   "id": "dc48932f-fdbd-4827-9377-a27eaa85cd3b",
   "metadata": {},
   "source": [
    "## Proceso ETL data contribuyentes"
   ]
  },
  {
   "cell_type": "markdown",
   "id": "d61b7b71-9a4b-4750-afff-4a20359d1b9e",
   "metadata": {},
   "source": [
    "En este notebook se obtiene caracteristicas unicas de contribuyentes. Esta informacion es guardara en un archivo parquet el cual sera posteriormente utilizado para caracterizar las transaccion de documentos tributarios electronicos. "
   ]
  },
  {
   "cell_type": "code",
   "execution_count": 1,
   "id": "33feb54d-5a80-4494-beed-f1b90ff5fc05",
   "metadata": {},
   "outputs": [],
   "source": [
    "##Se importan packages necesarios\n",
    "from pyspark.sql import SparkSession\n",
    "from pyspark.sql.functions import *\n",
    "from pyspark import SparkContext, SparkConf\n",
    "import pyspark\n",
    "import pandas as pd\n",
    "import warnings\n",
    "warnings.filterwarnings('ignore', category=DeprecationWarning)\n",
    "from pyspark.sql.types import StringType,TimestampType\n",
    "import matplotlib.pyplot as plt\n",
    "from pyspark.sql import functions as F"
   ]
  },
  {
   "cell_type": "code",
   "execution_count": 2,
   "id": "651494d9-04fe-4007-b20f-661c8eb291b2",
   "metadata": {},
   "outputs": [
    {
     "name": "stderr",
     "output_type": "stream",
     "text": [
      "Setting spark.hadoop.yarn.resourcemanager.principal to hvega.externo\n"
     ]
    }
   ],
   "source": [
    "#inicio de sesion en spark\n",
    "ss_name = 'Lectura de datos Dashboard'\n",
    "wg_conn = \"spark.kerberos.access.hadoopFileSystems\"\n",
    "db_conn = \"abfs://data@datalakesii.dfs.core.windows.net/\"\n",
    "\n",
    "spark = SparkSession.builder \\\n",
    "      .appName(f\"Ejecucion algoritmo {ss_name}\")  \\\n",
    "      .config(wg_conn, db_conn) \\\n",
    "      .config(\"spark.executor.memory\", \"6g\") \\\n",
    "      .config(\"spark.driver.memory\", \"12g\")\\\n",
    "      .config(\"spark.executor.cores\", \"4\") \\\n",
    "      .config(\"spark.executor.instances\", \"5\") \\\n",
    "      .config(\"spark.driver.maxResultSize\", \"12g\") \\\n",
    "      .getOrCreate()\n",
    "\n",
    "spark.sparkContext.setLogLevel(\"ERROR\")\n",
    "\n",
    "spark.conf.set(\"spark.sql.parquet.enableVectorizedReader\",\"false\")\n",
    "spark.conf.set(\"spark.sql.parquet.int96RebaseModeInRead\", \"CORRECTED\")\n",
    "spark.conf.set(\"spark.sql.parquet.int96RebaseModeInWrite\", \"CORRECTED\")\n",
    "spark.conf.set(\"spark.sql.parquet.datetimeRebaseModeInRead\", \"CORRECTED\")\n",
    "spark.conf.set(\"spark.sql.parquet.datetimeRebaseModeInWrite\", \"CORRECTED\")\n",
    "spark.conf.set(\"spark.sql.debug.maxToStringFields\", \"2000\")"
   ]
  },
  {
   "cell_type": "markdown",
   "id": "2c2ffaea-1abf-4466-a050-d34dc5536330",
   "metadata": {},
   "source": [
    "## Segmento del contribuyente"
   ]
  },
  {
   "cell_type": "code",
   "execution_count": 3,
   "id": "7e43d85c-48cb-4347-b224-f034460a177e",
   "metadata": {},
   "outputs": [
    {
     "name": "stderr",
     "output_type": "stream",
     "text": [
      "Hive Session ID = dc73a2e5-68ec-4af9-a953-3203780a57c7\n"
     ]
    }
   ],
   "source": [
    "# Cargar las tablas\n",
    "df_contribuyentes = spark.table(\"DW.DW_TRN_CONTRIBUYENTES_E\")\n",
    "df_atributos_contrib = spark.table(\"DW.DW_TRN_RIAC_ATRIBUTO_CONTRIB_E\")\n",
    "df_atributo_dim = spark.table(\"DW.DW_DIM_ATRIBUTO_CONTRIB\")"
   ]
  },
  {
   "cell_type": "code",
   "execution_count": 4,
   "id": "de4cefd5-7f10-4f7f-a51c-2276887716b3",
   "metadata": {},
   "outputs": [],
   "source": [
    "# Crear la tabla temporal #SGM_I\n",
    "df_sgm_i = df_contribuyentes.alias(\"t1\") \\\n",
    "    .join(df_atributos_contrib.alias(\"t3\"), \n",
    "           df_contribuyentes[\"CONT_RUT\"] == df_atributos_contrib[\"CONT_RUT\"], \n",
    "           \"left\") \\\n",
    "    .join(df_atributo_dim.alias(\"t4\"), \n",
    "           (df_atributos_contrib[\"TATR_CODIGO\"] == df_atributo_dim[\"TATR_CODIGO\"]) & \n",
    "           (df_atributos_contrib[\"ATRC_FECHA_TERMINO\"].isNull()) & \n",
    "           (df_atributos_contrib[\"ATRC_VIGENTE\"] == 1) & \n",
    "           (df_atributos_contrib[\"TATR_CODIGO\"].isin(['SGGC', 'SGME', 'SGMI', 'SGPM', 'SGPE']))) \\\n",
    "    .select(\n",
    "        F.col(\"t1.CONT_RUT\"),\n",
    "        F.col(\"t1.CONT_DV\"),\n",
    "        F.col(\"t3.ATRC_VIGENTE\"),\n",
    "        F.col(\"t4.TATR_VIGENTE\"),\n",
    "        F.col(\"t3.TATR_CODIGO\"),\n",
    "        F.when(F.col(\"t3.TATR_CODIGO\") == 'SGGC', 5)\n",
    "         .when(F.col(\"t3.TATR_CODIGO\") == 'SGME', 4)\n",
    "         .when(F.col(\"t3.TATR_CODIGO\") == 'SGPM', 3)\n",
    "         .when(F.col(\"t3.TATR_CODIGO\") == 'SGMI', 2)\n",
    "         .when(F.col(\"t3.TATR_CODIGO\") == 'SGPE', 1).alias(\"SGM_NUM\"),\n",
    "        F.col(\"t3.ATRC_FECHA_INICIO\"),\n",
    "        (F.year(F.col(\"t3.ATRC_FECHA_INICIO\")) * 10000 +\n",
    "         F.month(F.col(\"t3.ATRC_FECHA_INICIO\")) * 100 +\n",
    "         F.dayofmonth(F.col(\"t3.ATRC_FECHA_INICIO\"))).alias(\"DIA_AGNO\"),\n",
    "        F.col(\"t4.TATR_DESCRIPCION\")\n",
    "    )\n",
    "\n",
    "# Crear una vista temporal\n",
    "df_sgm_i.createOrReplaceTempView(\"SGM_I\")\n"
   ]
  },
  {
   "cell_type": "code",
   "execution_count": 5,
   "id": "ec925118-a402-4684-a01a-07972b53a3ae",
   "metadata": {},
   "outputs": [
    {
     "data": {
      "text/plain": [
       "['CONT_RUT',\n",
       " 'CONT_DV',\n",
       " 'ATRC_VIGENTE',\n",
       " 'TATR_VIGENTE',\n",
       " 'TATR_CODIGO',\n",
       " 'SGM_NUM',\n",
       " 'ATRC_FECHA_INICIO',\n",
       " 'DIA_AGNO',\n",
       " 'TATR_DESCRIPCION']"
      ]
     },
     "execution_count": 5,
     "metadata": {},
     "output_type": "execute_result"
    }
   ],
   "source": [
    "df_sgm_i.columns"
   ]
  },
  {
   "cell_type": "code",
   "execution_count": 6,
   "id": "b966ad8b-9f39-48b6-9ae3-4ef2a8ae8758",
   "metadata": {},
   "outputs": [],
   "source": [
    "#df_sgm_i.select('CONT_RUT').distinct().count()"
   ]
  },
  {
   "cell_type": "code",
   "execution_count": 7,
   "id": "6b14fccb-2419-4666-b35c-09a6c5cc94e3",
   "metadata": {},
   "outputs": [],
   "source": [
    "# Crear la tabla temporal #SGM_FM\n",
    "df_sgm_fm = spark.sql(\"\"\"\n",
    "    SELECT \n",
    "        COALESCE(AL1.CONT_RUT, AL2.CONT_RUT) AS CONT_RUT, \n",
    "        COALESCE(AL1.CONT_DV, AL2.CONT_DV) AS CONT_DV, \n",
    "        AL1.FECHA_INI_M, \n",
    "        AL2.ATRC_FECHA_INICIO, \n",
    "        AL2.TATR_CODIGO, \n",
    "        AL2.SGM_NUM, \n",
    "        AL2.DIA_AGNO\n",
    "    FROM  \n",
    "        (SELECT \n",
    "            A1.CONT_RUT, \n",
    "            A1.CONT_DV, \n",
    "            MAX(A1.ATRC_FECHA_INICIO) AS FECHA_INI_M\n",
    "        FROM \n",
    "            SGM_I A1\n",
    "        GROUP BY \n",
    "            A1.CONT_RUT, A1.CONT_DV) AL1\n",
    "    JOIN \n",
    "        SGM_I AL2 ON AL1.FECHA_INI_M = AL2.ATRC_FECHA_INICIO \n",
    "        AND AL1.CONT_RUT = AL2.CONT_RUT\n",
    "\"\"\")\n",
    "\n",
    "df_sgm_fm.createOrReplaceTempView(\"SGM_FM\")"
   ]
  },
  {
   "cell_type": "code",
   "execution_count": 8,
   "id": "29cca672-90da-4990-b46c-7e5d4b7b18a8",
   "metadata": {
    "scrolled": true
   },
   "outputs": [],
   "source": [
    "# Crear la tabla temporal #SGM_TRN_FINAL con las columnas adicionales\n",
    "df_sgm_trn_final = spark.sql(\"\"\"\n",
    "    SELECT \n",
    "        COALESCE(AL1.CONT_RUT, AL2.CONT_RUT) AS CONT_RUT, \n",
    "        COALESCE(AL1.CONT_DV, AL2.CONT_DV) AS CONT_DV, \n",
    "        AL2.DIA_AGNO as FECHA_INICIO,\n",
    "        -- Agregar columna de Segmento de Empresa\n",
    "        AL2.TATR_CODIGO as INICIO_SEGMENTO,\n",
    "        CASE \n",
    "            WHEN AL2.TATR_CODIGO = 'SGGC' THEN 'Segmento Grandes Empresas/Contribuyentes'\n",
    "            WHEN AL2.TATR_CODIGO = 'SGME' THEN 'Segmento Medianas Empresas'\n",
    "            WHEN AL2.TATR_CODIGO = 'SGPM' THEN 'Segmento Pequeñas Empresas'\n",
    "            WHEN AL2.TATR_CODIGO = 'SGMI' THEN 'Segmento Micro Empresas'\n",
    "            ELSE NULL\n",
    "        END AS ES_EMPRESA,\n",
    "        -- Agregar columna para indicar si es persona o no\n",
    "        CASE \n",
    "            WHEN AL2.TATR_CODIGO = 'SGPE' THEN 1 -- Si es persona\n",
    "            ELSE NULL -- Si no es persona\n",
    "        END AS ES_PERSONA\n",
    "    FROM \n",
    "        (SELECT \n",
    "            A1.CONT_RUT, \n",
    "            A1.CONT_DV, \n",
    "            MAX(A1.SGM_NUM) AS SGM_NUM_MAX\n",
    "        FROM \n",
    "            SGM_FM A1\n",
    "        GROUP BY \n",
    "            A1.CONT_RUT, A1.CONT_DV) AL1\n",
    "    JOIN \n",
    "        SGM_FM AL2 ON AL1.SGM_NUM_MAX = AL2.SGM_NUM \n",
    "        AND AL1.CONT_RUT = AL2.CONT_RUT\n",
    "\"\"\")\n",
    "# Mostrar el resultado\n",
    "#df_sgm_trn_final=df_sgm_trn_final.sample(withReplacement=False, fraction=0.1).limit(3)\n",
    "#df_sgm_trn_final.show()\n"
   ]
  },
  {
   "cell_type": "code",
   "execution_count": 9,
   "id": "147440b6-ff1a-42d2-93ef-bde01160896b",
   "metadata": {},
   "outputs": [
    {
     "name": "stderr",
     "output_type": "stream",
     "text": [
      "                                                                                \r"
     ]
    },
    {
     "data": {
      "text/plain": [
       "29098589"
      ]
     },
     "execution_count": 9,
     "metadata": {},
     "output_type": "execute_result"
    }
   ],
   "source": [
    "# Analizamos si tenemos valores unicos de CONT_RUT para evitar tener mas de una fila con informacion por contribuyente\n",
    "\n",
    "df_sgm_trn_final.select('CONT_RUT').count()"
   ]
  },
  {
   "cell_type": "code",
   "execution_count": 10,
   "id": "7b94c613-6bc3-4aa3-883a-3eec30b8dbca",
   "metadata": {},
   "outputs": [
    {
     "name": "stderr",
     "output_type": "stream",
     "text": [
      "                                                                                \r"
     ]
    },
    {
     "data": {
      "text/plain": [
       "29098582"
      ]
     },
     "execution_count": 10,
     "metadata": {},
     "output_type": "execute_result"
    }
   ],
   "source": [
    "df_sgm_trn_final.select('CONT_RUT').distinct().count()"
   ]
  },
  {
   "cell_type": "code",
   "execution_count": 11,
   "id": "5b0e6266-d2c4-4d52-825e-36f1f2f2cae1",
   "metadata": {},
   "outputs": [
    {
     "name": "stderr",
     "output_type": "stream",
     "text": [
      "[Stage 182:====================================================> (97 + 3) / 100]\r"
     ]
    },
    {
     "name": "stdout",
     "output_type": "stream",
     "text": [
      "+----------+--------------------+--------+\n",
      "|ES_PERSONA|          ES_EMPRESA|   count|\n",
      "+----------+--------------------+--------+\n",
      "|      null|Segmento Pequeñas...|  296968|\n",
      "|         1|                null|25382625|\n",
      "|      null|Segmento Micro Em...| 3292678|\n",
      "|      null|Segmento Grandes ...|   76057|\n",
      "|      null|Segmento Medianas...|   50261|\n",
      "+----------+--------------------+--------+\n",
      "\n"
     ]
    },
    {
     "name": "stderr",
     "output_type": "stream",
     "text": [
      "                                                                                \r"
     ]
    }
   ],
   "source": [
    "# Recuento de valores de ES_PERSONA y ES_EMPRESA\n",
    "recuento = df_sgm_trn_final.groupBy(\"ES_PERSONA\", \"ES_EMPRESA\").count()\n",
    "\n",
    "# Mostrar el resultado\n",
    "recuento.show()"
   ]
  },
  {
   "cell_type": "markdown",
   "id": "6856bbeb-5e97-4262-9319-017157bd0fb1",
   "metadata": {},
   "source": [
    "### Tabla DW.DW_TRN_ALERTAS_E \n",
    "-----------------------------------------------------------------------------------------------------------------"
   ]
  },
  {
   "cell_type": "code",
   "execution_count": 12,
   "id": "31e42553-da4b-4087-9974-4c40224be3ba",
   "metadata": {},
   "outputs": [
    {
     "name": "stderr",
     "output_type": "stream",
     "text": [
      "[Stage 197:======================================================>(85 + 1) / 86]\r"
     ]
    },
    {
     "name": "stdout",
     "output_type": "stream",
     "text": [
      "+------------------------+------+\n",
      "|ALER_DESC_TIPO_ALERTA_VO| count|\n",
      "+------------------------+------+\n",
      "|    PREVENTIVO DEL JE...|106016|\n",
      "|    CONTRIBUYENTE UTI...| 92495|\n",
      "|    NO CUMPLE ACREDIT...| 44184|\n",
      "|    NOTIFICACION DE F...| 24939|\n",
      "|    SOCIO Y/O REPRESE...| 19885|\n",
      "|    EMISOR CON ANTECE...| 14770|\n",
      "|         DELITO/QUERELLA|  7594|\n",
      "|    EMISOR CON ANTECE...|  3557|\n",
      "|    PRESENTA SITUACIO...|  3225|\n",
      "|    PREVENTIVO SUBDIR...|  2671|\n",
      "|    EMISOR Y RECEPTOR...|  2624|\n",
      "|    PREVENTIVO DELITO...|  2333|\n",
      "|       FACTURA OBSERVADA|    64|\n",
      "+------------------------+------+\n",
      "\n"
     ]
    },
    {
     "name": "stderr",
     "output_type": "stream",
     "text": [
      "                                                                                \r"
     ]
    }
   ],
   "source": [
    "dw_trn_alertas = spark.sql(\"\"\"\n",
    "SELECT \n",
    "    CONT_RUT,\n",
    "    CONT_DV,\n",
    "    CASE \n",
    "        WHEN ALER_COD_TIPO_ALERTA_VO BETWEEN 4001 AND 4007 \n",
    "        THEN 'DELITO/QUERELLA' \n",
    "        ELSE ALER_DESC_TIPO_ALERTA_VO \n",
    "    END AS ALER_DESC_TIPO_ALERTA_VO,\n",
    "    UNOP_UNIDAD_ACTIV,\n",
    "    ALER_FECHA_ACTIV_VO,\n",
    "    CASE WHEN ALER_COD_TIPO_ALERTA_VO LIKE '400%' THEN '400X'\n",
    "    ELSE ALER_COD_TIPO_ALERTA_VO END AS ALER_COD_TIPO_ALERTA_VO\n",
    "FROM \n",
    "    DW.DW_TRN_ALERTAS_E \n",
    "WHERE \n",
    "    ALER_COD_TIPO_ALERTA_VO IN (4110, 4111, 4112, 4113, 52, 5201, 5203, 53, 5301, 2250, 1019, 4001, 4002, 4004, 4005, 4006, 4007) \n",
    "    AND ALER_FECHA_DESACTIV_VO IS NULL\n",
    "\"\"\").distinct()\n",
    "#count=13351059\n",
    "\n",
    "# Agrupar por ALER_DESC_TIPO_ALERTA_VO y contar, luego ordenar en orden descendente\n",
    "agrupacion_alertas = dw_trn_alertas.groupBy(\"ALER_DESC_TIPO_ALERTA_VO\").count().orderBy(\"count\", ascending=False)\n",
    "\n",
    "#Por el momento y dado que hay un solo registro, dejamps fuera el codigo 2046 de domicilio inexistente  \n",
    "# Mostrar los resultados\n",
    "agrupacion_alertas.show()\n"
   ]
  },
  {
   "cell_type": "code",
   "execution_count": 13,
   "id": "29d56001-82a3-429d-869d-f5368d38a09d",
   "metadata": {},
   "outputs": [
    {
     "name": "stderr",
     "output_type": "stream",
     "text": [
      "[Stage 209:======================================================>(85 + 1) / 86]\r"
     ]
    },
    {
     "name": "stdout",
     "output_type": "stream",
     "text": [
      "+--------------------+-------+-----------+-----------+-----------+-----------+-----------+-----------+-----------+---------+-----------+-----------+---------+-----------+\n",
      "|            CONT_RUT|CONT_DV|Alerta_1019|Alerta_2250|Alerta_400X|Alerta_4110|Alerta_4111|Alerta_4112|Alerta_4113|Alerta_52|Alerta_5201|Alerta_5203|Alerta_53|Alerta_5301|\n",
      "+--------------------+-------+-----------+-----------+-----------+-----------+-----------+-----------+-----------+---------+-----------+-----------+---------+-----------+\n",
      "|++1JNpbthfwgogYLW...|      0|          1|          0|          0|          0|          0|          0|          0|        0|          0|          0|        0|          0|\n",
      "|++V/iwLjnoQ0Ti6mg...|      3|          1|          0|          0|          0|          0|          0|          0|        0|          0|          0|        0|          0|\n",
      "|++Vb8kna1JsVPsw/s...|      0|          0|          0|          0|          0|          0|          0|          0|        1|          0|          0|        0|          0|\n",
      "|++Xkr17yfSehVHInx...|      1|          0|          0|          0|          0|          0|          0|          0|        1|          0|          0|        0|          0|\n",
      "|++aRkgLIhz+BYVNCe...|      7|          0|          0|          0|          0|          0|          0|          0|        1|          0|          0|        0|          0|\n",
      "+--------------------+-------+-----------+-----------+-----------+-----------+-----------+-----------+-----------+---------+-----------+-----------+---------+-----------+\n",
      "\n"
     ]
    },
    {
     "name": "stderr",
     "output_type": "stream",
     "text": [
      "                                                                                \r"
     ]
    }
   ],
   "source": [
    "\n",
    "# Pivotear los datos y agregar prefijo \"Alerta_\" a las columnas\n",
    "pivot_alertas = dw_trn_alertas.groupBy(\"CONT_RUT\", \"CONT_DV\") \\\n",
    "    .pivot(\"ALER_COD_TIPO_ALERTA_VO\") \\\n",
    "    .agg(F.first(\"ALER_COD_TIPO_ALERTA_VO\"))\n",
    "\n",
    "# Renombrar las columnas con prefijo \"Alerta_\"\n",
    "for col_name in pivot_alertas.columns:\n",
    "    if col_name not in [\"CONT_RUT\", \"CONT_DV\"]:  # Evitar cambiar las columnas de identificación\n",
    "        pivot_alertas = pivot_alertas.withColumnRenamed(col_name, f\"Alerta_{col_name}\")\n",
    "\n",
    "# Transformar los valores a 1 o 0\n",
    "pivot_alertas = pivot_alertas.select(\n",
    "    \"CONT_RUT\",\n",
    "    \"CONT_DV\",\n",
    "    *[(F.when(F.col(col).isNotNull(), 1).otherwise(0).alias(col)) for col in pivot_alertas.columns if col not in [\"CONT_RUT\", \"CONT_DV\"]]\n",
    ").distinct()\n",
    "\n",
    "\n",
    "#count=13351059\n",
    "#dw_trn_alertas=pivot_alertas.sample(withReplacement=False, fraction=0.1).limit(3)\n",
    "dw_trn_alertas=pivot_alertas\n",
    "dw_trn_alertas.limit(5).show()"
   ]
  },
  {
   "cell_type": "code",
   "execution_count": 14,
   "id": "319f109c-4612-4439-88ec-bcffa91909ab",
   "metadata": {},
   "outputs": [],
   "source": [
    "#dw_trn_alertas.select('CONT_RUT').count()"
   ]
  },
  {
   "cell_type": "code",
   "execution_count": 15,
   "id": "a72c1ccb-01a4-4e9d-af09-c75e8ba9aaa5",
   "metadata": {},
   "outputs": [],
   "source": [
    "#dw_trn_alertas.select('CONT_RUT').distinct().count()"
   ]
  },
  {
   "cell_type": "markdown",
   "id": "627c161d-5b30-4bbb-b67b-b467d9b06988",
   "metadata": {},
   "source": [
    "## Direccion regional"
   ]
  },
  {
   "cell_type": "code",
   "execution_count": 16,
   "id": "01c1bdfc-8fb4-432e-9c8a-fd54ae248d3f",
   "metadata": {},
   "outputs": [],
   "source": [
    "df_negocios_nom = spark.table(\"DW.DW_TRN_NEGOCIOS_E\")\n",
    "df_unidad_operativa  = spark.table(\"DW.DW_DIM_UNIDAD_OPERATIVA\")"
   ]
  },
  {
   "cell_type": "code",
   "execution_count": 17,
   "id": "1fc2f025-ffe0-4e7c-b91c-563a21040643",
   "metadata": {},
   "outputs": [
    {
     "data": {
      "text/plain": [
       "['CONT_RUT',\n",
       " 'CONT_DV',\n",
       " 'NEGO_FECHA_VIGENCIA',\n",
       " 'NEGO_FECHA_INICIO_VO',\n",
       " 'NEGO_VIGENCIA',\n",
       " 'NEGO_RUT_VO',\n",
       " 'NEGO_DV_VO',\n",
       " 'UNOP_UNIDAD',\n",
       " 'NEGO_UNIDAD_VO',\n",
       " 'NEGO_UNIDAD_IC',\n",
       " 'NEGO_IND_COMP_IVA_VO',\n",
       " 'NEGO_NRO_FACTURAS_6MESES_VO',\n",
       " 'NEGO_CLA_CONTROL_DOCTO_VO',\n",
       " 'NEGO_IND_EXPORTADOR_VO',\n",
       " 'NEGO_IND_PRIMERA_EXP_VO',\n",
       " 'NEGO_IND_VERIFICACION_VO',\n",
       " 'NEGO_FECHA_CREACION_VO',\n",
       " 'NEGO_FECHA_MODIFICACION_VO',\n",
       " 'NEGO_OBLIGADO_IVA_ENCURSO_VO',\n",
       " 'NEGO_OBLIGADO_IVA_ENCURSO_IC',\n",
       " 'NEGO_GLOSA_ACTIVIDAD_VO',\n",
       " 'UNOP_UNIDAD_GRAN_CONT',\n",
       " 'NEGO_UNIDAD_GRAN_CONT_VO',\n",
       " 'NEGO_UNIDAD_GRAN_CONT_IC',\n",
       " 'NEGO_CAPITAL_POR_ENTERAR_VO',\n",
       " 'NEGO_CAPITAL_ENTERADO_VO',\n",
       " 'NEGO_OBLIGADO_IVA_AGNO_ANT_VO',\n",
       " 'NEGO_OBLIGADO_IVA_AGNO_ANT_IC',\n",
       " 'NEGO_OBLIGADO_IVA_ANTEANTERIOR_VO',\n",
       " 'NEGO_OBLIGADO_IVA_ANTEANTERIOR_IC',\n",
       " 'NEGO_ACTUACION_REPRESENTANTES_VO',\n",
       " 'NEGO_FECHA_IND_VERIFICACION_VO',\n",
       " 'NEGO_OBLIGADO_IVA_AGNO_4_VO',\n",
       " 'NEGO_OBLIGADO_IVA_AGNO_4_IC',\n",
       " 'NEGO_GLOSA_OTRA_ACTUACION']"
      ]
     },
     "execution_count": 17,
     "metadata": {},
     "output_type": "execute_result"
    }
   ],
   "source": [
    "df_negocios_nom.columns"
   ]
  },
  {
   "cell_type": "code",
   "execution_count": 18,
   "id": "c1af5fc3-122c-484e-be7f-20d0f5ae1c99",
   "metadata": {},
   "outputs": [
    {
     "data": {
      "text/plain": [
       "['CONT_RUT',\n",
       " 'CONT_DV',\n",
       " 'NEGO_FECHA_VIGENCIA',\n",
       " 'NEGO_FECHA_INICIO_VO',\n",
       " 'NEGO_VIGENCIA',\n",
       " 'NEGO_RUT_VO',\n",
       " 'NEGO_DV_VO',\n",
       " 'UNOP_UNIDAD',\n",
       " 'NEGO_UNIDAD_VO',\n",
       " 'NEGO_UNIDAD_IC',\n",
       " 'NEGO_IND_COMP_IVA_VO',\n",
       " 'NEGO_NRO_FACTURAS_6MESES_VO',\n",
       " 'NEGO_CLA_CONTROL_DOCTO_VO',\n",
       " 'NEGO_IND_EXPORTADOR_VO',\n",
       " 'NEGO_IND_PRIMERA_EXP_VO',\n",
       " 'NEGO_IND_VERIFICACION_VO',\n",
       " 'NEGO_FECHA_CREACION_VO',\n",
       " 'NEGO_FECHA_MODIFICACION_VO',\n",
       " 'NEGO_OBLIGADO_IVA_ENCURSO_VO',\n",
       " 'NEGO_OBLIGADO_IVA_ENCURSO_IC',\n",
       " 'NEGO_GLOSA_ACTIVIDAD_VO',\n",
       " 'UNOP_UNIDAD_GRAN_CONT',\n",
       " 'NEGO_UNIDAD_GRAN_CONT_VO',\n",
       " 'NEGO_UNIDAD_GRAN_CONT_IC',\n",
       " 'NEGO_CAPITAL_POR_ENTERAR_VO',\n",
       " 'NEGO_CAPITAL_ENTERADO_VO',\n",
       " 'NEGO_OBLIGADO_IVA_AGNO_ANT_VO',\n",
       " 'NEGO_OBLIGADO_IVA_AGNO_ANT_IC',\n",
       " 'NEGO_OBLIGADO_IVA_ANTEANTERIOR_VO',\n",
       " 'NEGO_OBLIGADO_IVA_ANTEANTERIOR_IC',\n",
       " 'NEGO_ACTUACION_REPRESENTANTES_VO',\n",
       " 'NEGO_FECHA_IND_VERIFICACION_VO',\n",
       " 'NEGO_OBLIGADO_IVA_AGNO_4_VO',\n",
       " 'NEGO_OBLIGADO_IVA_AGNO_4_IC',\n",
       " 'NEGO_GLOSA_OTRA_ACTUACION']"
      ]
     },
     "execution_count": 18,
     "metadata": {},
     "output_type": "execute_result"
    }
   ],
   "source": [
    "\n",
    "df_negocios_nom.createOrReplaceTempView(\"DW_TRN_NEGOCIOS_NOM\")\n",
    "df_unidad_operativa.createOrReplaceTempView(\"DW_DIM_UNIDAD_OPERATIVA\")\n",
    "df_negocios_nom.columns\n"
   ]
  },
  {
   "cell_type": "code",
   "execution_count": 19,
   "id": "a1b35641-8564-4f22-baeb-13381d768bd6",
   "metadata": {},
   "outputs": [
    {
     "name": "stderr",
     "output_type": "stream",
     "text": [
      "[Stage 218:======================================================>(63 + 1) / 64]\r"
     ]
    },
    {
     "name": "stdout",
     "output_type": "stream",
     "text": [
      "+--------------------+-------+----------------------+------------------------------+--------------------+--------------------------+-------------------+\n",
      "|            CONT_RUT|CONT_DV|NEGO_FECHA_CREACION_VO|NEGO_FECHA_IND_VERIFICACION_VO|NEGO_FECHA_INICIO_VO|NEGO_FECHA_MODIFICACION_VO|NEGO_FECHA_VIGENCIA|\n",
      "+--------------------+-------+----------------------+------------------------------+--------------------+--------------------------+-------------------+\n",
      "|++DZAjc7cVaoNs7Rt...|      9|   2011-07-27 04:00:00|           2012-07-26 04:00:00| 2011-07-27 04:00:00|       2014-04-02 03:00:00|2018-03-01 03:00:00|\n",
      "|++DZAjc7cVaoNs7Rt...|      9|   2011-07-27 04:00:00|           2012-07-26 04:00:00| 2011-07-27 04:00:00|       2014-04-02 03:00:00|2016-03-01 03:00:00|\n",
      "|++DZAjc7cVaoNs7Rt...|      9|   2011-07-27 04:00:00|           2012-07-26 04:00:00| 2011-07-27 04:00:00|       2014-04-02 03:00:00|2022-03-01 03:00:00|\n",
      "|++DZAjc7cVaoNs7Rt...|      9|   2011-07-27 04:00:00|           2012-07-26 04:00:00| 2011-07-27 04:00:00|       2014-04-02 03:00:00|2020-01-03 03:00:00|\n",
      "|++DZAjc7cVaoNs7Rt...|      9|   2011-07-27 04:00:00|           2012-07-26 04:00:00| 2011-07-27 04:00:00|       2014-04-02 03:00:00|2015-06-01 03:00:00|\n",
      "|++DZAjc7cVaoNs7Rt...|      9|   2011-07-27 04:00:00|           2012-07-26 04:00:00| 2011-07-27 04:00:00|       2011-11-04 03:00:00|2012-11-01 03:00:00|\n",
      "|++DZAjc7cVaoNs7Rt...|      9|   2011-07-27 04:00:00|           2012-07-26 04:00:00| 2011-07-27 04:00:00|       2014-04-02 03:00:00|2019-11-01 03:00:00|\n",
      "|++DZAjc7cVaoNs7Rt...|      9|   2011-07-27 04:00:00|           2012-07-26 04:00:00| 2011-07-27 04:00:00|       2014-04-02 03:00:00|2019-10-01 03:00:00|\n",
      "|++DZAjc7cVaoNs7Rt...|      9|   2011-07-27 04:00:00|           2012-07-26 04:00:00| 2011-07-27 04:00:00|       2014-04-02 03:00:00|2019-05-03 04:00:00|\n",
      "|++DZAjc7cVaoNs7Rt...|      9|   2011-07-27 04:00:00|           2012-05-18 04:00:00| 2011-07-27 04:00:00|       2011-11-04 03:00:00|2012-05-25 04:00:00|\n",
      "|++DZAjc7cVaoNs7Rt...|      9|   2011-07-27 04:00:00|           2012-07-26 04:00:00| 2011-07-27 04:00:00|       2014-04-02 03:00:00|2019-12-01 03:00:00|\n",
      "|++DZAjc7cVaoNs7Rt...|      9|   2011-07-27 04:00:00|           2012-07-26 04:00:00| 2011-07-27 04:00:00|       2014-04-02 03:00:00|2015-08-01 03:00:00|\n",
      "+--------------------+-------+----------------------+------------------------------+--------------------+--------------------------+-------------------+\n",
      "\n"
     ]
    },
    {
     "name": "stderr",
     "output_type": "stream",
     "text": [
      "                                                                                \r"
     ]
    }
   ],
   "source": [
    "#Verificamos para un rut en particular las entradas y fechas relacionadas. Escogesoo fecha de modificacion para encontra rle maximoregistro\n",
    "spark.sql(' SELECT AUX.CONT_RUT, AUX.CONT_DV,NEGO_FECHA_CREACION_VO,NEGO_FECHA_IND_VERIFICACION_VO,NEGO_FECHA_INICIO_VO,NEGO_FECHA_MODIFICACION_VO,NEGO_FECHA_VIGENCIA FROM DW_TRN_NEGOCIOS_NOM AUX where CONT_RUT like \"++DZAjc7cVaoNs7R%\" ').show()"
   ]
  },
  {
   "cell_type": "code",
   "execution_count": 20,
   "id": "dc9bff6d-4df4-416b-9e67-2c9004bb93c5",
   "metadata": {},
   "outputs": [],
   "source": [
    "# Consulta SQL\n",
    "query = \"\"\"\n",
    "SELECT BL1.CONT_RUT, BL1.CONT_DV, BL1.UNOP_UNIDAD as UNOP_UNIDAD_I, BL1.UNOP_UNIDAD_GRAN_CONT, \n",
    "       BL2.UNOP_UNIDAD, \n",
    "       BL2.UNOP_COD_REGIONAL AS UNOP_COD_REGIONAL_I, \n",
    "       (CASE  \n",
    "          WHEN CAST(CASE  \n",
    "              WHEN BL1.UNOP_UNIDAD_GRAN_CONT IS NULL OR BL1.UNOP_UNIDAD_GRAN_CONT = '-9999'\n",
    "              THEN BL1.UNOP_UNIDAD\n",
    "              ELSE BL1.UNOP_UNIDAD_GRAN_CONT\n",
    "              END AS FLOAT) >= 17000\n",
    "          AND \n",
    "          CAST(CASE  \n",
    "              WHEN BL1.UNOP_UNIDAD_GRAN_CONT IS NULL OR BL1.UNOP_UNIDAD_GRAN_CONT = '-9999'\n",
    "              THEN BL1.UNOP_UNIDAD\n",
    "              ELSE BL1.UNOP_UNIDAD_GRAN_CONT\n",
    "              END AS FLOAT) < 18000\n",
    "          THEN 17\n",
    "          ELSE BL2.UNOP_COD_REGIONAL\n",
    "       END) AS UNOP_COD_REGIONAL,\n",
    "       BL1.NEGO_IND_EXPORTADOR_VO,\n",
    "       BL1.NEGO_IND_PRIMERA_EXP_VO,\n",
    "       BL1.NEGO_IND_VERIFICACION_VO,\n",
    "       BL1.NEGO_NRO_FACTURAS_6MESES_VO,\n",
    "       BL1.NEGO_NRO_FACTURAS_6MESES_VO\n",
    "       \n",
    "FROM (\n",
    "   SELECT AL2.CONT_RUT, AL2.CONT_DV, AL2.UNOP_UNIDAD, AL2.UNOP_UNIDAD_GRAN_CONT,AL2.NEGO_IND_EXPORTADOR_VO,AL2.NEGO_IND_PRIMERA_EXP_VO,AL2.NEGO_IND_VERIFICACION_VO,AL2.NEGO_NRO_FACTURAS_6MESES_VO\n",
    "   FROM (\n",
    "      SELECT AUX.CONT_RUT, AUX.CONT_DV, MAX(NEGO_FECHA_VIGENCIA) as NEGO_FECHA_VIGENCIA\n",
    "      FROM DW_TRN_NEGOCIOS_NOM AUX \n",
    "      GROUP BY AUX.CONT_RUT, AUX.CONT_DV\n",
    "   ) AL1\n",
    "   JOIN DW_TRN_NEGOCIOS_NOM AL2\n",
    "   ON AL1.CONT_RUT = AL2.CONT_RUT AND AL1.NEGO_FECHA_VIGENCIA = AL2.NEGO_FECHA_VIGENCIA\n",
    ") BL1\n",
    "JOIN DW_DIM_UNIDAD_OPERATIVA BL2\n",
    "ON BL1.UNOP_UNIDAD = BL2.UNOP_UNIDAD\n",
    "\"\"\"\n",
    "df_negocio = spark.sql(query).distinct()\n",
    "### Ante la falta de una fecha de carga en el data warehouse se escoge el negocio con la fecha de vigencia mas reciente"
   ]
  },
  {
   "cell_type": "code",
   "execution_count": 21,
   "id": "a773eeea-7fbc-40b8-86e3-a39f393597ff",
   "metadata": {},
   "outputs": [],
   "source": [
    "#df_negocio.select('CONT_RUT').count()"
   ]
  },
  {
   "cell_type": "code",
   "execution_count": 22,
   "id": "152f72eb-e5c6-45f8-8f65-4d06cc76cbf0",
   "metadata": {},
   "outputs": [],
   "source": [
    "#df_negocio.select('CONT_RUT').distinct().count()"
   ]
  },
  {
   "cell_type": "markdown",
   "id": "b5058722-0ebf-4418-b281-00fd26c603f0",
   "metadata": {},
   "source": [
    "### Tabla DW.DW_HEC_CONT_COMPORTAMIENTO_E \n",
    "-----------------------------------------------------------------------------------------------------------------"
   ]
  },
  {
   "cell_type": "code",
   "execution_count": 23,
   "id": "fc6d1eac-62f2-4eb1-9204-93d775d18fce",
   "metadata": {},
   "outputs": [
    {
     "name": "stderr",
     "output_type": "stream",
     "text": [
      "[Stage 222:======================================================>(63 + 1) / 64]\r"
     ]
    },
    {
     "name": "stdout",
     "output_type": "stream",
     "text": [
      "+--------------------+--------------------+-------------------+\n",
      "|            CONT_RUT| COCO_FECHA_CARGA_DW|COCO_AGNO_COMERCIAL|\n",
      "+--------------------+--------------------+-------------------+\n",
      "|MMjMmHvg0zm+0U917...|2023-07-06 13:26:...|               2021|\n",
      "|MMjMmHvg0zm+0U917...|2023-07-06 14:00:...|               2020|\n",
      "|MMjMmHvg0zm+0U917...|2023-07-13 00:55:...|               2022|\n",
      "+--------------------+--------------------+-------------------+\n",
      "\n"
     ]
    },
    {
     "name": "stderr",
     "output_type": "stream",
     "text": [
      "                                                                                \r"
     ]
    }
   ],
   "source": [
    "spark.sql('select CONT_RUT ,COCO_FECHA_CARGA_DW,COCO_AGNO_COMERCIAL from DW.DW_HEC_CONT_COMPORTAMIENTO_E where CONT_RUT like \"MMjMmHvg0zm+0U9%\" ').show()"
   ]
  },
  {
   "cell_type": "code",
   "execution_count": 24,
   "id": "d1ec98ef-ef36-4980-8d4d-79b985de893a",
   "metadata": {
    "scrolled": true
   },
   "outputs": [],
   "source": [
    "from pyspark.sql import Window\n",
    "import pyspark.sql.functions as F\n",
    "\n",
    "# Definir una ventana por CONT_RUT ordenada por COCO_AGNO_COMERCIAL descendente\n",
    "window_spec = Window.partitionBy(\"CONT_RUT\").orderBy(F.desc(\"COCO_AGNO_COMERCIAL\"))\n",
    "\n",
    "# Seleccionar los datos de la tabla con la fila de mayor COCO_AGNO_COMERCIAL para cada CONT_RUT\n",
    "comportamiento = spark.sql(\"\"\"\n",
    "SELECT \n",
    "    CONT_RUT,\n",
    "    CONT_DV,\n",
    "    COCO_IMP_VENTAS_IVA,\n",
    "    COCO_IMP_VENTAS_TRANSPORTE,\n",
    "    COCO_MCA_1_CATEGORIA,\n",
    "    COCO_MCA_2_CATEGORIA,\n",
    "    COCO_MCA_AFECTO_IMPTO_ADIC,\n",
    "    COCO_MCA_AFECTO_IMPTO_UNICO,\n",
    "    COCO_MCA_DOBLE_DECL_F22,\n",
    "    COCO_MCA_DONACIONES_CULTURALES,\n",
    "    COCO_MCA_DONACIONES_DEPORTIVAS,\n",
    "    COCO_MCA_DONACIONES_EDUCACIONALES,\n",
    "    COCO_MCA_DONACIONES_POLITICAS,\n",
    "    COCO_MCA_DONACIONES_UNIVERSIDAD,\n",
    "    COCO_MCA_ES_EMPRESA,\n",
    "    COCO_MCA_ES_GRAN_CONT,\n",
    "    COCO_MCA_ES_MINERA,\n",
    "    COCO_MCA_GLOBAL_COMPLE,\n",
    "    COCO_MCA_IMP_PPM_FONDO_MUTUO,\n",
    "    COCO_MCA_IMP_SOC_PROC,\n",
    "    COCO_MCA_SIN_CLAS_IMP,\n",
    "    COCO_MCA_TIPO_IMP,\n",
    "    COCO_MTO_DEV_SOLICITADA_F22,\n",
    "    COCO_MTO_VENTAS,\n",
    "    TICO_SUB_TPO_CONTR,\n",
    "    TRRE_COD_TMO_RTA,\n",
    "    TRVE_COD_TMO_VTA,\n",
    "    UNOP_UNIDAD_GRAN_CONT as UNIDAD_GRAN_CONTRIBUYENTE_COMPORTAMIENTO,\n",
    "    COMU_COD_COMUNA_PRINCIPAL,\n",
    "    COCO_AGNO_COMERCIAL\n",
    "FROM \n",
    "    DW.DW_HEC_CONT_COMPORTAMIENTO_E\n",
    "\"\"\")\n",
    "\n",
    "# Aplicar la ventana y filtrar solo la fila con el mayor COCO_AGNO_COMERCIAL para cada CONT_RUT\n",
    "df_comportamiento = comportamiento.withColumn(\n",
    "    \"row_number\", \n",
    "    F.row_number().over(window_spec)\n",
    ").filter(F.col(\"row_number\") == 1).drop(\"row_number\")\n",
    "\n",
    "#count=87547893\n",
    "#df_comportamiento=comportamiento.sample(withReplacement=False, fraction=0.1).limit(3)"
   ]
  },
  {
   "cell_type": "markdown",
   "id": "6550b47e-30dc-4f7d-ba8e-a74705fc94e0",
   "metadata": {},
   "source": [
    "### Tabla Actividad económica principal\n",
    "-----------------------------------------------------------------------------------------------------------------"
   ]
  },
  {
   "cell_type": "code",
   "execution_count": 25,
   "id": "c55aad46-ecd3-456f-b1b2-fd3ea328d526",
   "metadata": {},
   "outputs": [
    {
     "name": "stderr",
     "output_type": "stream",
     "text": [
      "[Stage 228:=====================================================>(99 + 1) / 100]\r"
     ]
    },
    {
     "name": "stdout",
     "output_type": "stream",
     "text": [
      "+--------------------+-------+--------------------+--------------------+----------------------+\n",
      "|            CONT_RUT|CONT_DV|ACEC_DES_ACTECO_PPAL| ACEC_DES_RUBRO_PPAL|ACEC_DES_SUBRUBRO_PPAL|\n",
      "+--------------------+-------+--------------------+--------------------+----------------------+\n",
      "|++Gaoca1E5Mv8vGVn...|      1|SERVICIOS DE ARQU...|ACTIVIDADES PROFE...|  ACTIVIDADES DE AR...|\n",
      "|+2E/yIbkmtemU2l1l...|      9|TRANSPORTE DE CAR...|TRANSPORTE Y ALMA...|  OTRAS ACTIVIDADES...|\n",
      "|+gunKakA0RFe1iXGK...|      8|OTRAS ACTIVIDADES...|OTRAS ACTIVIDADES...|  OTRAS ACTIVIDADES...|\n",
      "|+rRg6H4vglX72E3CK...|      7|OTRAS ACTIVIDADES...|OTRAS ACTIVIDADES...|  OTRAS ACTIVIDADES...|\n",
      "|+zPZGGdv6ntQ8+Inv...|      K|TRANSPORTE DE CAR...|TRANSPORTE Y ALMA...|  OTRAS ACTIVIDADES...|\n",
      "|/JEBrKEcmt9nlh+cO...|      9|ACTIVIDADES DE RE...|ACTIVIDADES DE AL...|  ACTIVIDADES DE RE...|\n",
      "|/LP5Y/Ax6xLiJB+D1...|      8|    CULTIVO DE TRIGO|AGRICULTURA, GANA...|  CULTIVO DE PLANTA...|\n",
      "|/MTtJYBrMQt7jjCfF...|      1|OTRAS ACTIVIDADES...|        CONSTRUCCION|  OTRAS ACTIVIDADES...|\n",
      "|/QD5Oc1c3YkcM8qEc...|      0|ACTIVIDADES DE AR...|ACTIVIDADES ARTIS...|  ACTIVIDADES CREAT...|\n",
      "|/aX6XLWBikp0QxC7j...|      0|OTRAS ACTIVIDADES...|OTRAS ACTIVIDADES...|  OTRAS ACTIVIDADES...|\n",
      "|/jXJOb/WO5PEwuz6N...|      K|OTRAS ACTIVIDADES...|OTRAS ACTIVIDADES...|  OTRAS ACTIVIDADES...|\n",
      "|/k3b9b7D9G4xx6BXo...|      0|          APICULTURA|AGRICULTURA, GANA...|             GANADERIA|\n",
      "|/sFnaEUGv+lXAYdKF...|      1|VENTA AL POR MAYO...|COMERCIO AL POR M...|  VENTA AL POR MAYO...|\n",
      "|/zZicURs4rAwKPPKw...|      K|OTRAS ACTIVIDADES...|OTRAS ACTIVIDADES...|  OTRAS ACTIVIDADES...|\n",
      "|01hYevaXz74i4hPUz...|      8|OTRAS ACTIVIDADES...|OTRAS ACTIVIDADES...|  OTRAS ACTIVIDADES...|\n",
      "|064DnjnQgAzhRQGmv...|      1|FABRICACION DE PA...|INDUSTRIA MANUFAC...|  FABRICACION DE PR...|\n",
      "|0gKsC178H7caiAuO0...|      7|OTRAS ACTIVIDADES...|ACTIVIDADES ARTIS...|  OTRAS ACTIVIDADES...|\n",
      "|1/kuMSrrxGUGQHM1v...|      6|FONDOS Y SOCIEDAD...|ACTIVIDADES FINAN...|  FONDOS Y SOCIEDAD...|\n",
      "|125DWeop8jqsz6ZyQ...|      5|ACTIVIDADES DE RE...|ACTIVIDADES DE AL...|  ACTIVIDADES DE RE...|\n",
      "|1NTBJOVvboXHdbTP6...|      6|VENTA AL POR MENO...|COMERCIO AL POR M...|  VENTA AL POR MENO...|\n",
      "+--------------------+-------+--------------------+--------------------+----------------------+\n",
      "only showing top 20 rows\n",
      "\n"
     ]
    },
    {
     "name": "stderr",
     "output_type": "stream",
     "text": [
      "                                                                                \r"
     ]
    }
   ],
   "source": [
    "df_hec_cont = spark.table(\"DW.DW_HEC_CONT_COMPORTAMIENTO_E\")\n",
    "df_dim_actividad = spark.table(\"DW.DW_DIM_ACTIVIDAD_ECONOMICA_E\")\n",
    "df_trn_actividad = spark.table(\"DW.DW_TRN_ACTIVIDAD_ECONOMICA_E\")\n",
    "\n",
    "# Realizar JOINs\n",
    "joined_df = df_hec_cont.alias(\"AL1\") \\\n",
    "    .join(df_trn_actividad.alias(\"AL3\"), \n",
    "          (F.col(\"AL1.CONT_RUT\") == F.col(\"AL3.CONT_RUT\")) & \n",
    "          (F.col(\"AL1.CONT_DV\") == F.col(\"AL3.CONT_DV\"))) \\\n",
    "    .join(df_dim_actividad.alias(\"AL2\"), \n",
    "          F.col(\"AL1.ACEC_COD_ACTECO_PRINCIPAL\") == F.col(\"AL2.ACEC_COD_ACTECO\")) \\\n",
    "    .filter((F.col(\"AL1.ACEC_COD_ACTECO_PRINCIPAL\") == F.col(\"AL3.ACTECO_COD_ACTECO\")) & \n",
    "            (F.col(\"AL1.PERI_AGNO_TRIBUTARIO_RENTA\") == 202300) & \n",
    "            (F.col(\"AL3.ACTECO_VIGENCIA\") == 'S'))\n",
    "\n",
    "\n",
    "acteco_principal = joined_df.select(\n",
    "    F.col(\"AL1.CONT_RUT\"),\n",
    "    F.col(\"AL1.CONT_DV\"),\n",
    "#    F.col(\"AL1.ACEC_COD_ACTECO_PRINCIPAL\"),\n",
    "    F.col(\"AL2.ACEC_DES_ACTECO\").alias(\"ACEC_DES_ACTECO_PPAL\"),\n",
    "#    F.col(\"AL2.ACEC_COD_RUBRO\").alias(\"ACEC_COD_RUBRO_AP\"),\n",
    "    F.col(\"AL2.ACEC_DES_RUBRO\").alias(\"ACEC_DES_RUBRO_PPAL\"),\n",
    "#    F.col(\"AL2.ACEC_COD_SUBRUBRO\").alias(\"ACEC_COD_SUBRUBRO_AP\"),\n",
    "    F.col(\"AL2.ACEC_DES_SUBRUBRO\").alias(\"ACEC_DES_SUBRUBRO_PPAL\")\n",
    ").distinct()\n",
    "\n",
    "\n",
    "#acteco_principal=acteco_principal.sample(withReplacement=False, fraction=0.1).limit(3)\n",
    "acteco_principal.show()"
   ]
  },
  {
   "cell_type": "code",
   "execution_count": 26,
   "id": "a10241f5-4643-4bad-afbc-3a0bd63e7f7b",
   "metadata": {},
   "outputs": [],
   "source": [
    "#acteco_principal.select('CONT_RUT').count()"
   ]
  },
  {
   "cell_type": "code",
   "execution_count": 27,
   "id": "aee13b4b-31f8-4059-9512-a5794ab7125c",
   "metadata": {},
   "outputs": [],
   "source": [
    "#acteco_principal.select('CONT_RUT').distinct().count()"
   ]
  },
  {
   "cell_type": "markdown",
   "id": "3ec29569-d3e7-47c8-bc42-e1960f31ce0b",
   "metadata": {},
   "source": [
    "## Cruce de tabla de segmentos con alertas"
   ]
  },
  {
   "cell_type": "code",
   "execution_count": 28,
   "id": "00bc9353-303a-48e2-9405-34fb564185ae",
   "metadata": {},
   "outputs": [],
   "source": [
    "# Realizar el full outer join entre df_sgm_trn_final y dw_trn_alertas\n",
    "result = df_sgm_trn_final.join(\n",
    "    dw_trn_alertas, \n",
    "    on=[\"CONT_RUT\", \"CONT_DV\"], \n",
    "    how=\"full_outer\"\n",
    ")\n",
    "\n",
    "# Seleccionar todas las columnas de ambas tablas y asegurar que CONT_RUT y CONT_DV aparezcan una sola vez\n",
    "result = result.select(\"CONT_RUT\", \"CONT_DV\", \n",
    "                       \"INICIO_SEGMENTO\", \n",
    "                       \"ES_EMPRESA\", \n",
    "                       \"ES_PERSONA\", \n",
    "                       \"Alerta_1019\", \n",
    "                       \"Alerta_2250\", \n",
    "                       \"Alerta_400X\", \n",
    "                       \"Alerta_4110\", \n",
    "                       \"Alerta_4111\", \n",
    "                       \"Alerta_4112\", \n",
    "                       \"Alerta_4113\", \n",
    "                       \"Alerta_52\", \n",
    "                       \"Alerta_5201\", \n",
    "                       \"Alerta_5203\", \n",
    "                       \"Alerta_53\", \n",
    "                       \"Alerta_5301\")\n"
   ]
  },
  {
   "cell_type": "code",
   "execution_count": 29,
   "id": "d8c91d63-5515-4395-aa26-3231bf502c71",
   "metadata": {},
   "outputs": [
    {
     "data": {
      "text/plain": [
       "['CONT_RUT',\n",
       " 'CONT_DV',\n",
       " 'INICIO_SEGMENTO',\n",
       " 'ES_EMPRESA',\n",
       " 'ES_PERSONA',\n",
       " 'Alerta_1019',\n",
       " 'Alerta_2250',\n",
       " 'Alerta_400X',\n",
       " 'Alerta_4110',\n",
       " 'Alerta_4111',\n",
       " 'Alerta_4112',\n",
       " 'Alerta_4113',\n",
       " 'Alerta_52',\n",
       " 'Alerta_5201',\n",
       " 'Alerta_5203',\n",
       " 'Alerta_53',\n",
       " 'Alerta_5301']"
      ]
     },
     "execution_count": 29,
     "metadata": {},
     "output_type": "execute_result"
    }
   ],
   "source": [
    "result.columns"
   ]
  },
  {
   "cell_type": "markdown",
   "id": "fe7b3697-6e59-413d-ac7b-6dcd86b4228a",
   "metadata": {},
   "source": [
    "### Cruce con direccion regional y otras variables asociado al ultimo negocio"
   ]
  },
  {
   "cell_type": "code",
   "execution_count": 30,
   "id": "0b76e8b8-0c8c-42e6-b3a7-80c78c741a4b",
   "metadata": {},
   "outputs": [],
   "source": [
    "# Realizar el full outer join entre el resultado y df_negocio\n",
    "result_final = result.join(\n",
    "    df_negocio,\n",
    "    on=[\"CONT_RUT\", \"CONT_DV\"],\n",
    "    how=\"full_outer\"\n",
    ")\n",
    "\n",
    "# Seleccionar todas las columnas deseadas\n",
    "result_final = result_final.select(\n",
    "    \"CONT_RUT\", \n",
    "    \"CONT_DV\", \n",
    "    \"INICIO_SEGMENTO\", \n",
    "    \"ES_EMPRESA\", \n",
    "    \"ES_PERSONA\", \n",
    "    \"Alerta_1019\", \n",
    "    \"Alerta_2250\", \n",
    "    \"Alerta_400X\", \n",
    "    \"Alerta_4110\", \n",
    "    \"Alerta_4111\", \n",
    "    \"Alerta_4112\", \n",
    "    \"Alerta_4113\", \n",
    "    \"Alerta_52\", \n",
    "    \"Alerta_5201\", \n",
    "    \"Alerta_5203\", \n",
    "    \"Alerta_53\", \n",
    "    \"Alerta_5301\", \n",
    "    \"UNOP_UNIDAD_GRAN_CONT\", \n",
    "    \"UNOP_UNIDAD\", \n",
    "    \"UNOP_COD_REGIONAL\", \n",
    "    \"NEGO_IND_EXPORTADOR_VO\", \n",
    "    \"NEGO_IND_PRIMERA_EXP_VO\", \n",
    "    \"NEGO_IND_VERIFICACION_VO\", \n",
    "    \"NEGO_NRO_FACTURAS_6MESES_VO\"\n",
    ")\n",
    "\n"
   ]
  },
  {
   "cell_type": "code",
   "execution_count": 31,
   "id": "e161751b-0659-418e-916b-4502306ec106",
   "metadata": {},
   "outputs": [
    {
     "data": {
      "text/plain": [
       "['CONT_RUT',\n",
       " 'CONT_DV',\n",
       " 'INICIO_SEGMENTO',\n",
       " 'ES_EMPRESA',\n",
       " 'ES_PERSONA',\n",
       " 'Alerta_1019',\n",
       " 'Alerta_2250',\n",
       " 'Alerta_400X',\n",
       " 'Alerta_4110',\n",
       " 'Alerta_4111',\n",
       " 'Alerta_4112',\n",
       " 'Alerta_4113',\n",
       " 'Alerta_52',\n",
       " 'Alerta_5201',\n",
       " 'Alerta_5203',\n",
       " 'Alerta_53',\n",
       " 'Alerta_5301',\n",
       " 'UNOP_UNIDAD_GRAN_CONT',\n",
       " 'UNOP_UNIDAD',\n",
       " 'UNOP_COD_REGIONAL',\n",
       " 'NEGO_IND_EXPORTADOR_VO',\n",
       " 'NEGO_IND_PRIMERA_EXP_VO',\n",
       " 'NEGO_IND_VERIFICACION_VO',\n",
       " 'NEGO_NRO_FACTURAS_6MESES_VO']"
      ]
     },
     "execution_count": 31,
     "metadata": {},
     "output_type": "execute_result"
    }
   ],
   "source": [
    "result_final.columns"
   ]
  },
  {
   "cell_type": "code",
   "execution_count": 32,
   "id": "898a7d1a-89fb-4e23-98f2-969245814b35",
   "metadata": {},
   "outputs": [
    {
     "data": {
      "text/plain": [
       "['CONT_RUT',\n",
       " 'CONT_DV',\n",
       " 'COCO_IMP_VENTAS_IVA',\n",
       " 'COCO_IMP_VENTAS_TRANSPORTE',\n",
       " 'COCO_MCA_1_CATEGORIA',\n",
       " 'COCO_MCA_2_CATEGORIA',\n",
       " 'COCO_MCA_AFECTO_IMPTO_ADIC',\n",
       " 'COCO_MCA_AFECTO_IMPTO_UNICO',\n",
       " 'COCO_MCA_DOBLE_DECL_F22',\n",
       " 'COCO_MCA_DONACIONES_CULTURALES',\n",
       " 'COCO_MCA_DONACIONES_DEPORTIVAS',\n",
       " 'COCO_MCA_DONACIONES_EDUCACIONALES',\n",
       " 'COCO_MCA_DONACIONES_POLITICAS',\n",
       " 'COCO_MCA_DONACIONES_UNIVERSIDAD',\n",
       " 'COCO_MCA_ES_EMPRESA',\n",
       " 'COCO_MCA_ES_GRAN_CONT',\n",
       " 'COCO_MCA_ES_MINERA',\n",
       " 'COCO_MCA_GLOBAL_COMPLE',\n",
       " 'COCO_MCA_IMP_PPM_FONDO_MUTUO',\n",
       " 'COCO_MCA_IMP_SOC_PROC',\n",
       " 'COCO_MCA_SIN_CLAS_IMP',\n",
       " 'COCO_MCA_TIPO_IMP',\n",
       " 'COCO_MTO_DEV_SOLICITADA_F22',\n",
       " 'COCO_MTO_VENTAS',\n",
       " 'TICO_SUB_TPO_CONTR',\n",
       " 'TRRE_COD_TMO_RTA',\n",
       " 'TRVE_COD_TMO_VTA',\n",
       " 'UNIDAD_GRAN_CONTRIBUYENTE_COMPORTAMIENTO',\n",
       " 'COMU_COD_COMUNA_PRINCIPAL',\n",
       " 'COCO_AGNO_COMERCIAL']"
      ]
     },
     "execution_count": 32,
     "metadata": {},
     "output_type": "execute_result"
    }
   ],
   "source": [
    "df_comportamiento.columns"
   ]
  },
  {
   "cell_type": "markdown",
   "id": "f6f77975-dfa9-4d33-a094-cfb8a244860f",
   "metadata": {},
   "source": [
    "### Cruce con indicadores de comportamiento"
   ]
  },
  {
   "cell_type": "code",
   "execution_count": 33,
   "id": "87bc1be9-8160-4006-b2ca-0e1778c40f08",
   "metadata": {},
   "outputs": [],
   "source": [
    "# Realizar el full outer join entre el resultado final y df_comportamiento\n",
    "result_final_comportamiento = result_final.join(\n",
    "    df_comportamiento,\n",
    "    on=[\"CONT_RUT\", \"CONT_DV\"],\n",
    "    how=\"full_outer\"\n",
    ")\n",
    "\n",
    "# Seleccionar todas las columnas deseadas\n",
    "result_final_comportamiento = result_final_comportamiento.select(\n",
    "    \"CONT_RUT\", \n",
    "    \"CONT_DV\", \n",
    "    \"INICIO_SEGMENTO\", \n",
    "    \"ES_EMPRESA\", \n",
    "    \"ES_PERSONA\", \n",
    "    \"Alerta_1019\", \n",
    "    \"Alerta_2250\", \n",
    "    \"Alerta_400X\", \n",
    "    \"Alerta_4110\", \n",
    "    \"Alerta_4111\", \n",
    "    \"Alerta_4112\", \n",
    "    \"Alerta_4113\", \n",
    "    \"Alerta_52\", \n",
    "    \"Alerta_5201\", \n",
    "    \"Alerta_5203\", \n",
    "    \"Alerta_53\", \n",
    "    \"Alerta_5301\", \n",
    "    \"UNOP_UNIDAD_GRAN_CONT\", \n",
    "    \"UNOP_COD_REGIONAL\", \n",
    "    \"NEGO_IND_EXPORTADOR_VO\", \n",
    "    \"NEGO_IND_PRIMERA_EXP_VO\", \n",
    "    \"NEGO_IND_VERIFICACION_VO\", \n",
    "    \"NEGO_NRO_FACTURAS_6MESES_VO\",\n",
    "    \"COCO_IMP_VENTAS_IVA\", \n",
    "    \"COCO_IMP_VENTAS_TRANSPORTE\", \n",
    "    \"COCO_MCA_1_CATEGORIA\", \n",
    "    \"COCO_MCA_2_CATEGORIA\", \n",
    "    \"COCO_MCA_AFECTO_IMPTO_ADIC\", \n",
    "    \"COCO_MCA_AFECTO_IMPTO_UNICO\", \n",
    "    \"COCO_MCA_DOBLE_DECL_F22\", \n",
    "    \"COCO_MCA_DONACIONES_CULTURALES\", \n",
    "    \"COCO_MCA_DONACIONES_DEPORTIVAS\", \n",
    "    \"COCO_MCA_DONACIONES_EDUCACIONALES\", \n",
    "    \"COCO_MCA_DONACIONES_POLITICAS\", \n",
    "    \"COCO_MCA_DONACIONES_UNIVERSIDAD\", \n",
    "    \"COCO_MCA_ES_EMPRESA\", \n",
    "    \"COCO_MCA_ES_GRAN_CONT\", \n",
    "    \"COCO_MCA_ES_MINERA\", \n",
    "    \"COCO_MCA_GLOBAL_COMPLE\", \n",
    "    \"COCO_MCA_IMP_PPM_FONDO_MUTUO\", \n",
    "    \"COCO_MCA_IMP_SOC_PROC\", \n",
    "    \"COCO_MCA_SIN_CLAS_IMP\", \n",
    "    \"COCO_MCA_TIPO_IMP\", \n",
    "    \"COCO_MTO_DEV_SOLICITADA_F22\", \n",
    "    \"COCO_MTO_VENTAS\", \n",
    "    \"TICO_SUB_TPO_CONTR\", \n",
    "    \"TRRE_COD_TMO_RTA\", \n",
    "    \"TRVE_COD_TMO_VTA\", \n",
    "    \"COMU_COD_COMUNA_PRINCIPAL\",\n",
    "    \"UNIDAD_GRAN_CONTRIBUYENTE_COMPORTAMIENTO\"\n",
    ")\n"
   ]
  },
  {
   "cell_type": "code",
   "execution_count": 34,
   "id": "5fe29f92-7780-4ca9-993e-d5a44f165304",
   "metadata": {},
   "outputs": [
    {
     "data": {
      "text/plain": [
       "['CONT_RUT',\n",
       " 'CONT_DV',\n",
       " 'INICIO_SEGMENTO',\n",
       " 'ES_EMPRESA',\n",
       " 'ES_PERSONA',\n",
       " 'Alerta_1019',\n",
       " 'Alerta_2250',\n",
       " 'Alerta_400X',\n",
       " 'Alerta_4110',\n",
       " 'Alerta_4111',\n",
       " 'Alerta_4112',\n",
       " 'Alerta_4113',\n",
       " 'Alerta_52',\n",
       " 'Alerta_5201',\n",
       " 'Alerta_5203',\n",
       " 'Alerta_53',\n",
       " 'Alerta_5301',\n",
       " 'UNOP_UNIDAD_GRAN_CONT',\n",
       " 'UNOP_COD_REGIONAL',\n",
       " 'NEGO_IND_EXPORTADOR_VO',\n",
       " 'NEGO_IND_PRIMERA_EXP_VO',\n",
       " 'NEGO_IND_VERIFICACION_VO',\n",
       " 'NEGO_NRO_FACTURAS_6MESES_VO',\n",
       " 'COCO_IMP_VENTAS_IVA',\n",
       " 'COCO_IMP_VENTAS_TRANSPORTE',\n",
       " 'COCO_MCA_1_CATEGORIA',\n",
       " 'COCO_MCA_2_CATEGORIA',\n",
       " 'COCO_MCA_AFECTO_IMPTO_ADIC',\n",
       " 'COCO_MCA_AFECTO_IMPTO_UNICO',\n",
       " 'COCO_MCA_DOBLE_DECL_F22',\n",
       " 'COCO_MCA_DONACIONES_CULTURALES',\n",
       " 'COCO_MCA_DONACIONES_DEPORTIVAS',\n",
       " 'COCO_MCA_DONACIONES_EDUCACIONALES',\n",
       " 'COCO_MCA_DONACIONES_POLITICAS',\n",
       " 'COCO_MCA_DONACIONES_UNIVERSIDAD',\n",
       " 'COCO_MCA_ES_EMPRESA',\n",
       " 'COCO_MCA_ES_GRAN_CONT',\n",
       " 'COCO_MCA_ES_MINERA',\n",
       " 'COCO_MCA_GLOBAL_COMPLE',\n",
       " 'COCO_MCA_IMP_PPM_FONDO_MUTUO',\n",
       " 'COCO_MCA_IMP_SOC_PROC',\n",
       " 'COCO_MCA_SIN_CLAS_IMP',\n",
       " 'COCO_MCA_TIPO_IMP',\n",
       " 'COCO_MTO_DEV_SOLICITADA_F22',\n",
       " 'COCO_MTO_VENTAS',\n",
       " 'TICO_SUB_TPO_CONTR',\n",
       " 'TRRE_COD_TMO_RTA',\n",
       " 'TRVE_COD_TMO_VTA',\n",
       " 'COMU_COD_COMUNA_PRINCIPAL',\n",
       " 'UNIDAD_GRAN_CONTRIBUYENTE_COMPORTAMIENTO']"
      ]
     },
     "execution_count": 34,
     "metadata": {},
     "output_type": "execute_result"
    }
   ],
   "source": [
    "result_final_comportamiento.columns"
   ]
  },
  {
   "cell_type": "markdown",
   "id": "f5af5a25-15c0-448d-a74c-ec09e7aac1ac",
   "metadata": {},
   "source": [
    "### Cruce con  actividad economica principal"
   ]
  },
  {
   "cell_type": "code",
   "execution_count": 35,
   "id": "ecfc10a9-6949-4be6-bdd2-178fe88827a1",
   "metadata": {},
   "outputs": [],
   "source": [
    "# Realizar el full outer join entre el resultado final y acteco_principal\n",
    "result_final_acteco = result_final_comportamiento.join(\n",
    "    acteco_principal,\n",
    "    on=[\"CONT_RUT\", \"CONT_DV\"],\n",
    "    how=\"full_outer\"\n",
    ")\n",
    "\n",
    "# Seleccionar todas las columnas deseadas\n",
    "result_final_acteco = result_final_acteco.select(\n",
    "    \"CONT_RUT\", \n",
    "    \"CONT_DV\", \n",
    "    \"INICIO_SEGMENTO\", \n",
    "    \"ES_EMPRESA\", \n",
    "    \"ES_PERSONA\", \n",
    "    \"Alerta_1019\", \n",
    "    \"Alerta_2250\", \n",
    "    \"Alerta_400X\", \n",
    "    \"Alerta_4110\", \n",
    "    \"Alerta_4111\", \n",
    "    \"Alerta_4112\", \n",
    "    \"Alerta_4113\", \n",
    "    \"Alerta_52\", \n",
    "    \"Alerta_5201\", \n",
    "    \"Alerta_5203\", \n",
    "    \"Alerta_53\", \n",
    "    \"Alerta_5301\", \n",
    "    \"UNOP_UNIDAD_GRAN_CONT\", \n",
    "    \"UNOP_COD_REGIONAL\", \n",
    "    \"NEGO_IND_EXPORTADOR_VO\", \n",
    "    \"NEGO_IND_PRIMERA_EXP_VO\", \n",
    "    \"NEGO_IND_VERIFICACION_VO\", \n",
    "    \"NEGO_NRO_FACTURAS_6MESES_VO\", \n",
    "    \"COCO_IMP_VENTAS_IVA\", \n",
    "    \"COCO_IMP_VENTAS_TRANSPORTE\", \n",
    "    \"COCO_MCA_1_CATEGORIA\", \n",
    "    \"COCO_MCA_2_CATEGORIA\", \n",
    "    \"COCO_MCA_AFECTO_IMPTO_ADIC\", \n",
    "    \"COCO_MCA_AFECTO_IMPTO_UNICO\", \n",
    "    \"COCO_MCA_DOBLE_DECL_F22\", \n",
    "    \"COCO_MCA_DONACIONES_CULTURALES\", \n",
    "    \"COCO_MCA_DONACIONES_DEPORTIVAS\", \n",
    "    \"COCO_MCA_DONACIONES_EDUCACIONALES\", \n",
    "    \"COCO_MCA_DONACIONES_POLITICAS\", \n",
    "    \"COCO_MCA_DONACIONES_UNIVERSIDAD\", \n",
    "    \"COCO_MCA_ES_EMPRESA\", \n",
    "    \"COCO_MCA_ES_GRAN_CONT\", \n",
    "    \"COCO_MCA_ES_MINERA\", \n",
    "    \"COCO_MCA_GLOBAL_COMPLE\", \n",
    "    \"COCO_MCA_IMP_PPM_FONDO_MUTUO\", \n",
    "    \"COCO_MCA_IMP_SOC_PROC\", \n",
    "    \"COCO_MCA_SIN_CLAS_IMP\", \n",
    "    \"COCO_MCA_TIPO_IMP\", \n",
    "    \"COCO_MTO_DEV_SOLICITADA_F22\", \n",
    "    \"COCO_MTO_VENTAS\", \n",
    "    \"TICO_SUB_TPO_CONTR\", \n",
    "    \"TRRE_COD_TMO_RTA\", \n",
    "    \"TRVE_COD_TMO_VTA\", \n",
    "    \"COMU_COD_COMUNA_PRINCIPAL\", \n",
    "    \"ACEC_DES_ACTECO_PPAL\", \n",
    "    \"ACEC_DES_RUBRO_PPAL\", \n",
    "    \"ACEC_DES_SUBRUBRO_PPAL\",\n",
    "    \"UNIDAD_GRAN_CONTRIBUYENTE_COMPORTAMIENTO\"\n",
    ").distinct()\n"
   ]
  },
  {
   "cell_type": "code",
   "execution_count": 36,
   "id": "3091e9c4-8051-4f61-ba53-a67a474e10be",
   "metadata": {},
   "outputs": [
    {
     "data": {
      "text/plain": [
       "['CONT_RUT',\n",
       " 'CONT_DV',\n",
       " 'INICIO_SEGMENTO',\n",
       " 'ES_EMPRESA',\n",
       " 'ES_PERSONA',\n",
       " 'Alerta_1019',\n",
       " 'Alerta_2250',\n",
       " 'Alerta_400X',\n",
       " 'Alerta_4110',\n",
       " 'Alerta_4111',\n",
       " 'Alerta_4112',\n",
       " 'Alerta_4113',\n",
       " 'Alerta_52',\n",
       " 'Alerta_5201',\n",
       " 'Alerta_5203',\n",
       " 'Alerta_53',\n",
       " 'Alerta_5301',\n",
       " 'UNOP_UNIDAD_GRAN_CONT',\n",
       " 'UNOP_COD_REGIONAL',\n",
       " 'NEGO_IND_EXPORTADOR_VO',\n",
       " 'NEGO_IND_PRIMERA_EXP_VO',\n",
       " 'NEGO_IND_VERIFICACION_VO',\n",
       " 'NEGO_NRO_FACTURAS_6MESES_VO',\n",
       " 'COCO_IMP_VENTAS_IVA',\n",
       " 'COCO_IMP_VENTAS_TRANSPORTE',\n",
       " 'COCO_MCA_1_CATEGORIA',\n",
       " 'COCO_MCA_2_CATEGORIA',\n",
       " 'COCO_MCA_AFECTO_IMPTO_ADIC',\n",
       " 'COCO_MCA_AFECTO_IMPTO_UNICO',\n",
       " 'COCO_MCA_DOBLE_DECL_F22',\n",
       " 'COCO_MCA_DONACIONES_CULTURALES',\n",
       " 'COCO_MCA_DONACIONES_DEPORTIVAS',\n",
       " 'COCO_MCA_DONACIONES_EDUCACIONALES',\n",
       " 'COCO_MCA_DONACIONES_POLITICAS',\n",
       " 'COCO_MCA_DONACIONES_UNIVERSIDAD',\n",
       " 'COCO_MCA_ES_EMPRESA',\n",
       " 'COCO_MCA_ES_GRAN_CONT',\n",
       " 'COCO_MCA_ES_MINERA',\n",
       " 'COCO_MCA_GLOBAL_COMPLE',\n",
       " 'COCO_MCA_IMP_PPM_FONDO_MUTUO',\n",
       " 'COCO_MCA_IMP_SOC_PROC',\n",
       " 'COCO_MCA_SIN_CLAS_IMP',\n",
       " 'COCO_MCA_TIPO_IMP',\n",
       " 'COCO_MTO_DEV_SOLICITADA_F22',\n",
       " 'COCO_MTO_VENTAS',\n",
       " 'TICO_SUB_TPO_CONTR',\n",
       " 'TRRE_COD_TMO_RTA',\n",
       " 'TRVE_COD_TMO_VTA',\n",
       " 'COMU_COD_COMUNA_PRINCIPAL',\n",
       " 'ACEC_DES_ACTECO_PPAL',\n",
       " 'ACEC_DES_RUBRO_PPAL',\n",
       " 'ACEC_DES_SUBRUBRO_PPAL',\n",
       " 'UNIDAD_GRAN_CONTRIBUYENTE_COMPORTAMIENTO']"
      ]
     },
     "execution_count": 36,
     "metadata": {},
     "output_type": "execute_result"
    }
   ],
   "source": [
    "result_final_acteco.columns"
   ]
  },
  {
   "cell_type": "code",
   "execution_count": 37,
   "id": "7e8ad420-38d4-4e9c-afb4-d9b96e649ff2",
   "metadata": {},
   "outputs": [],
   "source": [
    "#result_final_acteco.select('CONT_RUT').count()"
   ]
  },
  {
   "cell_type": "code",
   "execution_count": 38,
   "id": "103fb9a1-b436-45cf-9dcb-cf0294fede21",
   "metadata": {},
   "outputs": [],
   "source": [
    "#result_final_acteco.select('CONT_RUT').distinct().count()"
   ]
  },
  {
   "cell_type": "code",
   "execution_count": 39,
   "id": "60be66fc-24c2-45e6-adaf-fc220eea2f7d",
   "metadata": {},
   "outputs": [],
   "source": [
    "# Consideraremos solo los registros que tienen CONT_RUT no repetidos. Esto se hace debido a que no hay unicidad de registros por la naturaleza de ciertas tablas.\n",
    "\n",
    "# 1. Contar las ocurrencias de CONT_RUT\n",
    "conteo_rut = result_final_acteco.groupBy(\"CONT_RUT\").count()\n",
    "\n",
    "# 2. Filtrar los RUT que aparecen una vez\n",
    "rut_unico = conteo_rut.filter(conteo_rut[\"count\"] == 1)\n",
    "\n",
    "# 3. Unir de nuevo con el DataFrame original para obtener las filas correspondientes\n",
    "resultado_final = result_final_acteco.join(rut_unico.select(\"CONT_RUT\"), on=\"CONT_RUT\", how=\"inner\")\n",
    "\n",
    "# 4. Seleccionar solo las columnas del DataFrame original\n",
    "resultado_final = resultado_final.select(result_final_acteco.columns)\n"
   ]
  },
  {
   "cell_type": "code",
   "execution_count": 40,
   "id": "6fbf2f5b-37c5-4fe3-9d2d-3d20a589dbbe",
   "metadata": {},
   "outputs": [
    {
     "data": {
      "text/plain": [
       "['CONT_RUT',\n",
       " 'CONT_DV',\n",
       " 'INICIO_SEGMENTO',\n",
       " 'ES_EMPRESA',\n",
       " 'ES_PERSONA',\n",
       " 'Alerta_1019',\n",
       " 'Alerta_2250',\n",
       " 'Alerta_400X',\n",
       " 'Alerta_4110',\n",
       " 'Alerta_4111',\n",
       " 'Alerta_4112',\n",
       " 'Alerta_4113',\n",
       " 'Alerta_52',\n",
       " 'Alerta_5201',\n",
       " 'Alerta_5203',\n",
       " 'Alerta_53',\n",
       " 'Alerta_5301',\n",
       " 'UNOP_UNIDAD_GRAN_CONT',\n",
       " 'UNOP_COD_REGIONAL',\n",
       " 'NEGO_IND_EXPORTADOR_VO',\n",
       " 'NEGO_IND_PRIMERA_EXP_VO',\n",
       " 'NEGO_IND_VERIFICACION_VO',\n",
       " 'NEGO_NRO_FACTURAS_6MESES_VO',\n",
       " 'COCO_IMP_VENTAS_IVA',\n",
       " 'COCO_IMP_VENTAS_TRANSPORTE',\n",
       " 'COCO_MCA_1_CATEGORIA',\n",
       " 'COCO_MCA_2_CATEGORIA',\n",
       " 'COCO_MCA_AFECTO_IMPTO_ADIC',\n",
       " 'COCO_MCA_AFECTO_IMPTO_UNICO',\n",
       " 'COCO_MCA_DOBLE_DECL_F22',\n",
       " 'COCO_MCA_DONACIONES_CULTURALES',\n",
       " 'COCO_MCA_DONACIONES_DEPORTIVAS',\n",
       " 'COCO_MCA_DONACIONES_EDUCACIONALES',\n",
       " 'COCO_MCA_DONACIONES_POLITICAS',\n",
       " 'COCO_MCA_DONACIONES_UNIVERSIDAD',\n",
       " 'COCO_MCA_ES_EMPRESA',\n",
       " 'COCO_MCA_ES_GRAN_CONT',\n",
       " 'COCO_MCA_ES_MINERA',\n",
       " 'COCO_MCA_GLOBAL_COMPLE',\n",
       " 'COCO_MCA_IMP_PPM_FONDO_MUTUO',\n",
       " 'COCO_MCA_IMP_SOC_PROC',\n",
       " 'COCO_MCA_SIN_CLAS_IMP',\n",
       " 'COCO_MCA_TIPO_IMP',\n",
       " 'COCO_MTO_DEV_SOLICITADA_F22',\n",
       " 'COCO_MTO_VENTAS',\n",
       " 'TICO_SUB_TPO_CONTR',\n",
       " 'TRRE_COD_TMO_RTA',\n",
       " 'TRVE_COD_TMO_VTA',\n",
       " 'COMU_COD_COMUNA_PRINCIPAL',\n",
       " 'ACEC_DES_ACTECO_PPAL',\n",
       " 'ACEC_DES_RUBRO_PPAL',\n",
       " 'ACEC_DES_SUBRUBRO_PPAL',\n",
       " 'UNIDAD_GRAN_CONTRIBUYENTE_COMPORTAMIENTO']"
      ]
     },
     "execution_count": 40,
     "metadata": {},
     "output_type": "execute_result"
    }
   ],
   "source": [
    "resultado_final.columns"
   ]
  },
  {
   "cell_type": "code",
   "execution_count": 41,
   "id": "315e7485-b38f-4e71-b413-f78d5a07ba4e",
   "metadata": {},
   "outputs": [
    {
     "name": "stderr",
     "output_type": "stream",
     "text": [
      "                                                                                ]]0]\r"
     ]
    }
   ],
   "source": [
    "\n",
    "# Se guarda el archivo final en el datalake. \n",
    "resultado_final.write.mode('overwrite').format(\"parquet\").save(\"abfs://data@datalakesii.dfs.core.windows.net/DatosOrigen/lr-629/APA/Analisis_factura/data_contribuyentes\")\n"
   ]
  },
  {
   "cell_type": "code",
   "execution_count": 42,
   "id": "ebac80bd-6b04-4c16-86ab-3cb76206171c",
   "metadata": {},
   "outputs": [],
   "source": [
    "spark.stop()"
   ]
  },
  {
   "cell_type": "code",
   "execution_count": null,
   "id": "c4b14763-d5df-4471-8559-57cfbcedf888",
   "metadata": {},
   "outputs": [],
   "source": []
  }
 ],
 "metadata": {
  "kernelspec": {
   "display_name": "Python 3 (ipykernel)",
   "language": "python",
   "name": "python3"
  },
  "language_info": {
   "codemirror_mode": {
    "name": "ipython",
    "version": 3
   },
   "file_extension": ".py",
   "mimetype": "text/x-python",
   "name": "python",
   "nbconvert_exporter": "python",
   "pygments_lexer": "ipython3",
   "version": "3.10.13"
  }
 },
 "nbformat": 4,
 "nbformat_minor": 5
}
