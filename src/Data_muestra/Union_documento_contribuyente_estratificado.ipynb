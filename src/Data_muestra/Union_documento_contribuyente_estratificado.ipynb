{
 "cells": [
  {
   "cell_type": "markdown",
   "id": "2ce62e1c-9fc3-4634-a2a7-25cf6b4848c5",
   "metadata": {},
   "source": [
    "## Union de caracteristicas DTE y contribuyentes"
   ]
  },
  {
   "cell_type": "markdown",
   "id": "ebd02964-4247-4cae-8df1-8897d0e562ff",
   "metadata": {},
   "source": [
    "En este notebook se hace la union final de los documentos seleccionados y las características de los contribuyentes involucrados en dicha transacción."
   ]
  },
  {
   "cell_type": "code",
   "execution_count": 1,
   "id": "f4afafca-39f0-4ded-ba10-7bb4111837fa",
   "metadata": {},
   "outputs": [],
   "source": [
    "##Se importan packages necesarios\n",
    "from pyspark.sql import SparkSession\n",
    "from pyspark.sql.functions import *\n",
    "from pyspark import SparkContext, SparkConf\n",
    "import pyspark\n",
    "import pandas as pd\n",
    "import warnings\n",
    "warnings.filterwarnings('ignore', category=DeprecationWarning)\n",
    "from pyspark.sql.types import StringType,TimestampType\n",
    "import matplotlib.pyplot as plt\n",
    "from pyspark.sql import functions as F"
   ]
  },
  {
   "cell_type": "code",
   "execution_count": 2,
   "id": "7984c2cb-61b2-4982-b261-df376deccc1f",
   "metadata": {},
   "outputs": [
    {
     "name": "stderr",
     "output_type": "stream",
     "text": [
      "Setting spark.hadoop.yarn.resourcemanager.principal to hvega.externo\n"
     ]
    }
   ],
   "source": [
    "#inicio de sesion en spark\n",
    "ss_name = 'Lectura de datos Dashboard'\n",
    "wg_conn = \"spark.kerberos.access.hadoopFileSystems\"\n",
    "db_conn = \"abfs://data@datalakesii.dfs.core.windows.net/\"\n",
    "\n",
    "spark = SparkSession.builder \\\n",
    "      .appName(f\"Ejecucion algoritmo {ss_name}\")  \\\n",
    "      .config(wg_conn, db_conn) \\\n",
    "      .config(\"spark.executor.memory\", \"6g\") \\\n",
    "      .config(\"spark.driver.memory\", \"12g\")\\\n",
    "      .config(\"spark.executor.cores\", \"4\") \\\n",
    "      .config(\"spark.executor.instances\", \"5\") \\\n",
    "      .config(\"spark.driver.maxResultSize\", \"12g\") \\\n",
    "      .getOrCreate()\n",
    "\n",
    "spark.sparkContext.setLogLevel(\"ERROR\")\n",
    "\n",
    "spark.conf.set(\"spark.sql.parquet.enableVectorizedReader\",\"false\")\n",
    "spark.conf.set(\"spark.sql.parquet.int96RebaseModeInRead\", \"CORRECTED\")\n",
    "spark.conf.set(\"spark.sql.parquet.int96RebaseModeInWrite\", \"CORRECTED\")\n",
    "spark.conf.set(\"spark.sql.parquet.datetimeRebaseModeInRead\", \"CORRECTED\")\n",
    "spark.conf.set(\"spark.sql.parquet.datetimeRebaseModeInWrite\", \"CORRECTED\")\n",
    "spark.conf.set(\"spark.sql.debug.maxToStringFields\", \"2000\")"
   ]
  },
  {
   "cell_type": "markdown",
   "id": "08f7ac5f-7cbc-4e8d-be3e-b907b25d0d3e",
   "metadata": {},
   "source": [
    "## Lectura de datos"
   ]
  },
  {
   "cell_type": "code",
   "execution_count": 3,
   "id": "fc307824-4fb8-4827-b22d-90301ba84652",
   "metadata": {},
   "outputs": [
    {
     "name": "stderr",
     "output_type": "stream",
     "text": [
      "                                                                                \r"
     ]
    }
   ],
   "source": [
    "ruta_dtes = \"abfs://data@datalakesii.dfs.core.windows.net/DatosOrigen/lr-629/APA/Analisis_factura/dtes_muestra_estratificada\"\n",
    "\n",
    "# Leer el DataFrame desde la ruta especificada\n",
    "dte = spark.read.format(\"parquet\").load(ruta_dtes)"
   ]
  },
  {
   "cell_type": "code",
   "execution_count": 4,
   "id": "3976ccf1-9b51-431c-bd49-bedea97f4d8d",
   "metadata": {},
   "outputs": [],
   "source": [
    "# Ruta donde está el DataFrame de contribuyentes en formato Parquet\n",
    "ruta_contribuyentes = \"abfs://data@datalakesii.dfs.core.windows.net/DatosOrigen/lr-629/APA/Analisis_factura/data_contribuyentes\"\n",
    "\n",
    "# Leer el DataFrame desde la ruta especificada\n",
    "contribuyentes = spark.read.format(\"parquet\").load(ruta_contribuyentes)"
   ]
  },
  {
   "cell_type": "code",
   "execution_count": 5,
   "id": "f505b012-9508-42a7-942c-30f9820afc2c",
   "metadata": {},
   "outputs": [
    {
     "data": {
      "text/plain": [
       "['CONT_RUT',\n",
       " 'CONT_DV',\n",
       " 'INICIO_SEGMENTO',\n",
       " 'ES_EMPRESA',\n",
       " 'ES_PERSONA',\n",
       " 'Alerta_1019',\n",
       " 'Alerta_2250',\n",
       " 'Alerta_400X',\n",
       " 'Alerta_4110',\n",
       " 'Alerta_4111',\n",
       " 'Alerta_4112',\n",
       " 'Alerta_4113',\n",
       " 'Alerta_52',\n",
       " 'Alerta_5201',\n",
       " 'Alerta_5203',\n",
       " 'Alerta_53',\n",
       " 'Alerta_5301',\n",
       " 'UNOP_UNIDAD_GRAN_CONT',\n",
       " 'UNOP_COD_REGIONAL',\n",
       " 'NEGO_IND_EXPORTADOR_VO',\n",
       " 'NEGO_IND_PRIMERA_EXP_VO',\n",
       " 'NEGO_IND_VERIFICACION_VO',\n",
       " 'NEGO_NRO_FACTURAS_6MESES_VO',\n",
       " 'COCO_IMP_VENTAS_IVA',\n",
       " 'COCO_IMP_VENTAS_TRANSPORTE',\n",
       " 'COCO_MCA_1_CATEGORIA',\n",
       " 'COCO_MCA_2_CATEGORIA',\n",
       " 'COCO_MCA_AFECTO_IMPTO_ADIC',\n",
       " 'COCO_MCA_AFECTO_IMPTO_UNICO',\n",
       " 'COCO_MCA_DOBLE_DECL_F22',\n",
       " 'COCO_MCA_DONACIONES_CULTURALES',\n",
       " 'COCO_MCA_DONACIONES_DEPORTIVAS',\n",
       " 'COCO_MCA_DONACIONES_EDUCACIONALES',\n",
       " 'COCO_MCA_DONACIONES_POLITICAS',\n",
       " 'COCO_MCA_DONACIONES_UNIVERSIDAD',\n",
       " 'COCO_MCA_ES_EMPRESA',\n",
       " 'COCO_MCA_ES_GRAN_CONT',\n",
       " 'COCO_MCA_ES_MINERA',\n",
       " 'COCO_MCA_GLOBAL_COMPLE',\n",
       " 'COCO_MCA_IMP_PPM_FONDO_MUTUO',\n",
       " 'COCO_MCA_IMP_SOC_PROC',\n",
       " 'COCO_MCA_SIN_CLAS_IMP',\n",
       " 'COCO_MCA_TIPO_IMP',\n",
       " 'COCO_MTO_DEV_SOLICITADA_F22',\n",
       " 'COCO_MTO_VENTAS',\n",
       " 'TICO_SUB_TPO_CONTR',\n",
       " 'TRRE_COD_TMO_RTA',\n",
       " 'TRVE_COD_TMO_VTA',\n",
       " 'COMU_COD_COMUNA_PRINCIPAL',\n",
       " 'ACEC_DES_ACTECO_PPAL',\n",
       " 'ACEC_DES_RUBRO_PPAL',\n",
       " 'ACEC_DES_SUBRUBRO_PPAL',\n",
       " 'UNIDAD_GRAN_CONTRIBUYENTE_COMPORTAMIENTO']"
      ]
     },
     "execution_count": 5,
     "metadata": {},
     "output_type": "execute_result"
    }
   ],
   "source": [
    "contribuyentes.columns"
   ]
  },
  {
   "cell_type": "code",
   "execution_count": 6,
   "id": "580252a0-4bf2-43a8-8cef-58425ad3ac98",
   "metadata": {},
   "outputs": [
    {
     "data": {
      "text/plain": [
       "['dhdr_rut_recep',\n",
       " 'dhdr_rut_emisor',\n",
       " 'dhdr_folio',\n",
       " 'dtdc_codigo',\n",
       " 'dhdr_dv_emisor',\n",
       " 'dhdr_dv_recep',\n",
       " 'dhdr_mnt_total',\n",
       " 'dhdr_iva',\n",
       " 'avg_dhdr_mnt_total_emisor',\n",
       " 'stddev_dhdr_mnt_total_emisor',\n",
       " 'avg_dhdr_iva_emisor',\n",
       " 'stddev_dhdr_iva_emisor',\n",
       " 'avg_dhdr_mnt_total_receptor',\n",
       " 'stddev_dhdr_mnt_total_receptor',\n",
       " 'avg_dhdr_iva_receptor',\n",
       " 'stddev_dhdr_iva_receptor',\n",
       " 'anio',\n",
       " 'mes',\n",
       " 'dia',\n",
       " 'hora',\n",
       " 'es_fin_de_semana',\n",
       " 'bloque_horario',\n",
       " 'dia_semana',\n",
       " 'semana_mes']"
      ]
     },
     "execution_count": 6,
     "metadata": {},
     "output_type": "execute_result"
    }
   ],
   "source": [
    "dte.columns"
   ]
  },
  {
   "cell_type": "markdown",
   "id": "52b9da12-cd60-434e-91e7-6df6f7f60dc9",
   "metadata": {},
   "source": [
    "## Union de documentos con contribuyentes"
   ]
  },
  {
   "cell_type": "code",
   "execution_count": 7,
   "id": "88632948-e303-40bb-93f6-1b7614aa6a4c",
   "metadata": {},
   "outputs": [],
   "source": [
    "# 1. Renombrar las columnas del DataFrame contribuyentes para el emisor\n",
    "contribuyentes_emisor = contribuyentes.select(\n",
    "    *[F.col(c).alias(f\"emis_{c}\") for c in contribuyentes.columns]\n",
    ")\n"
   ]
  },
  {
   "cell_type": "code",
   "execution_count": 8,
   "id": "93ab68f6-a5f1-4df5-a369-467ca963a45f",
   "metadata": {},
   "outputs": [],
   "source": [
    "# 2. Hacer el primer join para el emisor\n",
    "dte_emisor = dte.join(\n",
    "    contribuyentes_emisor,\n",
    "    (dte[\"dhdr_rut_emisor\"] == contribuyentes_emisor[\"emis_CONT_RUT\"]) &\n",
    "    (dte[\"dhdr_dv_emisor\"] == contribuyentes_emisor[\"emis_CONT_DV\"]),\n",
    "    how=\"left\"\n",
    ")"
   ]
  },
  {
   "cell_type": "code",
   "execution_count": 9,
   "id": "2f24eabb-d1a4-45ae-9b5c-b7b449fc3923",
   "metadata": {},
   "outputs": [
    {
     "data": {
      "text/plain": [
       "['dhdr_rut_recep',\n",
       " 'dhdr_rut_emisor',\n",
       " 'dhdr_folio',\n",
       " 'dtdc_codigo',\n",
       " 'dhdr_dv_emisor',\n",
       " 'dhdr_dv_recep',\n",
       " 'dhdr_mnt_total',\n",
       " 'dhdr_iva',\n",
       " 'avg_dhdr_mnt_total_emisor',\n",
       " 'stddev_dhdr_mnt_total_emisor',\n",
       " 'avg_dhdr_iva_emisor',\n",
       " 'stddev_dhdr_iva_emisor',\n",
       " 'avg_dhdr_mnt_total_receptor',\n",
       " 'stddev_dhdr_mnt_total_receptor',\n",
       " 'avg_dhdr_iva_receptor',\n",
       " 'stddev_dhdr_iva_receptor',\n",
       " 'anio',\n",
       " 'mes',\n",
       " 'dia',\n",
       " 'hora',\n",
       " 'es_fin_de_semana',\n",
       " 'bloque_horario',\n",
       " 'dia_semana',\n",
       " 'semana_mes',\n",
       " 'emis_CONT_RUT',\n",
       " 'emis_CONT_DV',\n",
       " 'emis_INICIO_SEGMENTO',\n",
       " 'emis_ES_EMPRESA',\n",
       " 'emis_ES_PERSONA',\n",
       " 'emis_Alerta_1019',\n",
       " 'emis_Alerta_2250',\n",
       " 'emis_Alerta_400X',\n",
       " 'emis_Alerta_4110',\n",
       " 'emis_Alerta_4111',\n",
       " 'emis_Alerta_4112',\n",
       " 'emis_Alerta_4113',\n",
       " 'emis_Alerta_52',\n",
       " 'emis_Alerta_5201',\n",
       " 'emis_Alerta_5203',\n",
       " 'emis_Alerta_53',\n",
       " 'emis_Alerta_5301',\n",
       " 'emis_UNOP_UNIDAD_GRAN_CONT',\n",
       " 'emis_UNOP_COD_REGIONAL',\n",
       " 'emis_NEGO_IND_EXPORTADOR_VO',\n",
       " 'emis_NEGO_IND_PRIMERA_EXP_VO',\n",
       " 'emis_NEGO_IND_VERIFICACION_VO',\n",
       " 'emis_NEGO_NRO_FACTURAS_6MESES_VO',\n",
       " 'emis_COCO_IMP_VENTAS_IVA',\n",
       " 'emis_COCO_IMP_VENTAS_TRANSPORTE',\n",
       " 'emis_COCO_MCA_1_CATEGORIA',\n",
       " 'emis_COCO_MCA_2_CATEGORIA',\n",
       " 'emis_COCO_MCA_AFECTO_IMPTO_ADIC',\n",
       " 'emis_COCO_MCA_AFECTO_IMPTO_UNICO',\n",
       " 'emis_COCO_MCA_DOBLE_DECL_F22',\n",
       " 'emis_COCO_MCA_DONACIONES_CULTURALES',\n",
       " 'emis_COCO_MCA_DONACIONES_DEPORTIVAS',\n",
       " 'emis_COCO_MCA_DONACIONES_EDUCACIONALES',\n",
       " 'emis_COCO_MCA_DONACIONES_POLITICAS',\n",
       " 'emis_COCO_MCA_DONACIONES_UNIVERSIDAD',\n",
       " 'emis_COCO_MCA_ES_EMPRESA',\n",
       " 'emis_COCO_MCA_ES_GRAN_CONT',\n",
       " 'emis_COCO_MCA_ES_MINERA',\n",
       " 'emis_COCO_MCA_GLOBAL_COMPLE',\n",
       " 'emis_COCO_MCA_IMP_PPM_FONDO_MUTUO',\n",
       " 'emis_COCO_MCA_IMP_SOC_PROC',\n",
       " 'emis_COCO_MCA_SIN_CLAS_IMP',\n",
       " 'emis_COCO_MCA_TIPO_IMP',\n",
       " 'emis_COCO_MTO_DEV_SOLICITADA_F22',\n",
       " 'emis_COCO_MTO_VENTAS',\n",
       " 'emis_TICO_SUB_TPO_CONTR',\n",
       " 'emis_TRRE_COD_TMO_RTA',\n",
       " 'emis_TRVE_COD_TMO_VTA',\n",
       " 'emis_COMU_COD_COMUNA_PRINCIPAL',\n",
       " 'emis_ACEC_DES_ACTECO_PPAL',\n",
       " 'emis_ACEC_DES_RUBRO_PPAL',\n",
       " 'emis_ACEC_DES_SUBRUBRO_PPAL',\n",
       " 'emis_UNIDAD_GRAN_CONTRIBUYENTE_COMPORTAMIENTO']"
      ]
     },
     "execution_count": 9,
     "metadata": {},
     "output_type": "execute_result"
    }
   ],
   "source": [
    "dte_emisor.columns"
   ]
  },
  {
   "cell_type": "code",
   "execution_count": 10,
   "id": "e6d42fbb-3325-4187-8ae3-848e8096f588",
   "metadata": {},
   "outputs": [],
   "source": [
    "# 3. Renombrar las columnas del DataFrame contribuyentes para el receptor\n",
    "contribuyentes_receptor = contribuyentes.select(\n",
    "    *[F.col(c).alias(f\"recep_{c}\") for c in contribuyentes.columns ]\n",
    ")"
   ]
  },
  {
   "cell_type": "code",
   "execution_count": 11,
   "id": "3831fd60-94e6-4dcd-8088-e6a1db7454b8",
   "metadata": {},
   "outputs": [],
   "source": [
    "# 4. Hacer el segundo join para el receptor\n",
    "dte_final = dte_emisor.join(\n",
    "    contribuyentes_receptor,\n",
    "    (dte_emisor[\"dhdr_rut_recep\"] == contribuyentes_receptor[\"recep_CONT_RUT\"]) &\n",
    "    (dte_emisor[\"dhdr_dv_recep\"] == contribuyentes_receptor[\"recep_CONT_DV\"]),\n",
    "    how=\"left\"\n",
    ")"
   ]
  },
  {
   "cell_type": "code",
   "execution_count": 12,
   "id": "6e68322f-b913-47e6-bfb2-7016d9ebfaba",
   "metadata": {},
   "outputs": [
    {
     "data": {
      "text/plain": [
       "['dhdr_rut_recep',\n",
       " 'dhdr_rut_emisor',\n",
       " 'dhdr_folio',\n",
       " 'dtdc_codigo',\n",
       " 'dhdr_dv_emisor',\n",
       " 'dhdr_dv_recep',\n",
       " 'dhdr_mnt_total',\n",
       " 'dhdr_iva',\n",
       " 'avg_dhdr_mnt_total_emisor',\n",
       " 'stddev_dhdr_mnt_total_emisor',\n",
       " 'avg_dhdr_iva_emisor',\n",
       " 'stddev_dhdr_iva_emisor',\n",
       " 'avg_dhdr_mnt_total_receptor',\n",
       " 'stddev_dhdr_mnt_total_receptor',\n",
       " 'avg_dhdr_iva_receptor',\n",
       " 'stddev_dhdr_iva_receptor',\n",
       " 'anio',\n",
       " 'mes',\n",
       " 'dia',\n",
       " 'hora',\n",
       " 'es_fin_de_semana',\n",
       " 'bloque_horario',\n",
       " 'dia_semana',\n",
       " 'semana_mes',\n",
       " 'emis_CONT_RUT',\n",
       " 'emis_CONT_DV',\n",
       " 'emis_INICIO_SEGMENTO',\n",
       " 'emis_ES_EMPRESA',\n",
       " 'emis_ES_PERSONA',\n",
       " 'emis_Alerta_1019',\n",
       " 'emis_Alerta_2250',\n",
       " 'emis_Alerta_400X',\n",
       " 'emis_Alerta_4110',\n",
       " 'emis_Alerta_4111',\n",
       " 'emis_Alerta_4112',\n",
       " 'emis_Alerta_4113',\n",
       " 'emis_Alerta_52',\n",
       " 'emis_Alerta_5201',\n",
       " 'emis_Alerta_5203',\n",
       " 'emis_Alerta_53',\n",
       " 'emis_Alerta_5301',\n",
       " 'emis_UNOP_UNIDAD_GRAN_CONT',\n",
       " 'emis_UNOP_COD_REGIONAL',\n",
       " 'emis_NEGO_IND_EXPORTADOR_VO',\n",
       " 'emis_NEGO_IND_PRIMERA_EXP_VO',\n",
       " 'emis_NEGO_IND_VERIFICACION_VO',\n",
       " 'emis_NEGO_NRO_FACTURAS_6MESES_VO',\n",
       " 'emis_COCO_IMP_VENTAS_IVA',\n",
       " 'emis_COCO_IMP_VENTAS_TRANSPORTE',\n",
       " 'emis_COCO_MCA_1_CATEGORIA',\n",
       " 'emis_COCO_MCA_2_CATEGORIA',\n",
       " 'emis_COCO_MCA_AFECTO_IMPTO_ADIC',\n",
       " 'emis_COCO_MCA_AFECTO_IMPTO_UNICO',\n",
       " 'emis_COCO_MCA_DOBLE_DECL_F22',\n",
       " 'emis_COCO_MCA_DONACIONES_CULTURALES',\n",
       " 'emis_COCO_MCA_DONACIONES_DEPORTIVAS',\n",
       " 'emis_COCO_MCA_DONACIONES_EDUCACIONALES',\n",
       " 'emis_COCO_MCA_DONACIONES_POLITICAS',\n",
       " 'emis_COCO_MCA_DONACIONES_UNIVERSIDAD',\n",
       " 'emis_COCO_MCA_ES_EMPRESA',\n",
       " 'emis_COCO_MCA_ES_GRAN_CONT',\n",
       " 'emis_COCO_MCA_ES_MINERA',\n",
       " 'emis_COCO_MCA_GLOBAL_COMPLE',\n",
       " 'emis_COCO_MCA_IMP_PPM_FONDO_MUTUO',\n",
       " 'emis_COCO_MCA_IMP_SOC_PROC',\n",
       " 'emis_COCO_MCA_SIN_CLAS_IMP',\n",
       " 'emis_COCO_MCA_TIPO_IMP',\n",
       " 'emis_COCO_MTO_DEV_SOLICITADA_F22',\n",
       " 'emis_COCO_MTO_VENTAS',\n",
       " 'emis_TICO_SUB_TPO_CONTR',\n",
       " 'emis_TRRE_COD_TMO_RTA',\n",
       " 'emis_TRVE_COD_TMO_VTA',\n",
       " 'emis_COMU_COD_COMUNA_PRINCIPAL',\n",
       " 'emis_ACEC_DES_ACTECO_PPAL',\n",
       " 'emis_ACEC_DES_RUBRO_PPAL',\n",
       " 'emis_ACEC_DES_SUBRUBRO_PPAL',\n",
       " 'emis_UNIDAD_GRAN_CONTRIBUYENTE_COMPORTAMIENTO',\n",
       " 'recep_CONT_RUT',\n",
       " 'recep_CONT_DV',\n",
       " 'recep_INICIO_SEGMENTO',\n",
       " 'recep_ES_EMPRESA',\n",
       " 'recep_ES_PERSONA',\n",
       " 'recep_Alerta_1019',\n",
       " 'recep_Alerta_2250',\n",
       " 'recep_Alerta_400X',\n",
       " 'recep_Alerta_4110',\n",
       " 'recep_Alerta_4111',\n",
       " 'recep_Alerta_4112',\n",
       " 'recep_Alerta_4113',\n",
       " 'recep_Alerta_52',\n",
       " 'recep_Alerta_5201',\n",
       " 'recep_Alerta_5203',\n",
       " 'recep_Alerta_53',\n",
       " 'recep_Alerta_5301',\n",
       " 'recep_UNOP_UNIDAD_GRAN_CONT',\n",
       " 'recep_UNOP_COD_REGIONAL',\n",
       " 'recep_NEGO_IND_EXPORTADOR_VO',\n",
       " 'recep_NEGO_IND_PRIMERA_EXP_VO',\n",
       " 'recep_NEGO_IND_VERIFICACION_VO',\n",
       " 'recep_NEGO_NRO_FACTURAS_6MESES_VO',\n",
       " 'recep_COCO_IMP_VENTAS_IVA',\n",
       " 'recep_COCO_IMP_VENTAS_TRANSPORTE',\n",
       " 'recep_COCO_MCA_1_CATEGORIA',\n",
       " 'recep_COCO_MCA_2_CATEGORIA',\n",
       " 'recep_COCO_MCA_AFECTO_IMPTO_ADIC',\n",
       " 'recep_COCO_MCA_AFECTO_IMPTO_UNICO',\n",
       " 'recep_COCO_MCA_DOBLE_DECL_F22',\n",
       " 'recep_COCO_MCA_DONACIONES_CULTURALES',\n",
       " 'recep_COCO_MCA_DONACIONES_DEPORTIVAS',\n",
       " 'recep_COCO_MCA_DONACIONES_EDUCACIONALES',\n",
       " 'recep_COCO_MCA_DONACIONES_POLITICAS',\n",
       " 'recep_COCO_MCA_DONACIONES_UNIVERSIDAD',\n",
       " 'recep_COCO_MCA_ES_EMPRESA',\n",
       " 'recep_COCO_MCA_ES_GRAN_CONT',\n",
       " 'recep_COCO_MCA_ES_MINERA',\n",
       " 'recep_COCO_MCA_GLOBAL_COMPLE',\n",
       " 'recep_COCO_MCA_IMP_PPM_FONDO_MUTUO',\n",
       " 'recep_COCO_MCA_IMP_SOC_PROC',\n",
       " 'recep_COCO_MCA_SIN_CLAS_IMP',\n",
       " 'recep_COCO_MCA_TIPO_IMP',\n",
       " 'recep_COCO_MTO_DEV_SOLICITADA_F22',\n",
       " 'recep_COCO_MTO_VENTAS',\n",
       " 'recep_TICO_SUB_TPO_CONTR',\n",
       " 'recep_TRRE_COD_TMO_RTA',\n",
       " 'recep_TRVE_COD_TMO_VTA',\n",
       " 'recep_COMU_COD_COMUNA_PRINCIPAL',\n",
       " 'recep_ACEC_DES_ACTECO_PPAL',\n",
       " 'recep_ACEC_DES_RUBRO_PPAL',\n",
       " 'recep_ACEC_DES_SUBRUBRO_PPAL',\n",
       " 'recep_UNIDAD_GRAN_CONTRIBUYENTE_COMPORTAMIENTO']"
      ]
     },
     "execution_count": 12,
     "metadata": {},
     "output_type": "execute_result"
    }
   ],
   "source": [
    "dte_final.columns"
   ]
  },
  {
   "cell_type": "code",
   "execution_count": 13,
   "id": "2398e1f9-8a5c-449b-94de-47913bf30cab",
   "metadata": {},
   "outputs": [
    {
     "data": {
      "text/plain": [
       "['dhdr_rut_recep',\n",
       " 'dhdr_rut_emisor',\n",
       " 'dhdr_folio',\n",
       " 'dtdc_codigo',\n",
       " 'dhdr_dv_emisor',\n",
       " 'dhdr_dv_recep',\n",
       " 'dhdr_mnt_total',\n",
       " 'dhdr_iva',\n",
       " 'avg_dhdr_mnt_total_emisor',\n",
       " 'stddev_dhdr_mnt_total_emisor',\n",
       " 'avg_dhdr_iva_emisor',\n",
       " 'stddev_dhdr_iva_emisor',\n",
       " 'avg_dhdr_mnt_total_receptor',\n",
       " 'stddev_dhdr_mnt_total_receptor',\n",
       " 'avg_dhdr_iva_receptor',\n",
       " 'stddev_dhdr_iva_receptor',\n",
       " 'anio',\n",
       " 'mes',\n",
       " 'dia',\n",
       " 'hora',\n",
       " 'es_fin_de_semana',\n",
       " 'bloque_horario',\n",
       " 'dia_semana',\n",
       " 'semana_mes',\n",
       " 'emis_CONT_RUT',\n",
       " 'emis_CONT_DV',\n",
       " 'emis_INICIO_SEGMENTO',\n",
       " 'emis_ES_EMPRESA',\n",
       " 'emis_ES_PERSONA',\n",
       " 'emis_Alerta_1019',\n",
       " 'emis_Alerta_2250',\n",
       " 'emis_Alerta_400X',\n",
       " 'emis_Alerta_4110',\n",
       " 'emis_Alerta_4111',\n",
       " 'emis_Alerta_4112',\n",
       " 'emis_Alerta_4113',\n",
       " 'emis_Alerta_52',\n",
       " 'emis_Alerta_5201',\n",
       " 'emis_Alerta_5203',\n",
       " 'emis_Alerta_53',\n",
       " 'emis_Alerta_5301',\n",
       " 'emis_UNOP_UNIDAD_GRAN_CONT',\n",
       " 'emis_UNOP_COD_REGIONAL',\n",
       " 'emis_NEGO_IND_EXPORTADOR_VO',\n",
       " 'emis_NEGO_IND_PRIMERA_EXP_VO',\n",
       " 'emis_NEGO_IND_VERIFICACION_VO',\n",
       " 'emis_NEGO_NRO_FACTURAS_6MESES_VO',\n",
       " 'emis_COCO_IMP_VENTAS_IVA',\n",
       " 'emis_COCO_IMP_VENTAS_TRANSPORTE',\n",
       " 'emis_COCO_MCA_1_CATEGORIA',\n",
       " 'emis_COCO_MCA_2_CATEGORIA',\n",
       " 'emis_COCO_MCA_AFECTO_IMPTO_ADIC',\n",
       " 'emis_COCO_MCA_AFECTO_IMPTO_UNICO',\n",
       " 'emis_COCO_MCA_DOBLE_DECL_F22',\n",
       " 'emis_COCO_MCA_DONACIONES_CULTURALES',\n",
       " 'emis_COCO_MCA_DONACIONES_DEPORTIVAS',\n",
       " 'emis_COCO_MCA_DONACIONES_EDUCACIONALES',\n",
       " 'emis_COCO_MCA_DONACIONES_POLITICAS',\n",
       " 'emis_COCO_MCA_DONACIONES_UNIVERSIDAD',\n",
       " 'emis_COCO_MCA_ES_EMPRESA',\n",
       " 'emis_COCO_MCA_ES_GRAN_CONT',\n",
       " 'emis_COCO_MCA_ES_MINERA',\n",
       " 'emis_COCO_MCA_GLOBAL_COMPLE',\n",
       " 'emis_COCO_MCA_IMP_PPM_FONDO_MUTUO',\n",
       " 'emis_COCO_MCA_IMP_SOC_PROC',\n",
       " 'emis_COCO_MCA_SIN_CLAS_IMP',\n",
       " 'emis_COCO_MCA_TIPO_IMP',\n",
       " 'emis_COCO_MTO_DEV_SOLICITADA_F22',\n",
       " 'emis_COCO_MTO_VENTAS',\n",
       " 'emis_TICO_SUB_TPO_CONTR',\n",
       " 'emis_TRRE_COD_TMO_RTA',\n",
       " 'emis_TRVE_COD_TMO_VTA',\n",
       " 'emis_COMU_COD_COMUNA_PRINCIPAL',\n",
       " 'emis_ACEC_DES_ACTECO_PPAL',\n",
       " 'emis_ACEC_DES_RUBRO_PPAL',\n",
       " 'emis_ACEC_DES_SUBRUBRO_PPAL',\n",
       " 'emis_UNIDAD_GRAN_CONTRIBUYENTE_COMPORTAMIENTO',\n",
       " 'recep_CONT_RUT',\n",
       " 'recep_CONT_DV',\n",
       " 'recep_INICIO_SEGMENTO',\n",
       " 'recep_ES_EMPRESA',\n",
       " 'recep_ES_PERSONA',\n",
       " 'recep_Alerta_1019',\n",
       " 'recep_Alerta_2250',\n",
       " 'recep_Alerta_400X',\n",
       " 'recep_Alerta_4110',\n",
       " 'recep_Alerta_4111',\n",
       " 'recep_Alerta_4112',\n",
       " 'recep_Alerta_4113',\n",
       " 'recep_Alerta_52',\n",
       " 'recep_Alerta_5201',\n",
       " 'recep_Alerta_5203',\n",
       " 'recep_Alerta_53',\n",
       " 'recep_Alerta_5301',\n",
       " 'recep_UNOP_UNIDAD_GRAN_CONT',\n",
       " 'recep_UNOP_COD_REGIONAL',\n",
       " 'recep_NEGO_IND_EXPORTADOR_VO',\n",
       " 'recep_NEGO_IND_PRIMERA_EXP_VO',\n",
       " 'recep_NEGO_IND_VERIFICACION_VO',\n",
       " 'recep_NEGO_NRO_FACTURAS_6MESES_VO',\n",
       " 'recep_COCO_IMP_VENTAS_IVA',\n",
       " 'recep_COCO_IMP_VENTAS_TRANSPORTE',\n",
       " 'recep_COCO_MCA_1_CATEGORIA',\n",
       " 'recep_COCO_MCA_2_CATEGORIA',\n",
       " 'recep_COCO_MCA_AFECTO_IMPTO_ADIC',\n",
       " 'recep_COCO_MCA_AFECTO_IMPTO_UNICO',\n",
       " 'recep_COCO_MCA_DOBLE_DECL_F22',\n",
       " 'recep_COCO_MCA_DONACIONES_CULTURALES',\n",
       " 'recep_COCO_MCA_DONACIONES_DEPORTIVAS',\n",
       " 'recep_COCO_MCA_DONACIONES_EDUCACIONALES',\n",
       " 'recep_COCO_MCA_DONACIONES_POLITICAS',\n",
       " 'recep_COCO_MCA_DONACIONES_UNIVERSIDAD',\n",
       " 'recep_COCO_MCA_ES_EMPRESA',\n",
       " 'recep_COCO_MCA_ES_GRAN_CONT',\n",
       " 'recep_COCO_MCA_ES_MINERA',\n",
       " 'recep_COCO_MCA_GLOBAL_COMPLE',\n",
       " 'recep_COCO_MCA_IMP_PPM_FONDO_MUTUO',\n",
       " 'recep_COCO_MCA_IMP_SOC_PROC',\n",
       " 'recep_COCO_MCA_SIN_CLAS_IMP',\n",
       " 'recep_COCO_MCA_TIPO_IMP',\n",
       " 'recep_COCO_MTO_DEV_SOLICITADA_F22',\n",
       " 'recep_COCO_MTO_VENTAS',\n",
       " 'recep_TICO_SUB_TPO_CONTR',\n",
       " 'recep_TRRE_COD_TMO_RTA',\n",
       " 'recep_TRVE_COD_TMO_VTA',\n",
       " 'recep_COMU_COD_COMUNA_PRINCIPAL',\n",
       " 'recep_ACEC_DES_ACTECO_PPAL',\n",
       " 'recep_ACEC_DES_RUBRO_PPAL',\n",
       " 'recep_ACEC_DES_SUBRUBRO_PPAL',\n",
       " 'recep_UNIDAD_GRAN_CONTRIBUYENTE_COMPORTAMIENTO']"
      ]
     },
     "execution_count": 13,
     "metadata": {},
     "output_type": "execute_result"
    }
   ],
   "source": [
    "dte_final.columns"
   ]
  },
  {
   "cell_type": "code",
   "execution_count": 14,
   "id": "7bdc810e-7963-45dd-a9e9-d140061187ca",
   "metadata": {},
   "outputs": [],
   "source": [
    "#Se elige solo algunas columnas a guardar(por temas de tamanio del dataset original, no se guardara todas las variables. Eso puede ser modificado\n",
    "\n",
    "numerical_columns = [\n",
    "    'dhdr_mnt_total', 'dhdr_iva',\n",
    "    'recep_COCO_IMP_VENTAS_IVA',\n",
    "    'recep_COCO_IMP_VENTAS_TRANSPORTE',\n",
    "    'recep_COCO_MTO_DEV_SOLICITADA_F22',\n",
    "    'recep_COCO_MTO_VENTAS',\n",
    "    'recep_NEGO_NRO_FACTURAS_6MESES_VO',\n",
    "    'emis_COCO_IMP_VENTAS_IVA',\n",
    "    'emis_COCO_IMP_VENTAS_TRANSPORTE',\n",
    "    'emis_COCO_MTO_DEV_SOLICITADA_F22',\n",
    "    'emis_COCO_MTO_VENTAS',\n",
    "    'emis_NEGO_NRO_FACTURAS_6MESES_VO',\n",
    "    'avg_dhdr_mnt_total_emisor',\n",
    "     'stddev_dhdr_mnt_total_emisor',\n",
    "     'avg_dhdr_iva_emisor',\n",
    "     'stddev_dhdr_iva_emisor',\n",
    "     'avg_dhdr_mnt_total_receptor',\n",
    "     'stddev_dhdr_mnt_total_receptor',\n",
    "     'avg_dhdr_iva_receptor',\n",
    "     'stddev_dhdr_iva_receptor'\n",
    "]\n",
    "\n",
    "\n",
    "categorical_columns = [\n",
    "    'es_fin_de_semana',\n",
    "     'bloque_horario', 'dia_semana', 'semana_mes',\n",
    "    'emis_INICIO_SEGMENTO', 'emis_ACEC_DES_SUBRUBRO_PPAL', 'emis_Alerta_1019', 'emis_Alerta_2250',\n",
    "    'emis_Alerta_400X', 'emis_Alerta_4110', 'emis_Alerta_4111', 'emis_Alerta_4112',\n",
    "    'emis_Alerta_4113', 'emis_Alerta_52', \n",
    "    'emis_Alerta_5201',\n",
    "    'emis_Alerta_5203',\n",
    "    'emis_Alerta_53',\n",
    "    'emis_Alerta_5301',\n",
    "    'recep_INICIO_SEGMENTO', 'recep_ACEC_DES_SUBRUBRO_PPAL', 'recep_Alerta_1019', 'recep_Alerta_2250',\n",
    "    'recep_Alerta_400X', 'recep_Alerta_4110', 'recep_Alerta_4111', 'recep_Alerta_4112',\n",
    "    'recep_Alerta_4113', 'recep_Alerta_52',\n",
    "    'recep_Alerta_5201',\n",
    "    'recep_Alerta_5203',\n",
    "   'recep_Alerta_5301',\n",
    "    'recep_Alerta_53'\n",
    "]\n",
    "\n",
    "columnas_a_conservar = numerical_columns + categorical_columns + ['dhdr_folio']"
   ]
  },
  {
   "cell_type": "code",
   "execution_count": 15,
   "id": "338c59e2-8605-40e6-bdff-55e4631024cc",
   "metadata": {},
   "outputs": [],
   "source": [
    "dte_final = dte_final.select(*columnas_a_conservar)"
   ]
  },
  {
   "cell_type": "code",
   "execution_count": 16,
   "id": "c2ff627e-338f-4b01-a83c-fd5b7074b61d",
   "metadata": {},
   "outputs": [],
   "source": [
    "# 7. Eliminar las columnas de RUT y DV originales\n",
    "dataset_final = dte_final.drop('dtdc_codigo',\n",
    " 'dhdr_rut_emisor',\n",
    " 'dhdr_dv_emisor',\n",
    " 'dhdr_rut_recep',\n",
    " 'dhdr_dv_recep',\"dhdr_fch_emis\",\"dhdr_tmst_firma\")\n"
   ]
  },
  {
   "cell_type": "code",
   "execution_count": 17,
   "id": "2c162746-930c-43c1-94bf-30c8fc1d8271",
   "metadata": {},
   "outputs": [
    {
     "name": "stdout",
     "output_type": "stream",
     "text": [
      "root\n",
      " |-- dhdr_mnt_total: decimal(22,5) (nullable = true)\n",
      " |-- dhdr_iva: long (nullable = true)\n",
      " |-- recep_COCO_IMP_VENTAS_IVA: double (nullable = true)\n",
      " |-- recep_COCO_IMP_VENTAS_TRANSPORTE: double (nullable = true)\n",
      " |-- recep_COCO_MTO_DEV_SOLICITADA_F22: string (nullable = true)\n",
      " |-- recep_COCO_MTO_VENTAS: double (nullable = true)\n",
      " |-- recep_NEGO_NRO_FACTURAS_6MESES_VO: integer (nullable = true)\n",
      " |-- emis_COCO_IMP_VENTAS_IVA: double (nullable = true)\n",
      " |-- emis_COCO_IMP_VENTAS_TRANSPORTE: double (nullable = true)\n",
      " |-- emis_COCO_MTO_DEV_SOLICITADA_F22: string (nullable = true)\n",
      " |-- emis_COCO_MTO_VENTAS: double (nullable = true)\n",
      " |-- emis_NEGO_NRO_FACTURAS_6MESES_VO: integer (nullable = true)\n",
      " |-- avg_dhdr_mnt_total_emisor: decimal(26,9) (nullable = true)\n",
      " |-- stddev_dhdr_mnt_total_emisor: double (nullable = true)\n",
      " |-- avg_dhdr_iva_emisor: double (nullable = true)\n",
      " |-- stddev_dhdr_iva_emisor: double (nullable = true)\n",
      " |-- avg_dhdr_mnt_total_receptor: decimal(26,9) (nullable = true)\n",
      " |-- stddev_dhdr_mnt_total_receptor: double (nullable = true)\n",
      " |-- avg_dhdr_iva_receptor: double (nullable = true)\n",
      " |-- stddev_dhdr_iva_receptor: double (nullable = true)\n",
      " |-- es_fin_de_semana: integer (nullable = true)\n",
      " |-- bloque_horario: string (nullable = true)\n",
      " |-- dia_semana: integer (nullable = true)\n",
      " |-- semana_mes: double (nullable = true)\n",
      " |-- emis_INICIO_SEGMENTO: string (nullable = true)\n",
      " |-- emis_ACEC_DES_SUBRUBRO_PPAL: string (nullable = true)\n",
      " |-- emis_Alerta_1019: integer (nullable = true)\n",
      " |-- emis_Alerta_2250: integer (nullable = true)\n",
      " |-- emis_Alerta_400X: integer (nullable = true)\n",
      " |-- emis_Alerta_4110: integer (nullable = true)\n",
      " |-- emis_Alerta_4111: integer (nullable = true)\n",
      " |-- emis_Alerta_4112: integer (nullable = true)\n",
      " |-- emis_Alerta_4113: integer (nullable = true)\n",
      " |-- emis_Alerta_52: integer (nullable = true)\n",
      " |-- emis_Alerta_5201: integer (nullable = true)\n",
      " |-- emis_Alerta_5203: integer (nullable = true)\n",
      " |-- emis_Alerta_53: integer (nullable = true)\n",
      " |-- emis_Alerta_5301: integer (nullable = true)\n",
      " |-- recep_INICIO_SEGMENTO: string (nullable = true)\n",
      " |-- recep_ACEC_DES_SUBRUBRO_PPAL: string (nullable = true)\n",
      " |-- recep_Alerta_1019: integer (nullable = true)\n",
      " |-- recep_Alerta_2250: integer (nullable = true)\n",
      " |-- recep_Alerta_400X: integer (nullable = true)\n",
      " |-- recep_Alerta_4110: integer (nullable = true)\n",
      " |-- recep_Alerta_4111: integer (nullable = true)\n",
      " |-- recep_Alerta_4112: integer (nullable = true)\n",
      " |-- recep_Alerta_4113: integer (nullable = true)\n",
      " |-- recep_Alerta_52: integer (nullable = true)\n",
      " |-- recep_Alerta_5201: integer (nullable = true)\n",
      " |-- recep_Alerta_5203: integer (nullable = true)\n",
      " |-- recep_Alerta_5301: integer (nullable = true)\n",
      " |-- recep_Alerta_53: integer (nullable = true)\n",
      " |-- dhdr_folio: integer (nullable = true)\n",
      "\n"
     ]
    }
   ],
   "source": [
    "dataset_final.printSchema()"
   ]
  },
  {
   "cell_type": "code",
   "execution_count": 18,
   "id": "bce5771a-3ff7-4f7a-a457-a75fb9a44c18",
   "metadata": {},
   "outputs": [
    {
     "name": "stderr",
     "output_type": "stream",
     "text": [
      "                                                                                \r"
     ]
    },
    {
     "data": {
      "text/plain": [
       "3450520"
      ]
     },
     "execution_count": 18,
     "metadata": {},
     "output_type": "execute_result"
    }
   ],
   "source": [
    "dataset_final.count()"
   ]
  },
  {
   "cell_type": "code",
   "execution_count": 19,
   "id": "d372b6ce-090e-4861-a347-b0b6ce46f53f",
   "metadata": {
    "scrolled": true
   },
   "outputs": [
    {
     "name": "stderr",
     "output_type": "stream",
     "text": [
      "                                                                                \r"
     ]
    }
   ],
   "source": [
    "dataset_final.write.mode('overwrite').format(\"parquet\").save(\"abfs://data@datalakesii.dfs.core.windows.net/DatosOrigen/lr-629/APA/Analisis_factura/dataset_final_estratificado\")\n"
   ]
  },
  {
   "cell_type": "code",
   "execution_count": 20,
   "id": "c5de5989-954e-4d9b-b5dc-b446545e67e5",
   "metadata": {},
   "outputs": [],
   "source": [
    "spark.stop()"
   ]
  },
  {
   "cell_type": "code",
   "execution_count": null,
   "id": "ce783368-46c7-4803-a9fd-91618b473699",
   "metadata": {},
   "outputs": [],
   "source": []
  }
 ],
 "metadata": {
  "kernelspec": {
   "display_name": "Python 3 (ipykernel)",
   "language": "python",
   "name": "python3"
  },
  "language_info": {
   "codemirror_mode": {
    "name": "ipython",
    "version": 3
   },
   "file_extension": ".py",
   "mimetype": "text/x-python",
   "name": "python",
   "nbconvert_exporter": "python",
   "pygments_lexer": "ipython3",
   "version": "3.11.6"
  }
 },
 "nbformat": 4,
 "nbformat_minor": 5
}
