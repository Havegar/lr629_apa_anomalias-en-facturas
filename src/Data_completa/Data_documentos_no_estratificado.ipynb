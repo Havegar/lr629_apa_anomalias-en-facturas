{
 "cells": [
  {
   "cell_type": "markdown",
   "id": "052918df-400b-4edb-a2c2-26418bfd9b0d",
   "metadata": {},
   "source": [
    "# Data documentos (muestra total)"
   ]
  },
  {
   "cell_type": "markdown",
   "id": "31bfc5b2-b897-4c32-9127-ac5ff75bf85c",
   "metadata": {},
   "source": [
    "En este notebook se obtiene caracteristicas unicas documentos electronicos tipo 33 previo a la union con la data de cada contribuyente. "
   ]
  },
  {
   "cell_type": "code",
   "execution_count": 1,
   "id": "a07a5f17-856b-4d62-86bb-4e4a3050b44a",
   "metadata": {},
   "outputs": [],
   "source": [
    "##Se importan packages necesarios\n",
    "from pyspark.sql import SparkSession\n",
    "from pyspark.sql.functions import *\n",
    "from pyspark import SparkContext, SparkConf\n",
    "import pyspark\n",
    "import pandas as pd\n",
    "import warnings\n",
    "warnings.filterwarnings('ignore', category=DeprecationWarning)\n",
    "from pyspark.sql.types import StringType,TimestampType\n",
    "import matplotlib.pyplot as plt\n",
    "from pyspark.sql import functions as F"
   ]
  },
  {
   "cell_type": "code",
   "execution_count": 2,
   "id": "b9d0152e-b6ef-4448-a2a1-f90702d0b81e",
   "metadata": {},
   "outputs": [
    {
     "name": "stderr",
     "output_type": "stream",
     "text": [
      "Setting spark.hadoop.yarn.resourcemanager.principal to hvega.externo\n"
     ]
    }
   ],
   "source": [
    "#inicio de sesion en spark\n",
    "ss_name = 'Lectura de datos Dashboard'\n",
    "wg_conn = \"spark.kerberos.access.hadoopFileSystems\"\n",
    "db_conn = \"abfs://data@datalakesii.dfs.core.windows.net/\"\n",
    "\n",
    "spark = SparkSession.builder \\\n",
    "      .appName(f\"Ejecucion algoritmo {ss_name}\")  \\\n",
    "      .config(wg_conn, db_conn) \\\n",
    "      .config(\"spark.executor.memory\", \"6g\") \\\n",
    "      .config(\"spark.driver.memory\", \"12g\")\\\n",
    "      .config(\"spark.executor.cores\", \"4\") \\\n",
    "      .config(\"spark.executor.instances\", \"5\") \\\n",
    "      .config(\"spark.driver.maxResultSize\", \"12g\") \\\n",
    "      .getOrCreate()\n",
    "\n",
    "spark.sparkContext.setLogLevel(\"ERROR\")\n",
    "\n",
    "spark.conf.set(\"spark.sql.parquet.enableVectorizedReader\",\"false\")\n",
    "spark.conf.set(\"spark.sql.parquet.int96RebaseModeInRead\", \"CORRECTED\")\n",
    "spark.conf.set(\"spark.sql.parquet.int96RebaseModeInWrite\", \"CORRECTED\")\n",
    "spark.conf.set(\"spark.sql.parquet.datetimeRebaseModeInRead\", \"CORRECTED\")\n",
    "spark.conf.set(\"spark.sql.parquet.datetimeRebaseModeInWrite\", \"CORRECTED\")\n",
    "spark.conf.set(\"spark.sql.debug.maxToStringFields\", \"2000\")"
   ]
  },
  {
   "cell_type": "markdown",
   "id": "cc65d567-0979-450a-913a-2e4af97cabad",
   "metadata": {},
   "source": [
    "### Documentos electronicos tipo 33 y caracteristicas"
   ]
  },
  {
   "cell_type": "code",
   "execution_count": 3,
   "id": "e2285458-cc69-44a1-a8c4-364084529c34",
   "metadata": {},
   "outputs": [
    {
     "name": "stderr",
     "output_type": "stream",
     "text": [
      "Hive Session ID = 0a9659eb-89f3-4f16-9197-7496aad694ec\n"
     ]
    }
   ],
   "source": [
    "# Seleciconamos de la dte emiso, receptor, folio, monto total, hora y fecha de emision respectivas\n",
    "\n",
    "dte=spark.sql(\"select dhdr_folio,dtdc_codigo,dhdr_fch_emis, dhdr_rut_emisor,dhdr_dv_emisor,dhdr_rut_recep,dhdr_dv_recep,dhdr_mnt_total,dhdr_iva,dhdr_tmst_firma from DWBGDATA.HEADER_DTE_CONSOLIDADA_ENC_SAS_ANALITICA where dtdc_codigo=33\")"
   ]
  },
  {
   "cell_type": "code",
   "execution_count": 4,
   "id": "739afa92-4dea-4084-a659-fbb96e913b97",
   "metadata": {},
   "outputs": [
    {
     "name": "stderr",
     "output_type": "stream",
     "text": [
      "                                                                                \r"
     ]
    }
   ],
   "source": [
    "# 2. Obtener la última fecha de emisión\n",
    "ultima_fecha_emision = dte.agg(F.max(\"dhdr_fch_emis\")).collect()[0][0]\n",
    "\n",
    "# 2. Calcular la fecha de hace 14 días (2 semanas)\n",
    "fecha_antes = F.date_sub(F.lit(ultima_fecha_emision), 14)\n",
    "\n",
    "# 3. Filtrar el DataFrame para las últimas 2 semanas\n",
    "dte = dte.filter(dte[\"dhdr_fch_emis\"] >= fecha_antes)\n"
   ]
  },
  {
   "cell_type": "code",
   "execution_count": 17,
   "id": "4e786957-f9e0-4a43-b60e-aad61764e3e9",
   "metadata": {},
   "outputs": [
    {
     "name": "stderr",
     "output_type": "stream",
     "text": [
      "                                                                                44]\r"
     ]
    },
    {
     "data": {
      "text/plain": [
       "16890157"
      ]
     },
     "execution_count": 17,
     "metadata": {},
     "output_type": "execute_result"
    }
   ],
   "source": [
    "dte.count()"
   ]
  },
  {
   "cell_type": "markdown",
   "id": "28fac5c6-6d62-4306-936a-e641ef935530",
   "metadata": {},
   "source": [
    "## Agregar variables de promedio y desviacion estandar de montos e iva para emisor y receptor en el periodo estudiado"
   ]
  },
  {
   "cell_type": "markdown",
   "id": "b1c9013a-ef05-4642-89fb-dd8de7faa06a",
   "metadata": {},
   "source": [
    "Se agrega el monto total de emision para el emisor respectivo y el monto total recibido para ese receptor, ambos calculos realizados en la ventana de tiempo correspondiente."
   ]
  },
  {
   "cell_type": "code",
   "execution_count": 6,
   "id": "7aaabbb1-4522-4319-bd64-1c267319e353",
   "metadata": {},
   "outputs": [],
   "source": [
    "# Agregar estadísticas para emis_CONT_RUT\n",
    "agg_emisor = dte.groupBy(\"dhdr_rut_emisor\").agg(\n",
    "    F.avg(\"dhdr_mnt_total\").alias(\"avg_dhdr_mnt_total_emisor\"),\n",
    "    F.stddev(\"dhdr_mnt_total\").alias(\"stddev_dhdr_mnt_total_emisor\"),\n",
    "    F.avg(\"dhdr_iva\").alias(\"avg_dhdr_iva_emisor\"),\n",
    "    F.stddev(\"dhdr_iva\").alias(\"stddev_dhdr_iva_emisor\")\n",
    ")\n",
    "\n",
    "# Agregar estadísticas para recep_CONT_RUT\n",
    "agg_receptor = dte.groupBy(\"dhdr_rut_recep\").agg(\n",
    "    F.avg(\"dhdr_mnt_total\").alias(\"avg_dhdr_mnt_total_receptor\"),\n",
    "    F.stddev(\"dhdr_mnt_total\").alias(\"stddev_dhdr_mnt_total_receptor\"),\n",
    "    F.avg(\"dhdr_iva\").alias(\"avg_dhdr_iva_receptor\"),\n",
    "    F.stddev(\"dhdr_iva\").alias(\"stddev_dhdr_iva_receptor\")\n",
    ")\n"
   ]
  },
  {
   "cell_type": "code",
   "execution_count": 7,
   "id": "4e544ac3-6cf7-4b55-9157-b570eda00b48",
   "metadata": {},
   "outputs": [],
   "source": [
    "# Unir las estadísticas agregadas para emis_CONT_RUT\n",
    "dte= dte.join(agg_emisor, on=\"dhdr_rut_emisor\", how=\"left\")\n",
    "\n",
    "# Unir las estadísticas agregadas para recep_CONT_RUT\n",
    "dte = dte.join(agg_receptor, on=\"dhdr_rut_recep\", how=\"left\")\n"
   ]
  },
  {
   "cell_type": "code",
   "execution_count": 8,
   "id": "86cd644b-fe3f-4d96-b9a9-6f7a0c3eea2c",
   "metadata": {},
   "outputs": [
    {
     "data": {
      "text/plain": [
       "['dhdr_rut_recep',\n",
       " 'dhdr_rut_emisor',\n",
       " 'dhdr_folio',\n",
       " 'dtdc_codigo',\n",
       " 'dhdr_fch_emis',\n",
       " 'dhdr_dv_emisor',\n",
       " 'dhdr_dv_recep',\n",
       " 'dhdr_mnt_total',\n",
       " 'dhdr_iva',\n",
       " 'dhdr_tmst_firma',\n",
       " 'avg_dhdr_mnt_total_emisor',\n",
       " 'stddev_dhdr_mnt_total_emisor',\n",
       " 'avg_dhdr_iva_emisor',\n",
       " 'stddev_dhdr_iva_emisor',\n",
       " 'avg_dhdr_mnt_total_receptor',\n",
       " 'stddev_dhdr_mnt_total_receptor',\n",
       " 'avg_dhdr_iva_receptor',\n",
       " 'stddev_dhdr_iva_receptor']"
      ]
     },
     "execution_count": 8,
     "metadata": {},
     "output_type": "execute_result"
    }
   ],
   "source": [
    "dte.columns"
   ]
  },
  {
   "cell_type": "code",
   "execution_count": 9,
   "id": "d86ea4e7-7814-4868-b13f-4f747ffe32a2",
   "metadata": {},
   "outputs": [],
   "source": [
    "from pyspark.sql import functions as F\n",
    "\n",
    "dte = dte.withColumn(\"anio\", F.year(\"dhdr_tmst_firma\")) \\\n",
    "         .withColumn(\"mes\", F.month(\"dhdr_tmst_firma\")) \\\n",
    "         .withColumn(\"dia\", F.dayofmonth(\"dhdr_tmst_firma\")) \\\n",
    "         .withColumn(\"hora\", F.hour(\"dhdr_tmst_firma\")) \\\n",
    "         .withColumn(\"es_fin_de_semana\", \n",
    "             F.when(F.date_format(\"dhdr_tmst_firma\", \"u\").cast(\"int\").isin([6, 7]), 1).otherwise(0)) \\\n",
    "         .withColumn(\"bloque_horario\", \n",
    "             F.when((F.col(\"hora\") >= 0) & (F.col(\"hora\") < 6), \"Madrugada\")\n",
    "              .when((F.col(\"hora\") >= 6) & (F.col(\"hora\") < 12), \"Mañana\")\n",
    "              .when((F.col(\"hora\") >= 12) & (F.col(\"hora\") < 19), \"Tarde\")\n",
    "              .otherwise(\"Noche\")) \\\n",
    "         .withColumn(\"dia_semana\", F.dayofweek(\"dhdr_tmst_firma\")) \\\n",
    "         .withColumn(\"semana_mes\", \n",
    "             (F.dayofmonth(\"dhdr_tmst_firma\") - 1) / 7 + 1)\n"
   ]
  },
  {
   "cell_type": "markdown",
   "id": "969649f0-08eb-4462-a322-8b20c50373d0",
   "metadata": {},
   "source": [
    "## Se guarda dataset en datalake"
   ]
  },
  {
   "cell_type": "code",
   "execution_count": 10,
   "id": "0e40ef28-1def-4a78-aa8a-37dd09eb2812",
   "metadata": {},
   "outputs": [
    {
     "name": "stderr",
     "output_type": "stream",
     "text": [
      "                                                                                \r"
     ]
    }
   ],
   "source": [
    "# Cambiar la política de análisis de tiempo\n",
    "spark.conf.set(\"spark.sql.legacy.timeParserPolicy\", \"LEGACY\")\n",
    "# Se guarda el archivo final en el datalake. \n",
    "dte.write.mode('overwrite').format(\"parquet\").save(\"abfs://data@datalakesii.dfs.core.windows.net/DatosOrigen/lr-629/APA/Analisis_factura/dtes_no_estratificado\")\n"
   ]
  },
  {
   "cell_type": "markdown",
   "id": "5dd2f0ce-1ed3-4e09-a228-f5f8c53dd50c",
   "metadata": {},
   "source": [
    "------------------------------------------------------------------------------------------------------------------------"
   ]
  },
  {
   "cell_type": "markdown",
   "id": "3320bf5c-8f91-4425-9dc3-065bd14826b0",
   "metadata": {},
   "source": [
    "## Cesión de documentos tributarios"
   ]
  },
  {
   "cell_type": "markdown",
   "id": "0ed4a919-23da-4fc2-a414-13550f6730e2",
   "metadata": {},
   "source": [
    "## Completar"
   ]
  },
  {
   "cell_type": "code",
   "execution_count": 11,
   "id": "9ff046b4-acc6-4240-a641-a658e7a3c23f",
   "metadata": {},
   "outputs": [],
   "source": [
    "doct=spark.table(\"hivenom.csn_doctos_final\")\n",
    "ces=spark.table(\"hivenom.csn_cesion_final\")"
   ]
  },
  {
   "cell_type": "code",
   "execution_count": 12,
   "id": "6ad7f2f5-71d7-405a-951c-6e5582459c60",
   "metadata": {},
   "outputs": [],
   "source": [
    "# Realiza el inner join\n",
    "dte_cesion = dte.join(\n",
    "    doct,  # Asumiendo que ya tienes el DataFrame 'ces'\n",
    "    (dte.dhdr_folio == doct.rdoc_folio) &\n",
    "    (dte.dhdr_rut_emisor == doct.rdoc_rut_emisor_e) &\n",
    "    (dte.dhdr_dv_emisor == doct.rdoc_dv_emisor),\n",
    "    \"left\"\n",
    ").select(\n",
    "    dte.dhdr_folio,\n",
    "    dte.dtdc_codigo,\n",
    "    dte.dhdr_rut_emisor,\n",
    "    dte.dhdr_dv_emisor,\n",
    "    dte.dhdr_rut_recep,\n",
    "    dte.dhdr_dv_recep,\n",
    "    dte.dhdr_mnt_total,\n",
    "    dte.dhdr_iva,\n",
    "    dte.dhdr_fch_emis,  # Asegúrate de que esta columna exista en dte\n",
    "    *doct.columns # Selecciona todas las columnas de 'ces'\n",
    ")\n",
    "\n",
    "# Agrega la columna 'cedido' para indicar si hay cruce\n",
    "dte_cesion = dte_cesion.withColumn(\n",
    "    \"cedido\",\n",
    "    F.when(doct.rdoc_folio.isNotNull(), \"Sí\").otherwise(\"No\")\n",
    ")\n",
    "\n"
   ]
  },
  {
   "cell_type": "code",
   "execution_count": 13,
   "id": "940cd0ec-fb36-49fe-a66b-8685e159febf",
   "metadata": {},
   "outputs": [
    {
     "data": {
      "text/plain": [
       "['dhdr_folio',\n",
       " 'dtdc_codigo',\n",
       " 'dhdr_rut_emisor',\n",
       " 'dhdr_dv_emisor',\n",
       " 'dhdr_rut_recep',\n",
       " 'dhdr_dv_recep',\n",
       " 'dhdr_mnt_total',\n",
       " 'dhdr_iva',\n",
       " 'dhdr_fch_emis',\n",
       " 'rdoc_codigo',\n",
       " 'rtdc_codigo',\n",
       " 'rdoc_rut_emisor_e',\n",
       " 'rdoc_dv_emisor',\n",
       " 'rdoc_rut_receptor_e',\n",
       " 'rdoc_dv_receptor',\n",
       " 'rdoc_folio',\n",
       " 'rdoc_fch_emis',\n",
       " 'rdoc_fch_emis_int',\n",
       " 'rdoc_fch_emis_str',\n",
       " 'rdoc_mnt_total',\n",
       " 'rdoc_codigo_sii',\n",
       " 'rdoc_firma_dte',\n",
       " 'rdoc_firma_doc',\n",
       " 'rtes_estado',\n",
       " 'rdoc_info_acuse',\n",
       " 'rdoc_rut_tenedor_e',\n",
       " 'rdoc_dv_tenedor',\n",
       " 'cont_rut_emisor_e',\n",
       " 'cont_dv_emisor',\n",
       " 'cont_rut_receptor_e',\n",
       " 'cont_dv_receptor',\n",
       " 'cont_rut_tenedor_e',\n",
       " '_c29',\n",
       " 'cedido']"
      ]
     },
     "execution_count": 13,
     "metadata": {},
     "output_type": "execute_result"
    }
   ],
   "source": [
    "dte_cesion.columns"
   ]
  },
  {
   "cell_type": "code",
   "execution_count": 14,
   "id": "7382b453-8128-4710-9fdb-9a859e7ec050",
   "metadata": {},
   "outputs": [],
   "source": [
    "# Agrupa por las columnas originales de dte y cuenta las veces que ha sido cedido\n",
    "result = dte_cesion.groupBy(\n",
    "    \"dhdr_folio\",\n",
    "    \"dtdc_codigo\",\n",
    "    \"dhdr_fch_emis\",\n",
    "    \"dhdr_rut_emisor\",\n",
    "    \"dhdr_dv_emisor\",\n",
    "    \"dhdr_rut_recep\",\n",
    "    \"dhdr_dv_recep\",\n",
    "    \"dhdr_mnt_total\",\n",
    "    \"dhdr_iva\"\n",
    ").agg(\n",
    "    F.count(F.when(F.col(\"cedido\") == \"Sí\", 1)).alias(\"veces_cedido\")  # Cuenta solo los cedidos\n",
    ")"
   ]
  },
  {
   "cell_type": "code",
   "execution_count": 15,
   "id": "5c504347-78bb-4bef-91f1-5bceb4635c16",
   "metadata": {},
   "outputs": [
    {
     "name": "stderr",
     "output_type": "stream",
     "text": [
      "ERROR:root:KeyboardInterrupt while sending command. 380][Stage 20:> (0 + 0) / 200]]]\n",
      "Traceback (most recent call last):\n",
      "  File \"/home/cdsw/.local/lib/python3.11/site-packages/py4j/java_gateway.py\", line 1038, in send_command\n",
      "    response = connection.send_command(command)\n",
      "               ^^^^^^^^^^^^^^^^^^^^^^^^^^^^^^^^\n",
      "  File \"/home/cdsw/.local/lib/python3.11/site-packages/py4j/clientserver.py\", line 511, in send_command\n",
      "    answer = smart_decode(self.stream.readline()[:-1])\n",
      "                          ^^^^^^^^^^^^^^^^^^^^^^\n",
      "  File \"/usr/local/lib/python3.11/socket.py\", line 706, in readinto\n",
      "    return self._sock.recv_into(b)\n",
      "           ^^^^^^^^^^^^^^^^^^^^^^^\n",
      "KeyboardInterrupt\n",
      "[Stage 16:(1750 + 364) / 4544][Stage 17:> (0 + 0) / 380][Stage 20:> (0 + 0) / 200]\r"
     ]
    },
    {
     "ename": "KeyboardInterrupt",
     "evalue": "",
     "output_type": "error",
     "traceback": [
      "\u001b[0;31m---------------------------------------------------------------------------\u001b[0m",
      "\u001b[0;31mKeyboardInterrupt\u001b[0m                         Traceback (most recent call last)",
      "Cell \u001b[0;32mIn[15], line 1\u001b[0m\n\u001b[0;32m----> 1\u001b[0m \u001b[43mresult\u001b[49m\u001b[38;5;241;43m.\u001b[39;49m\u001b[43mshow\u001b[49m\u001b[43m(\u001b[49m\u001b[43m)\u001b[49m\n",
      "File \u001b[0;32m/opt/spark/python/lib/pyspark.zip/pyspark/sql/dataframe.py:494\u001b[0m, in \u001b[0;36mDataFrame.show\u001b[0;34m(self, n, truncate, vertical)\u001b[0m\n\u001b[1;32m    491\u001b[0m     \u001b[38;5;28;01mraise\u001b[39;00m \u001b[38;5;167;01mTypeError\u001b[39;00m(\u001b[38;5;124m\"\u001b[39m\u001b[38;5;124mParameter \u001b[39m\u001b[38;5;124m'\u001b[39m\u001b[38;5;124mvertical\u001b[39m\u001b[38;5;124m'\u001b[39m\u001b[38;5;124m must be a bool\u001b[39m\u001b[38;5;124m\"\u001b[39m)\n\u001b[1;32m    493\u001b[0m \u001b[38;5;28;01mif\u001b[39;00m \u001b[38;5;28misinstance\u001b[39m(truncate, \u001b[38;5;28mbool\u001b[39m) \u001b[38;5;129;01mand\u001b[39;00m truncate:\n\u001b[0;32m--> 494\u001b[0m     \u001b[38;5;28mprint\u001b[39m(\u001b[38;5;28;43mself\u001b[39;49m\u001b[38;5;241;43m.\u001b[39;49m\u001b[43m_jdf\u001b[49m\u001b[38;5;241;43m.\u001b[39;49m\u001b[43mshowString\u001b[49m\u001b[43m(\u001b[49m\u001b[43mn\u001b[49m\u001b[43m,\u001b[49m\u001b[43m \u001b[49m\u001b[38;5;241;43m20\u001b[39;49m\u001b[43m,\u001b[49m\u001b[43m \u001b[49m\u001b[43mvertical\u001b[49m\u001b[43m)\u001b[49m)\n\u001b[1;32m    495\u001b[0m \u001b[38;5;28;01melse\u001b[39;00m:\n\u001b[1;32m    496\u001b[0m     \u001b[38;5;28;01mtry\u001b[39;00m:\n",
      "File \u001b[0;32m~/.local/lib/python3.11/site-packages/py4j/java_gateway.py:1321\u001b[0m, in \u001b[0;36mJavaMember.__call__\u001b[0;34m(self, *args)\u001b[0m\n\u001b[1;32m   1314\u001b[0m args_command, temp_args \u001b[38;5;241m=\u001b[39m \u001b[38;5;28mself\u001b[39m\u001b[38;5;241m.\u001b[39m_build_args(\u001b[38;5;241m*\u001b[39margs)\n\u001b[1;32m   1316\u001b[0m command \u001b[38;5;241m=\u001b[39m proto\u001b[38;5;241m.\u001b[39mCALL_COMMAND_NAME \u001b[38;5;241m+\u001b[39m\\\n\u001b[1;32m   1317\u001b[0m     \u001b[38;5;28mself\u001b[39m\u001b[38;5;241m.\u001b[39mcommand_header \u001b[38;5;241m+\u001b[39m\\\n\u001b[1;32m   1318\u001b[0m     args_command \u001b[38;5;241m+\u001b[39m\\\n\u001b[1;32m   1319\u001b[0m     proto\u001b[38;5;241m.\u001b[39mEND_COMMAND_PART\n\u001b[0;32m-> 1321\u001b[0m answer \u001b[38;5;241m=\u001b[39m \u001b[38;5;28;43mself\u001b[39;49m\u001b[38;5;241;43m.\u001b[39;49m\u001b[43mgateway_client\u001b[49m\u001b[38;5;241;43m.\u001b[39;49m\u001b[43msend_command\u001b[49m\u001b[43m(\u001b[49m\u001b[43mcommand\u001b[49m\u001b[43m)\u001b[49m\n\u001b[1;32m   1322\u001b[0m return_value \u001b[38;5;241m=\u001b[39m get_return_value(\n\u001b[1;32m   1323\u001b[0m     answer, \u001b[38;5;28mself\u001b[39m\u001b[38;5;241m.\u001b[39mgateway_client, \u001b[38;5;28mself\u001b[39m\u001b[38;5;241m.\u001b[39mtarget_id, \u001b[38;5;28mself\u001b[39m\u001b[38;5;241m.\u001b[39mname)\n\u001b[1;32m   1325\u001b[0m \u001b[38;5;28;01mfor\u001b[39;00m temp_arg \u001b[38;5;129;01min\u001b[39;00m temp_args:\n",
      "File \u001b[0;32m~/.local/lib/python3.11/site-packages/py4j/java_gateway.py:1038\u001b[0m, in \u001b[0;36mGatewayClient.send_command\u001b[0;34m(self, command, retry, binary)\u001b[0m\n\u001b[1;32m   1036\u001b[0m connection \u001b[38;5;241m=\u001b[39m \u001b[38;5;28mself\u001b[39m\u001b[38;5;241m.\u001b[39m_get_connection()\n\u001b[1;32m   1037\u001b[0m \u001b[38;5;28;01mtry\u001b[39;00m:\n\u001b[0;32m-> 1038\u001b[0m     response \u001b[38;5;241m=\u001b[39m \u001b[43mconnection\u001b[49m\u001b[38;5;241;43m.\u001b[39;49m\u001b[43msend_command\u001b[49m\u001b[43m(\u001b[49m\u001b[43mcommand\u001b[49m\u001b[43m)\u001b[49m\n\u001b[1;32m   1039\u001b[0m     \u001b[38;5;28;01mif\u001b[39;00m binary:\n\u001b[1;32m   1040\u001b[0m         \u001b[38;5;28;01mreturn\u001b[39;00m response, \u001b[38;5;28mself\u001b[39m\u001b[38;5;241m.\u001b[39m_create_connection_guard(connection)\n",
      "File \u001b[0;32m~/.local/lib/python3.11/site-packages/py4j/clientserver.py:511\u001b[0m, in \u001b[0;36mClientServerConnection.send_command\u001b[0;34m(self, command)\u001b[0m\n\u001b[1;32m    509\u001b[0m \u001b[38;5;28;01mtry\u001b[39;00m:\n\u001b[1;32m    510\u001b[0m     \u001b[38;5;28;01mwhile\u001b[39;00m \u001b[38;5;28;01mTrue\u001b[39;00m:\n\u001b[0;32m--> 511\u001b[0m         answer \u001b[38;5;241m=\u001b[39m smart_decode(\u001b[38;5;28mself\u001b[39m\u001b[38;5;241m.\u001b[39mstream\u001b[38;5;241m.\u001b[39mreadline()[:\u001b[38;5;241m-\u001b[39m\u001b[38;5;241m1\u001b[39m])\n\u001b[1;32m    512\u001b[0m         logger\u001b[38;5;241m.\u001b[39mdebug(\u001b[38;5;124m\"\u001b[39m\u001b[38;5;124mAnswer received: \u001b[39m\u001b[38;5;132;01m{0}\u001b[39;00m\u001b[38;5;124m\"\u001b[39m\u001b[38;5;241m.\u001b[39mformat(answer))\n\u001b[1;32m    513\u001b[0m         \u001b[38;5;66;03m# Happens when a the other end is dead. There might be an empty\u001b[39;00m\n\u001b[1;32m    514\u001b[0m         \u001b[38;5;66;03m# answer before the socket raises an error.\u001b[39;00m\n",
      "File \u001b[0;32m/usr/local/lib/python3.11/socket.py:706\u001b[0m, in \u001b[0;36mSocketIO.readinto\u001b[0;34m(self, b)\u001b[0m\n\u001b[1;32m    704\u001b[0m \u001b[38;5;28;01mwhile\u001b[39;00m \u001b[38;5;28;01mTrue\u001b[39;00m:\n\u001b[1;32m    705\u001b[0m     \u001b[38;5;28;01mtry\u001b[39;00m:\n\u001b[0;32m--> 706\u001b[0m         \u001b[38;5;28;01mreturn\u001b[39;00m \u001b[38;5;28;43mself\u001b[39;49m\u001b[38;5;241;43m.\u001b[39;49m\u001b[43m_sock\u001b[49m\u001b[38;5;241;43m.\u001b[39;49m\u001b[43mrecv_into\u001b[49m\u001b[43m(\u001b[49m\u001b[43mb\u001b[49m\u001b[43m)\u001b[49m\n\u001b[1;32m    707\u001b[0m     \u001b[38;5;28;01mexcept\u001b[39;00m timeout:\n\u001b[1;32m    708\u001b[0m         \u001b[38;5;28mself\u001b[39m\u001b[38;5;241m.\u001b[39m_timeout_occurred \u001b[38;5;241m=\u001b[39m \u001b[38;5;28;01mTrue\u001b[39;00m\n",
      "\u001b[0;31mKeyboardInterrupt\u001b[0m: "
     ]
    }
   ],
   "source": [
    "result.show()"
   ]
  },
  {
   "cell_type": "code",
   "execution_count": null,
   "id": "3ca8c5fc-360c-494c-afba-3683102ace80",
   "metadata": {},
   "outputs": [],
   "source": [
    "# Realiza el left join con dte_cesion\n",
    "dte_cesion_det = dte_cesion.join(\n",
    "    ces,  # Asumiendo que ya tienes el DataFrame 'ces'\n",
    "    dte_cesion.rdoc_codigo == ces.rdoc_codigo,  # Asegúrate de que esta columna exista\n",
    "    \"left\"  # Cambiado a left join\n",
    ").select(\n",
    "    dte_cesion.dhdr_folio,\n",
    "    dte_cesion.dhdr_rut_emisor,\n",
    "    dte_cesion.dhdr_rut_recep\n",
    ")\n",
    "\n",
    "# Muestra el resultado (opcional)\n",
    "dte_cesion_det.show()"
   ]
  },
  {
   "cell_type": "code",
   "execution_count": null,
   "id": "980329c9-c59e-44a6-ac2f-d0a5e2def316",
   "metadata": {},
   "outputs": [],
   "source": [
    "result.show()"
   ]
  },
  {
   "cell_type": "markdown",
   "id": "8bb31454-5585-4a24-b804-2ec33c8b8505",
   "metadata": {},
   "source": [
    "## Obtencion de documentos de RCV"
   ]
  },
  {
   "cell_type": "code",
   "execution_count": null,
   "id": "5d70a574-5f0e-4699-a01d-eb8bea7a0c16",
   "metadata": {},
   "outputs": [],
   "source": [
    "rcv=spark.table(\"DWBGDATA.DCV_GENERIC_DET_CONSOLIDADO_SAS\")"
   ]
  },
  {
   "cell_type": "markdown",
   "id": "750c3c07-8d34-4705-9aef-bb816c0a079e",
   "metadata": {},
   "source": [
    "## Cruce con registros de RCV"
   ]
  },
  {
   "cell_type": "code",
   "execution_count": null,
   "id": "e6370876-00ef-4deb-a8bc-806e072a19dd",
   "metadata": {},
   "outputs": [],
   "source": [
    "# Realiza el left join\n",
    "union= dte.join(\n",
    "    rcv,\n",
    "    (dte.dhdr_folio == rcv.det_folio_doc_ref) &\n",
    "    (dte.dhdr_rut_emisor ==rcv.dcv_rut_emisor_e) &\n",
    "    (dte.dhdr_rut_recep == rcv.det_rut_doc_e),\n",
    "    \"left\"\n",
    ")\n",
    "\n",
    "# Agrega una columna para indicar si hubo cruce\n",
    "union = union.withColumn(\n",
    "    \"cruce_rcv\",\n",
    "    F.when(rcv.det_folio_doc_ref.isNotNull(), \"Sí\").otherwise(\"No\")\n",
    ")\n"
   ]
  },
  {
   "cell_type": "code",
   "execution_count": null,
   "id": "3bdb1073-89ca-49ba-930f-196b48b65174",
   "metadata": {},
   "outputs": [],
   "source": [
    "# Selecciona todas las columnas originales de dte y las columnas específicas de rcv\n",
    "df_final = union.select(\n",
    "    dte.dhdr_folio,\n",
    "    dte.dtdc_codigo,\n",
    "    dte.dhdr_fch_emis,\n",
    "    dte.dhdr_rut_emisor,\n",
    "    dte.dhdr_dv_emisor,\n",
    "    dte.dhdr_rut_recep,\n",
    "    dte.dhdr_dv_recep,\n",
    "    dte.dhdr_mnt_total,\n",
    "    dte.dhdr_iva,\n",
    "    rcv.det_emisor_nota,\n",
    "    rcv.det_fch_doc,\n",
    "    rcv.det_fec_creacion,\n",
    "    rcv.tipo_transaccion,\n",
    "    F.when(rcv.det_folio_doc_ref.isNotNull(), \"Sí\").otherwise(\"No\").alias(\"cruce_rcv\")\n",
    ")\n",
    "\n",
    "# Muestra el resultado\n",
    "df_final.show()\n"
   ]
  },
  {
   "cell_type": "markdown",
   "id": "545ebbe3-6220-4046-b3a7-8c2658a79917",
   "metadata": {},
   "source": [
    "### Cesion de documentos"
   ]
  },
  {
   "cell_type": "code",
   "execution_count": null,
   "id": "67fd752b-a1a1-47e7-9942-d7b790260340",
   "metadata": {},
   "outputs": [
    {
     "name": "stderr",
     "output_type": "stream",
     "text": [
      "                                                                                ]0]\r"
     ]
    }
   ],
   "source": [
    "spark.stop()"
   ]
  }
 ],
 "metadata": {
  "kernelspec": {
   "display_name": "Python 3 (ipykernel)",
   "language": "python",
   "name": "python3"
  },
  "language_info": {
   "codemirror_mode": {
    "name": "ipython",
    "version": 3
   },
   "file_extension": ".py",
   "mimetype": "text/x-python",
   "name": "python",
   "nbconvert_exporter": "python",
   "pygments_lexer": "ipython3",
   "version": "3.11.6"
  }
 },
 "nbformat": 4,
 "nbformat_minor": 5
}
