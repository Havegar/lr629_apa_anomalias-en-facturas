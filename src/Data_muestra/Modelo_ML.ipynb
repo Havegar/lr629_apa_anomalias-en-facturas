{
 "cells": [
  {
   "cell_type": "markdown",
   "id": "f09966cb-f97b-4bbe-a8ac-dd0bf19deaf4",
   "metadata": {},
   "source": [
    "## Modelo de busqueda de anomalias para documento tipo 33"
   ]
  },
  {
   "cell_type": "code",
   "execution_count": 1,
   "id": "94d6aa2f-d35d-40b9-9aac-74d83b3cf6c9",
   "metadata": {},
   "outputs": [],
   "source": [
    "from sklearn.preprocessing import StandardScaler\n",
    "from sklearn.ensemble import IsolationForest"
   ]
  },
  {
   "cell_type": "code",
   "execution_count": 2,
   "id": "e2c94b78-1470-49cb-a427-c786b4309887",
   "metadata": {},
   "outputs": [],
   "source": [
    "##Se importan packages necesarios\n",
    "from pyspark.sql import SparkSession\n",
    "from pyspark.sql.functions import *\n",
    "from pyspark import SparkContext, SparkConf\n",
    "import pyspark\n",
    "import pandas as pd\n",
    "import warnings\n",
    "warnings.filterwarnings('ignore', category=DeprecationWarning)\n",
    "from pyspark.sql.types import StringType,TimestampType\n",
    "import matplotlib.pyplot as plt\n",
    "from pyspark.sql import functions as F"
   ]
  },
  {
   "cell_type": "code",
   "execution_count": 3,
   "id": "8e8adb2f-83b6-4865-9fb7-a6b6949a3009",
   "metadata": {},
   "outputs": [
    {
     "name": "stderr",
     "output_type": "stream",
     "text": [
      "Setting spark.hadoop.yarn.resourcemanager.principal to hvega.externo\n"
     ]
    }
   ],
   "source": [
    "#inicio de sesion en spark\n",
    "ss_name = 'Lectura de datos Dashboard'\n",
    "wg_conn = \"spark.kerberos.access.hadoopFileSystems\"\n",
    "db_conn = \"abfs://data@datalakesii.dfs.core.windows.net/\"\n",
    "\n",
    "spark = SparkSession.builder \\\n",
    "      .appName(f\"Ejecucion algoritmo {ss_name}\")  \\\n",
    "      .config(wg_conn, db_conn) \\\n",
    "      .config(\"spark.executor.memory\", \"6g\") \\\n",
    "      .config(\"spark.driver.memory\", \"12g\")\\\n",
    "      .config(\"spark.executor.cores\", \"4\") \\\n",
    "      .config(\"spark.executor.instances\", \"5\") \\\n",
    "      .config(\"spark.driver.maxResultSize\", \"12g\") \\\n",
    "      .getOrCreate()\n",
    "\n",
    "spark.sparkContext.setLogLevel(\"ERROR\")\n",
    "\n",
    "spark.conf.set(\"spark.sql.parquet.enableVectorizedReader\",\"false\")\n",
    "spark.conf.set(\"spark.sql.parquet.int96RebaseModeInRead\", \"CORRECTED\")\n",
    "spark.conf.set(\"spark.sql.parquet.int96RebaseModeInWrite\", \"CORRECTED\")\n",
    "spark.conf.set(\"spark.sql.parquet.datetimeRebaseModeInRead\", \"CORRECTED\")\n",
    "spark.conf.set(\"spark.sql.parquet.datetimeRebaseModeInWrite\", \"CORRECTED\")"
   ]
  },
  {
   "cell_type": "code",
   "execution_count": 4,
   "id": "3ac034e1-cf76-4468-b6fd-b3f02ff13ec4",
   "metadata": {},
   "outputs": [
    {
     "name": "stderr",
     "output_type": "stream",
     "text": [
      "                                                                                \r"
     ]
    }
   ],
   "source": [
    "ruta = \"abfs://data@datalakesii.dfs.core.windows.net/DatosOrigen/lr-629/APA/Analisis_factura/dataset_final_estratificado\"\n",
    "\n",
    "# Leer el DataFrame desde la ruta especificada\n",
    "dte = spark.read.format(\"parquet\").load(ruta)"
   ]
  },
  {
   "cell_type": "code",
   "execution_count": 5,
   "id": "bc9080f5-1fc7-4dea-bddf-35890b0ed675",
   "metadata": {},
   "outputs": [
    {
     "name": "stderr",
     "output_type": "stream",
     "text": [
      "                                                                                \r"
     ]
    },
    {
     "data": {
      "text/plain": [
       "3450520"
      ]
     },
     "execution_count": 5,
     "metadata": {},
     "output_type": "execute_result"
    }
   ],
   "source": [
    "# Vemos el numeor de filas de dte\n",
    "dte.count()"
   ]
  },
  {
   "cell_type": "code",
   "execution_count": 6,
   "id": "306bf849-0c2a-4c5f-9779-cb6506b20cf8",
   "metadata": {},
   "outputs": [
    {
     "data": {
      "text/plain": [
       "['dhdr_mnt_total',\n",
       " 'dhdr_iva',\n",
       " 'recep_COCO_IMP_VENTAS_IVA',\n",
       " 'recep_COCO_IMP_VENTAS_TRANSPORTE',\n",
       " 'recep_COCO_MTO_DEV_SOLICITADA_F22',\n",
       " 'recep_COCO_MTO_VENTAS',\n",
       " 'recep_NEGO_NRO_FACTURAS_6MESES_VO',\n",
       " 'emis_COCO_IMP_VENTAS_IVA',\n",
       " 'emis_COCO_IMP_VENTAS_TRANSPORTE',\n",
       " 'emis_COCO_MTO_DEV_SOLICITADA_F22',\n",
       " 'emis_COCO_MTO_VENTAS',\n",
       " 'emis_NEGO_NRO_FACTURAS_6MESES_VO',\n",
       " 'avg_dhdr_mnt_total_emisor',\n",
       " 'stddev_dhdr_mnt_total_emisor',\n",
       " 'avg_dhdr_iva_emisor',\n",
       " 'stddev_dhdr_iva_emisor',\n",
       " 'avg_dhdr_mnt_total_receptor',\n",
       " 'stddev_dhdr_mnt_total_receptor',\n",
       " 'avg_dhdr_iva_receptor',\n",
       " 'stddev_dhdr_iva_receptor',\n",
       " 'es_fin_de_semana',\n",
       " 'bloque_horario',\n",
       " 'dia_semana',\n",
       " 'semana_mes',\n",
       " 'emis_INICIO_SEGMENTO',\n",
       " 'emis_ACEC_DES_SUBRUBRO_PPAL',\n",
       " 'emis_Alerta_1019',\n",
       " 'emis_Alerta_2250',\n",
       " 'emis_Alerta_400X',\n",
       " 'emis_Alerta_4110',\n",
       " 'emis_Alerta_4111',\n",
       " 'emis_Alerta_4112',\n",
       " 'emis_Alerta_4113',\n",
       " 'emis_Alerta_52',\n",
       " 'emis_Alerta_5201',\n",
       " 'emis_Alerta_5203',\n",
       " 'emis_Alerta_53',\n",
       " 'emis_Alerta_5301',\n",
       " 'recep_INICIO_SEGMENTO',\n",
       " 'recep_ACEC_DES_SUBRUBRO_PPAL',\n",
       " 'recep_Alerta_1019',\n",
       " 'recep_Alerta_2250',\n",
       " 'recep_Alerta_400X',\n",
       " 'recep_Alerta_4110',\n",
       " 'recep_Alerta_4111',\n",
       " 'recep_Alerta_4112',\n",
       " 'recep_Alerta_4113',\n",
       " 'recep_Alerta_52',\n",
       " 'recep_Alerta_5201',\n",
       " 'recep_Alerta_5203',\n",
       " 'recep_Alerta_5301',\n",
       " 'recep_Alerta_53',\n",
       " 'dhdr_folio']"
      ]
     },
     "execution_count": 6,
     "metadata": {},
     "output_type": "execute_result"
    }
   ],
   "source": [
    "dte.columns"
   ]
  },
  {
   "cell_type": "code",
   "execution_count": 7,
   "id": "04d39514-ed58-40e2-8f38-b508f0970c04",
   "metadata": {},
   "outputs": [
    {
     "name": "stderr",
     "output_type": "stream",
     "text": [
      "                                                                                \r"
     ]
    }
   ],
   "source": [
    "dte=dte.toPandas()"
   ]
  },
  {
   "cell_type": "code",
   "execution_count": 8,
   "id": "9b9ccaee-ee0f-496c-8566-32818bdbb8d8",
   "metadata": {},
   "outputs": [],
   "source": [
    "spark.stop()"
   ]
  },
  {
   "cell_type": "code",
   "execution_count": 9,
   "id": "673e8023-b093-46c2-af60-510f4ff91e1b",
   "metadata": {},
   "outputs": [],
   "source": [
    "df=dte"
   ]
  },
  {
   "cell_type": "code",
   "execution_count": 10,
   "id": "f9f7b9fa-717f-49d8-be2e-2cd63c173a3d",
   "metadata": {},
   "outputs": [],
   "source": [
    "#Se definen todas las variables del modelo, categoricas y  numericas\n",
    "\n",
    "numerical_columns = [\n",
    "    'dhdr_mnt_total', 'dhdr_iva',\n",
    "    'recep_COCO_IMP_VENTAS_IVA',\n",
    "    'recep_COCO_IMP_VENTAS_TRANSPORTE',\n",
    "    'recep_COCO_MTO_DEV_SOLICITADA_F22',\n",
    "    'recep_COCO_MTO_VENTAS',\n",
    "    'recep_NEGO_NRO_FACTURAS_6MESES_VO',\n",
    "    'emis_COCO_IMP_VENTAS_IVA',\n",
    "    'emis_COCO_IMP_VENTAS_TRANSPORTE',\n",
    "    'emis_COCO_MTO_DEV_SOLICITADA_F22',\n",
    "    'emis_COCO_MTO_VENTAS',\n",
    "    'emis_NEGO_NRO_FACTURAS_6MESES_VO',\n",
    "    'avg_dhdr_mnt_total_emisor',\n",
    "     'stddev_dhdr_mnt_total_emisor',\n",
    "     'avg_dhdr_iva_emisor',\n",
    "     'stddev_dhdr_iva_emisor',\n",
    "     'avg_dhdr_mnt_total_receptor',\n",
    "     'stddev_dhdr_mnt_total_receptor',\n",
    "     'avg_dhdr_iva_receptor',\n",
    "     'stddev_dhdr_iva_receptor'\n",
    "]\n",
    "\n",
    "\n",
    "\n",
    "categorical_columns = [\n",
    "    'es_fin_de_semana',\n",
    "     'bloque_horario', 'dia_semana', 'semana_mes',\n",
    "    'emis_INICIO_SEGMENTO', 'emis_ACEC_DES_SUBRUBRO_PPAL', 'emis_Alerta_1019', 'emis_Alerta_2250',\n",
    "    'emis_Alerta_400X', 'emis_Alerta_4110', 'emis_Alerta_4111', 'emis_Alerta_4112',\n",
    "    'emis_Alerta_4113', 'emis_Alerta_52', \n",
    "#    'emis_Alerta_5201',\n",
    "    'emis_Alerta_5203',\n",
    "    'emis_Alerta_53',\n",
    "#    'emis_Alerta_5301',\n",
    "    'recep_INICIO_SEGMENTO', 'recep_ACEC_DES_SUBRUBRO_PPAL', 'recep_Alerta_1019', 'recep_Alerta_2250',\n",
    "    'recep_Alerta_400X', 'recep_Alerta_4110', 'recep_Alerta_4111', 'recep_Alerta_4112',\n",
    "    'recep_Alerta_4113', 'recep_Alerta_52',\n",
    "#    'recep_Alerta_5201',\n",
    "    'recep_Alerta_5203',\n",
    " #   'recep_Alerta_5301',\n",
    "    'recep_Alerta_53'\n",
    "]\n",
    "\n",
    "\n",
    "\n",
    "# columnas de alerta. \n",
    "alert_columns = [\n",
    "    'emis_Alerta_1019', 'emis_Alerta_2250', 'emis_Alerta_400X', 'emis_Alerta_4110', 'emis_Alerta_4111', \n",
    "    'emis_Alerta_4112', 'emis_Alerta_4113', 'emis_Alerta_52', 'emis_Alerta_5203', 'emis_Alerta_53', \n",
    "    'recep_Alerta_1019', 'recep_Alerta_2250', 'recep_Alerta_400X', 'recep_Alerta_4110', 'recep_Alerta_4111', \n",
    "    'recep_Alerta_4112', 'recep_Alerta_4113', 'recep_Alerta_52', 'recep_Alerta_5203', 'recep_Alerta_53'\n",
    "]\n"
   ]
  },
  {
   "cell_type": "markdown",
   "id": "2012f68f-8525-44e7-a6e9-338cc319fa74",
   "metadata": {},
   "source": [
    "## Imputacion de alertas"
   ]
  },
  {
   "cell_type": "code",
   "execution_count": 11,
   "id": "3610c56b-8c38-4d11-be49-ac999ecb1c10",
   "metadata": {},
   "outputs": [
    {
     "name": "stdout",
     "output_type": "stream",
     "text": [
      "                              Column  Nulos antes  Nulos después\n",
      "emis_Alerta_1019    emis_Alerta_1019      2926256              0\n",
      "emis_Alerta_2250    emis_Alerta_2250      2926256              0\n",
      "emis_Alerta_400X    emis_Alerta_400X      2926256              0\n",
      "emis_Alerta_4110    emis_Alerta_4110      2926256              0\n",
      "emis_Alerta_4111    emis_Alerta_4111      2926256              0\n",
      "emis_Alerta_4112    emis_Alerta_4112      2926256              0\n",
      "emis_Alerta_4113    emis_Alerta_4113      2926256              0\n",
      "emis_Alerta_52        emis_Alerta_52      2926256              0\n",
      "emis_Alerta_5203    emis_Alerta_5203      2926256              0\n",
      "emis_Alerta_53        emis_Alerta_53      2926256              0\n",
      "recep_Alerta_1019  recep_Alerta_1019      3172034              0\n",
      "recep_Alerta_2250  recep_Alerta_2250      3172034              0\n",
      "recep_Alerta_400X  recep_Alerta_400X      3172034              0\n",
      "recep_Alerta_4110  recep_Alerta_4110      3172034              0\n",
      "recep_Alerta_4111  recep_Alerta_4111      3172034              0\n",
      "recep_Alerta_4112  recep_Alerta_4112      3172034              0\n",
      "recep_Alerta_4113  recep_Alerta_4113      3172034              0\n",
      "recep_Alerta_52      recep_Alerta_52      3172034              0\n",
      "recep_Alerta_5203  recep_Alerta_5203      3172034              0\n",
      "recep_Alerta_53      recep_Alerta_53      3172034              0\n"
     ]
    }
   ],
   "source": [
    "# Verificar valores nulos antes de rellenar\n",
    "null_before = df[alert_columns].isnull().sum()\n",
    "\n",
    "# Rellenar los valores nulos con 0 para las columnas de alerta\n",
    "df[alert_columns] = df[alert_columns].fillna(0)\n",
    "\n",
    "# Verificar valores nulos después de rellenar\n",
    "null_after = df[alert_columns].isnull().sum()\n",
    "\n",
    "# Crear un DataFrame para mostrar los valores nulos antes y después\n",
    "null_comparison = pd.DataFrame({\n",
    "    'Column': alert_columns,\n",
    "    'Nulos antes': null_before,\n",
    "    'Nulos después': null_after\n",
    "})\n",
    "\n",
    "# Mostrar la tabla de comparación\n",
    "print(null_comparison)\n"
   ]
  },
  {
   "cell_type": "markdown",
   "id": "90f6d004-5c1a-4e0c-8ab6-4e2e22e74023",
   "metadata": {},
   "source": [
    "## Valores nulos en variables categoricas"
   ]
  },
  {
   "cell_type": "code",
   "execution_count": 12,
   "id": "bbbe4a27-01fb-4ec9-915c-c376ec6f7426",
   "metadata": {},
   "outputs": [
    {
     "name": "stdout",
     "output_type": "stream",
     "text": [
      "\n",
      "Recuento de valores nulos en columnas categóricas:\n",
      "es_fin_de_semana                     0\n",
      "bloque_horario                       0\n",
      "dia_semana                           0\n",
      "semana_mes                           0\n",
      "emis_INICIO_SEGMENTO             10918\n",
      "emis_ACEC_DES_SUBRUBRO_PPAL      60665\n",
      "emis_Alerta_1019                     0\n",
      "emis_Alerta_2250                     0\n",
      "emis_Alerta_400X                     0\n",
      "emis_Alerta_4110                     0\n",
      "emis_Alerta_4111                     0\n",
      "emis_Alerta_4112                     0\n",
      "emis_Alerta_4113                     0\n",
      "emis_Alerta_52                       0\n",
      "emis_Alerta_5203                     0\n",
      "emis_Alerta_53                       0\n",
      "recep_INICIO_SEGMENTO            38562\n",
      "recep_ACEC_DES_SUBRUBRO_PPAL    239948\n",
      "recep_Alerta_1019                    0\n",
      "recep_Alerta_2250                    0\n",
      "recep_Alerta_400X                    0\n",
      "recep_Alerta_4110                    0\n",
      "recep_Alerta_4111                    0\n",
      "recep_Alerta_4112                    0\n",
      "recep_Alerta_4113                    0\n",
      "recep_Alerta_52                      0\n",
      "recep_Alerta_5203                    0\n",
      "recep_Alerta_53                      0\n",
      "dtype: int64\n"
     ]
    }
   ],
   "source": [
    "\n",
    "# Recuento de valores nulos en columnas categóricas\n",
    "missing_values_categorical = df[categorical_columns].isnull().sum()\n",
    "print(\"\\nRecuento de valores nulos en columnas categóricas:\")\n",
    "print(missing_values_categorical)\n"
   ]
  },
  {
   "cell_type": "code",
   "execution_count": 13,
   "id": "c052b87b-10b5-4a12-b1ad-4fb12f787d06",
   "metadata": {},
   "outputs": [
    {
     "name": "stdout",
     "output_type": "stream",
     "text": [
      "\n",
      "Recuento de valores nulos en columnas numéricas:\n",
      "dhdr_mnt_total                             0\n",
      "dhdr_iva                                   0\n",
      "recep_COCO_IMP_VENTAS_IVA             356240\n",
      "recep_COCO_IMP_VENTAS_TRANSPORTE     3448147\n",
      "recep_COCO_MTO_DEV_SOLICITADA_F22    3450520\n",
      "recep_COCO_MTO_VENTAS                 338466\n",
      "recep_NEGO_NRO_FACTURAS_6MESES_VO    3082488\n",
      "emis_COCO_IMP_VENTAS_IVA               14159\n",
      "emis_COCO_IMP_VENTAS_TRANSPORTE      3450332\n",
      "emis_COCO_MTO_DEV_SOLICITADA_F22     3450520\n",
      "emis_COCO_MTO_VENTAS                   11286\n",
      "emis_NEGO_NRO_FACTURAS_6MESES_VO     2866853\n",
      "avg_dhdr_mnt_total_emisor                  0\n",
      "stddev_dhdr_mnt_total_emisor            1185\n",
      "avg_dhdr_iva_emisor                        0\n",
      "stddev_dhdr_iva_emisor                  1185\n",
      "avg_dhdr_mnt_total_receptor                0\n",
      "stddev_dhdr_mnt_total_receptor         47845\n",
      "avg_dhdr_iva_receptor                      0\n",
      "stddev_dhdr_iva_receptor               47845\n",
      "dtype: int64\n"
     ]
    }
   ],
   "source": [
    "# Recuento de valores nulos en columnas numéricas\n",
    "missing_values_numerical = df[numerical_columns].isnull().sum()\n",
    "print(\"\\nRecuento de valores nulos en columnas numéricas:\")\n",
    "print(missing_values_numerical)"
   ]
  },
  {
   "cell_type": "code",
   "execution_count": 14,
   "id": "edfc477d-fbd2-466b-aa8b-eb6e11ca6776",
   "metadata": {},
   "outputs": [
    {
     "name": "stderr",
     "output_type": "stream",
     "text": [
      "/tmp/ipykernel_307/623978430.py:2: FutureWarning: Downcasting object dtype arrays on .fillna, .ffill, .bfill is deprecated and will change in a future version. Call result.infer_objects(copy=False) instead. To opt-in to the future behavior, set `pd.set_option('future.no_silent_downcasting', True)`\n",
      "  df[numerical_columns] = df[numerical_columns].fillna(0)\n"
     ]
    }
   ],
   "source": [
    "# Imputar valores nulos con cero en las columnas numéricas\n",
    "df[numerical_columns] = df[numerical_columns].fillna(0)"
   ]
  },
  {
   "cell_type": "code",
   "execution_count": 15,
   "id": "e84ef27f-105c-4222-ad62-d0414cf8c8c9",
   "metadata": {},
   "outputs": [],
   "source": [
    "# Se reemplazan los valores faltantes (NaN) en las columnas relevantes con el valor 'Desconocido',\n",
    "# para asegurar que no haya valores nulos en el DataFrame y que se pueda trabajar con datos completos.\n",
    "df['recep_INICIO_SEGMENTO'] = df['recep_INICIO_SEGMENTO'].fillna('Desconocido')\n",
    "df['emis_INICIO_SEGMENTO'] = df['emis_INICIO_SEGMENTO'].fillna('Desconocido')\n",
    "\n",
    "df['emis_ACEC_DES_SUBRUBRO_PPAL'] = df['emis_ACEC_DES_SUBRUBRO_PPAL'].fillna('Desconocido')\n",
    "df['recep_ACEC_DES_SUBRUBRO_PPAL'] = df['recep_ACEC_DES_SUBRUBRO_PPAL'].fillna('Desconocido')"
   ]
  },
  {
   "cell_type": "code",
   "execution_count": 16,
   "id": "07764901-d25c-4b59-9322-2744d3f95e44",
   "metadata": {},
   "outputs": [],
   "source": [
    "columns_to_keep = numerical_columns + categorical_columns + ['dhdr_folio']\n",
    "\n",
    "# Actualizar el DataFrame solo con esas columnas\n",
    "df = df[columns_to_keep]\n"
   ]
  },
  {
   "cell_type": "code",
   "execution_count": 17,
   "id": "28647a82-af06-4cbb-b648-2104afe275bd",
   "metadata": {},
   "outputs": [],
   "source": [
    "#df=df.drop(columns=['emis_Alerta_5301', 'emis_Alerta_5201','recep_Alerta_5301', 'recep_Alerta_5201'])"
   ]
  },
  {
   "cell_type": "code",
   "execution_count": 18,
   "id": "086cea3c-f12a-4fd5-b15a-b0547da6053c",
   "metadata": {},
   "outputs": [
    {
     "name": "stdout",
     "output_type": "stream",
     "text": [
      "['SGPE' 'SGMI' 'SGPM' 'SGME' 'SGGC' 'Desconocido']\n"
     ]
    }
   ],
   "source": [
    "print(df['recep_INICIO_SEGMENTO'].unique())"
   ]
  },
  {
   "cell_type": "code",
   "execution_count": 19,
   "id": "cdee98b7-1f8b-4c0f-88bd-182ab8cb6e1f",
   "metadata": {},
   "outputs": [],
   "source": [
    "# Obtener todas las columnas del DataFrame\n",
    "all_columns = numerical_columns + categorical_columns"
   ]
  },
  {
   "cell_type": "code",
   "execution_count": 20,
   "id": "583e0729-5271-4244-8258-75aaff63e331",
   "metadata": {},
   "outputs": [
    {
     "name": "stdout",
     "output_type": "stream",
     "text": [
      "Columnas categóricas: ['es_fin_de_semana', 'bloque_horario', 'dia_semana', 'semana_mes', 'emis_INICIO_SEGMENTO', 'emis_ACEC_DES_SUBRUBRO_PPAL', 'emis_Alerta_1019', 'emis_Alerta_2250', 'emis_Alerta_400X', 'emis_Alerta_4110', 'emis_Alerta_4111', 'emis_Alerta_4112', 'emis_Alerta_4113', 'emis_Alerta_52', 'emis_Alerta_5203', 'emis_Alerta_53', 'recep_INICIO_SEGMENTO', 'recep_ACEC_DES_SUBRUBRO_PPAL', 'recep_Alerta_1019', 'recep_Alerta_2250', 'recep_Alerta_400X', 'recep_Alerta_4110', 'recep_Alerta_4111', 'recep_Alerta_4112', 'recep_Alerta_4113', 'recep_Alerta_52', 'recep_Alerta_5203', 'recep_Alerta_53']\n"
     ]
    }
   ],
   "source": [
    "\n",
    "\n",
    "# Filtrar las columnas categóricas (excluyendo 'dhdr_folio' y las numéricas)\n",
    "categorical_cols = [col for col in all_columns if col not in numerical_columns and col != 'dhdr_folio']\n",
    "\n",
    "# Mostrar las columnas categóricas\n",
    "print(\"Columnas categóricas:\", categorical_cols)\n",
    "\n",
    "# Realizar one-hot encoding en las columnas categóricas\n",
    "df_encoded = pd.get_dummies(df[categorical_cols], drop_first=True)\n",
    "\n",
    "# Crear el objeto StandardScaler para estandarizar las variables numéricas\n",
    "scaler = StandardScaler()\n",
    "\n",
    "# Estandarizar las columnas numéricas (sin modificar el DataFrame original)\n",
    "df_scaled = pd.DataFrame(scaler.fit_transform(df[numerical_columns]), columns=numerical_columns)\n",
    "\n",
    "# Incluir 'dhdr_folio' como identificador en el dataset final (sin transformarlo)\n",
    "df_final = pd.concat([df[['dhdr_folio']], df_scaled, df_encoded], axis=1)"
   ]
  },
  {
   "cell_type": "code",
   "execution_count": 21,
   "id": "860afea7-620d-4d7f-8a58-c75c21e8b78f",
   "metadata": {},
   "outputs": [
    {
     "name": "stdout",
     "output_type": "stream",
     "text": [
      "   dhdr_folio  outliers\n",
      "0       44660         1\n",
      "1     1443513         1\n",
      "2     1440331         1\n",
      "3     1441968         1\n",
      "4    11779722         1\n",
      "Total de outliers detectados: 345052\n"
     ]
    }
   ],
   "source": [
    "# Aplicar Isolation Forest para detectar outliers\n",
    "iso_forest = IsolationForest(contamination=0.1, random_state=42)  # Ajusta el parámetro de contaminación según tu caso\n",
    "outliers = iso_forest.fit_predict(df_final.drop('dhdr_folio', axis=1))  # No incluir 'dhdr_folio' en el fit\n",
    "\n",
    "# Los outliers estarán marcados como -1 (outliers) y 1 (no outliers)\n",
    "df_final['outliers'] = outliers\n",
    "\n",
    "# Contar cuántos outliers hay\n",
    "outliers_count = (df_final['outliers'] == -1).sum()\n",
    "\n",
    "# Visualizar los primeros resultados\n",
    "print(df_final[['dhdr_folio', 'outliers']].head())\n",
    "print(f\"Total de outliers detectados: {outliers_count}\")\n"
   ]
  },
  {
   "cell_type": "code",
   "execution_count": 22,
   "id": "e46c977f-6661-473c-9c2f-84837d399789",
   "metadata": {},
   "outputs": [
    {
     "data": {
      "text/plain": [
       "(3450520, 517)"
      ]
     },
     "execution_count": 22,
     "metadata": {},
     "output_type": "execute_result"
    }
   ],
   "source": [
    "df_final.shape"
   ]
  },
  {
   "cell_type": "markdown",
   "id": "e426329c-b560-4034-a1ba-0a1c535c9b82",
   "metadata": {},
   "source": [
    "## Analisis de anomalias del dataframe original"
   ]
  },
  {
   "cell_type": "code",
   "execution_count": 23,
   "id": "90b4e9c9-1b39-44b7-8328-48afe4c85624",
   "metadata": {},
   "outputs": [
    {
     "name": "stdout",
     "output_type": "stream",
     "text": [
      "   dhdr_folio  outliers\n",
      "0       44660         1\n",
      "1     1443513         1\n",
      "2     1440331         1\n",
      "3     1441968         1\n",
      "4    11779722         1\n"
     ]
    },
    {
     "name": "stderr",
     "output_type": "stream",
     "text": [
      "/tmp/ipykernel_307/2506038104.py:2: SettingWithCopyWarning: \n",
      "A value is trying to be set on a copy of a slice from a DataFrame.\n",
      "Try using .loc[row_indexer,col_indexer] = value instead\n",
      "\n",
      "See the caveats in the documentation: https://pandas.pydata.org/pandas-docs/stable/user_guide/indexing.html#returning-a-view-versus-a-copy\n",
      "  df.loc[:, 'outliers'] = df_final['outliers']\n"
     ]
    }
   ],
   "source": [
    "# Agregar la columna 'outliers' de df_final al DataFrame original df usando .loc\n",
    "df.loc[:, 'outliers'] = df_final['outliers']\n",
    "\n",
    "# Ver las primeras filas del DataFrame original con la columna de outliers\n",
    "print(df[['dhdr_folio', 'outliers']].head())\n"
   ]
  },
  {
   "cell_type": "code",
   "execution_count": 24,
   "id": "be45f9fb-d41d-4f5a-b70f-ced7fcfafa76",
   "metadata": {
    "scrolled": true
   },
   "outputs": [
    {
     "data": {
      "text/plain": [
       "Index(['dhdr_mnt_total', 'dhdr_iva', 'recep_COCO_IMP_VENTAS_IVA',\n",
       "       'recep_COCO_IMP_VENTAS_TRANSPORTE', 'recep_COCO_MTO_DEV_SOLICITADA_F22',\n",
       "       'recep_COCO_MTO_VENTAS', 'recep_NEGO_NRO_FACTURAS_6MESES_VO',\n",
       "       'emis_COCO_IMP_VENTAS_IVA', 'emis_COCO_IMP_VENTAS_TRANSPORTE',\n",
       "       'emis_COCO_MTO_DEV_SOLICITADA_F22', 'emis_COCO_MTO_VENTAS',\n",
       "       'emis_NEGO_NRO_FACTURAS_6MESES_VO', 'avg_dhdr_mnt_total_emisor',\n",
       "       'stddev_dhdr_mnt_total_emisor', 'avg_dhdr_iva_emisor',\n",
       "       'stddev_dhdr_iva_emisor', 'avg_dhdr_mnt_total_receptor',\n",
       "       'stddev_dhdr_mnt_total_receptor', 'avg_dhdr_iva_receptor',\n",
       "       'stddev_dhdr_iva_receptor', 'es_fin_de_semana', 'bloque_horario',\n",
       "       'dia_semana', 'semana_mes', 'emis_INICIO_SEGMENTO',\n",
       "       'emis_ACEC_DES_SUBRUBRO_PPAL', 'emis_Alerta_1019', 'emis_Alerta_2250',\n",
       "       'emis_Alerta_400X', 'emis_Alerta_4110', 'emis_Alerta_4111',\n",
       "       'emis_Alerta_4112', 'emis_Alerta_4113', 'emis_Alerta_52',\n",
       "       'emis_Alerta_5203', 'emis_Alerta_53', 'recep_INICIO_SEGMENTO',\n",
       "       'recep_ACEC_DES_SUBRUBRO_PPAL', 'recep_Alerta_1019',\n",
       "       'recep_Alerta_2250', 'recep_Alerta_400X', 'recep_Alerta_4110',\n",
       "       'recep_Alerta_4111', 'recep_Alerta_4112', 'recep_Alerta_4113',\n",
       "       'recep_Alerta_52', 'recep_Alerta_5203', 'recep_Alerta_53', 'dhdr_folio',\n",
       "       'outliers'],\n",
       "      dtype='object')"
      ]
     },
     "execution_count": 24,
     "metadata": {},
     "output_type": "execute_result"
    }
   ],
   "source": [
    "df.columns"
   ]
  },
  {
   "cell_type": "code",
   "execution_count": 28,
   "id": "543cbc3e-09a4-423b-9a4b-2e6cca015c7a",
   "metadata": {},
   "outputs": [],
   "source": [
    "spark.stop()"
   ]
  },
  {
   "cell_type": "code",
   "execution_count": null,
   "id": "b0543c0d-ab27-4292-8046-d3dffe35d2fe",
   "metadata": {},
   "outputs": [],
   "source": []
  },
  {
   "cell_type": "code",
   "execution_count": null,
   "id": "17a9b76b-5118-4075-9db0-c55e303f8784",
   "metadata": {},
   "outputs": [],
   "source": [
    "import numpy as np\n",
    "import pandas as pd\n",
    "from sklearn.model_selection import train_test_split\n",
    "from sklearn.tree import DecisionTreeClassifier, export_text  # Asegúrate de importar esto\n",
    "from sklearn.metrics import classification_report, accuracy_score\n",
    "\n",
    "# Dividir el DataFrame en variables numéricas y categóricas\n",
    "X_numerical = df[numerical_columns]  # Variables numéricas\n",
    "X_categorical = df[categorical_columns]  # Variables categóricas\n",
    "\n",
    "# Realizar One-Hot Encoding de las variables categóricas\n",
    "X_categorical_encoded = pd.get_dummies(X_categorical, drop_first=True)  # Evitar la trampa de las variables ficticias\n",
    "\n",
    "# Concatenar las variables numéricas y las categóricas codificadas\n",
    "X_processed = pd.concat([X_numerical, X_categorical_encoded], axis=1)\n",
    "\n",
    "# Asegurarse de que todas las variables numéricas sean del tipo correcto (float32)\n",
    "X_processed = X_processed.astype(np.float32)\n",
    "\n",
    "# Definir la variable dependiente (outliers)\n",
    "y = df['outliers']\n",
    "\n",
    "# Dividir el conjunto de datos en entrenamiento y prueba\n",
    "X_train, X_test, y_train, y_test = train_test_split(X_processed, y, test_size=0.2, random_state=42)\n",
    "\n",
    "# Crear el modelo de Decision Tree\n",
    "dt = DecisionTreeClassifier(\n",
    "    random_state=42,\n",
    "    max_depth=5,  # Limitar la profundidad del árbol para evitar sobreajuste\n",
    "    min_samples_split=10,  # Mínimo de muestras necesarias para dividir un nodo\n",
    "    min_samples_leaf=5,  # Mínimo de muestras necesarias en una hoja\n",
    "    class_weight='balanced'  # Ajustar los pesos de las clases para manejar desbalance\n",
    ")\n",
    "\n",
    "# Entrenar el modelo\n",
    "dt.fit(X_train, y_train)\n",
    "\n",
    "# Predicción y evaluación\n",
    "y_pred = dt.predict(X_test)\n",
    "\n",
    "# Evaluar el modelo\n",
    "print(\"Accuracy del modelo:\", accuracy_score(y_test, y_pred))\n",
    "print(\"Reporte de clasificación:\")\n",
    "print(classification_report(y_test, y_pred))"
   ]
  },
  {
   "cell_type": "markdown",
   "id": "20cd00d9-967a-4fa0-a0fb-c3d1bfae32e2",
   "metadata": {},
   "source": [
    "Para la clase -1 (Outliers):\n",
    "\n",
    "Precision: 0.42\n",
    "Esto indica que el 42% de las instancias predichas como outliers son realmente outliers. Este valor es relativamente bajo, lo que sugiere que el modelo está generando bastantes falsos positivos (instancias normales clasificadas como outliers).\n",
    "\n",
    "Recall: 0.77\n",
    "El 77% de los verdaderos outliers son correctamente identificados. Este es un buen valor, ya que significa que el modelo no está perdiendo demasiados outliers, aunque todavía podría mejorar.\n",
    "\n",
    "F1-Score: 0.54\n",
    "El F1-Score es el promedio armónico entre precision y recall. Un F1 de 0.54 para los outliers es moderado, lo que indica que el modelo tiene un rendimiento intermedio al balancear ambos aspectos."
   ]
  },
  {
   "cell_type": "code",
   "execution_count": null,
   "id": "e88e65ca-83f2-4f97-a165-a1120e8fece7",
   "metadata": {},
   "outputs": [
    {
     "name": "stdout",
     "output_type": "stream",
     "text": [
      "Accuracy del modelo: 0.8710208896050451\n",
      "Reporte de clasificación:\n",
      "              precision    recall  f1-score   support\n",
      "\n",
      "          -1       0.42      0.77      0.54     68782\n",
      "           1       0.97      0.88      0.92    621322\n",
      "\n",
      "    accuracy                           0.87    690104\n",
      "   macro avg       0.70      0.83      0.73    690104\n",
      "weighted avg       0.92      0.87      0.89    690104\n",
      "\n",
      "Reglas del árbol de decisión:\n",
      "|--- stddev_dhdr_mnt_total_receptor <= 8448835.50\n",
      "|   |--- emis_INICIO_SEGMENTO_SGGC <= 0.50\n",
      "|   |   |--- bloque_horario_Tarde <= 0.50\n",
      "|   |   |   |--- emis_ACEC_DES_SUBRUBRO_PPAL_VENTA AL POR MENOR DE ALIMENTOS, BEBIDAS Y TABACO EN COMERCIOS ESPECIALIZADOS <= 0.50\n",
      "|   |   |   |   |--- es_fin_de_semana <= 0.50\n",
      "|   |   |   |   |   |--- class: -1\n",
      "|   |   |   |   |--- es_fin_de_semana >  0.50\n",
      "|   |   |   |   |   |--- class: -1\n",
      "|   |   |   |--- emis_ACEC_DES_SUBRUBRO_PPAL_VENTA AL POR MENOR DE ALIMENTOS, BEBIDAS Y TABACO EN COMERCIOS ESPECIALIZADOS >  0.50\n",
      "|   |   |   |   |--- recep_ACEC_DES_SUBRUBRO_PPAL_ELABORACION DE OTROS PRODUCTOS ALIMENTICIOS <= 0.50\n",
      "|   |   |   |   |   |--- class: -1\n",
      "|   |   |   |   |--- recep_ACEC_DES_SUBRUBRO_PPAL_ELABORACION DE OTROS PRODUCTOS ALIMENTICIOS >  0.50\n",
      "|   |   |   |   |   |--- class: 1\n",
      "|   |   |--- bloque_horario_Tarde >  0.50\n",
      "|   |   |   |--- emis_ACEC_DES_SUBRUBRO_PPAL_VENTA AL POR MENOR DE OTROS PRODUCTOS EN COMERCIOS ESPECIALIZADOS <= 0.50\n",
      "|   |   |   |   |--- emis_Alerta_52 <= 0.50\n",
      "|   |   |   |   |   |--- class: 1\n",
      "|   |   |   |   |--- emis_Alerta_52 >  0.50\n",
      "|   |   |   |   |   |--- class: -1\n",
      "|   |   |   |--- emis_ACEC_DES_SUBRUBRO_PPAL_VENTA AL POR MENOR DE OTROS PRODUCTOS EN COMERCIOS ESPECIALIZADOS >  0.50\n",
      "|   |   |   |   |--- recep_ACEC_DES_SUBRUBRO_PPAL_VENTA AL POR MENOR DE OTROS PRODUCTOS EN COMERCIOS ESPECIALIZADOS <= 0.50\n",
      "|   |   |   |   |   |--- class: -1\n",
      "|   |   |   |   |--- recep_ACEC_DES_SUBRUBRO_PPAL_VENTA AL POR MENOR DE OTROS PRODUCTOS EN COMERCIOS ESPECIALIZADOS >  0.50\n",
      "|   |   |   |   |   |--- class: 1\n",
      "|   |--- emis_INICIO_SEGMENTO_SGGC >  0.50\n",
      "|   |   |--- avg_dhdr_mnt_total_emisor <= 5091917.00\n",
      "|   |   |   |--- recep_ACEC_DES_SUBRUBRO_PPAL_VENTA AL POR MAYOR DE ENSERES DOMESTICOS <= 0.50\n",
      "|   |   |   |   |--- es_fin_de_semana <= 0.50\n",
      "|   |   |   |   |   |--- class: 1\n",
      "|   |   |   |   |--- es_fin_de_semana >  0.50\n",
      "|   |   |   |   |   |--- class: 1\n",
      "|   |   |   |--- recep_ACEC_DES_SUBRUBRO_PPAL_VENTA AL POR MAYOR DE ENSERES DOMESTICOS >  0.50\n",
      "|   |   |   |   |--- recep_COCO_IMP_VENTAS_IVA <= 464062336.00\n",
      "|   |   |   |   |   |--- class: -1\n",
      "|   |   |   |   |--- recep_COCO_IMP_VENTAS_IVA >  464062336.00\n",
      "|   |   |   |   |   |--- class: -1\n",
      "|   |   |--- avg_dhdr_mnt_total_emisor >  5091917.00\n",
      "|   |   |   |--- emis_COCO_MTO_VENTAS <= 459077812224.00\n",
      "|   |   |   |   |--- avg_dhdr_mnt_total_emisor <= 14110670.50\n",
      "|   |   |   |   |   |--- class: 1\n",
      "|   |   |   |   |--- avg_dhdr_mnt_total_emisor >  14110670.50\n",
      "|   |   |   |   |   |--- class: -1\n",
      "|   |   |   |--- emis_COCO_MTO_VENTAS >  459077812224.00\n",
      "|   |   |   |   |--- emis_ACEC_DES_SUBRUBRO_PPAL_VENTA AL POR MAYOR DE ENSERES DOMESTICOS <= 0.50\n",
      "|   |   |   |   |   |--- class: -1\n",
      "|   |   |   |   |--- emis_ACEC_DES_SUBRUBRO_PPAL_VENTA AL POR MAYOR DE ENSERES DOMESTICOS >  0.50\n",
      "|   |   |   |   |   |--- class: 1\n",
      "|--- stddev_dhdr_mnt_total_receptor >  8448835.50\n",
      "|   |--- recep_COCO_MTO_VENTAS <= 605186818048.00\n",
      "|   |   |--- avg_dhdr_mnt_total_emisor <= 5092485.00\n",
      "|   |   |   |--- emis_INICIO_SEGMENTO_SGGC <= 0.50\n",
      "|   |   |   |   |--- stddev_dhdr_iva_receptor <= 6854110.00\n",
      "|   |   |   |   |   |--- class: -1\n",
      "|   |   |   |   |--- stddev_dhdr_iva_receptor >  6854110.00\n",
      "|   |   |   |   |   |--- class: -1\n",
      "|   |   |   |--- emis_INICIO_SEGMENTO_SGGC >  0.50\n",
      "|   |   |   |   |--- stddev_dhdr_mnt_total_receptor <= 83521976.00\n",
      "|   |   |   |   |   |--- class: 1\n",
      "|   |   |   |   |--- stddev_dhdr_mnt_total_receptor >  83521976.00\n",
      "|   |   |   |   |   |--- class: -1\n",
      "|   |   |--- avg_dhdr_mnt_total_emisor >  5092485.00\n",
      "|   |   |   |--- avg_dhdr_iva_emisor <= 1520201.56\n",
      "|   |   |   |   |--- avg_dhdr_mnt_total_emisor <= 5098744.50\n",
      "|   |   |   |   |   |--- class: -1\n",
      "|   |   |   |   |--- avg_dhdr_mnt_total_emisor >  5098744.50\n",
      "|   |   |   |   |   |--- class: -1\n",
      "|   |   |   |--- avg_dhdr_iva_emisor >  1520201.56\n",
      "|   |   |   |   |--- avg_dhdr_iva_emisor <= 3099740.75\n",
      "|   |   |   |   |   |--- class: -1\n",
      "|   |   |   |   |--- avg_dhdr_iva_emisor >  3099740.75\n",
      "|   |   |   |   |   |--- class: -1\n",
      "|   |--- recep_COCO_MTO_VENTAS >  605186818048.00\n",
      "|   |   |--- recep_ACEC_DES_SUBRUBRO_PPAL_EVACUACION DE AGUAS RESIDUALES <= 0.50\n",
      "|   |   |   |--- recep_ACEC_DES_SUBRUBRO_PPAL_VENTA AL POR MENOR DE OTROS ENSERES DOMESTICOS EN COMERCIOS ESPECIALIZADOS <= 0.50\n",
      "|   |   |   |   |--- emis_ACEC_DES_SUBRUBRO_PPAL_FABRICACION DE OTROS PRODUCTOS TEXTILES <= 0.50\n",
      "|   |   |   |   |   |--- class: -1\n",
      "|   |   |   |   |--- emis_ACEC_DES_SUBRUBRO_PPAL_FABRICACION DE OTROS PRODUCTOS TEXTILES >  0.50\n",
      "|   |   |   |   |   |--- class: -1\n",
      "|   |   |   |--- recep_ACEC_DES_SUBRUBRO_PPAL_VENTA AL POR MENOR DE OTROS ENSERES DOMESTICOS EN COMERCIOS ESPECIALIZADOS >  0.50\n",
      "|   |   |   |   |--- emis_INICIO_SEGMENTO_SGGC <= 0.50\n",
      "|   |   |   |   |   |--- class: -1\n",
      "|   |   |   |   |--- emis_INICIO_SEGMENTO_SGGC >  0.50\n",
      "|   |   |   |   |   |--- class: 1\n",
      "|   |   |--- recep_ACEC_DES_SUBRUBRO_PPAL_EVACUACION DE AGUAS RESIDUALES >  0.50\n",
      "|   |   |   |--- emis_ACEC_DES_SUBRUBRO_PPAL_VENTA AL POR MAYOR NO ESPECIALIZADA <= 0.50\n",
      "|   |   |   |   |--- emis_INICIO_SEGMENTO_SGGC <= 0.50\n",
      "|   |   |   |   |   |--- class: -1\n",
      "|   |   |   |   |--- emis_INICIO_SEGMENTO_SGGC >  0.50\n",
      "|   |   |   |   |   |--- class: 1\n",
      "|   |   |   |--- emis_ACEC_DES_SUBRUBRO_PPAL_VENTA AL POR MAYOR NO ESPECIALIZADA >  0.50\n",
      "|   |   |   |   |--- emis_COCO_IMP_VENTAS_IVA <= 9194372608.00\n",
      "|   |   |   |   |   |--- class: -1\n",
      "|   |   |   |   |--- emis_COCO_IMP_VENTAS_IVA >  9194372608.00\n",
      "|   |   |   |   |   |--- class: -1\n",
      "\n",
      "La hoja con mejor clasificación tiene el índice 20 con una pureza de 384093 ejemplos correctos.\n",
      "Detalles de la hoja de mejor clasificación: 20\n",
      "Predicción de la hoja: [[0.09855173 0.90144827]]\n"
     ]
    }
   ],
   "source": [
    "# Mostrar las reglas del árbol\n",
    "print(\"Reglas del árbol de decisión:\")\n",
    "tree_rules = export_text(dt, feature_names=list(X_processed.columns))\n",
    "print(tree_rules)\n",
    "\n",
    "# Acceder a las propiedades del árbol\n",
    "tree = dt.tree_\n",
    "\n",
    "# Obtener los índices de las hojas (convertir X_test a un numpy.ndarray)\n",
    "leaf_indices = tree.apply(X_test.values)  # Convertir X_test a ndarray\n",
    "\n",
    "# Contar el número de ejemplos de cada clase en cada hoja\n",
    "leaf_classes = np.zeros((tree.node_count,), dtype=int)  # Array para almacenar la clase predominante en cada hoja\n",
    "\n",
    "# Contar las instancias por hoja\n",
    "for i in range(len(leaf_indices)):\n",
    "    leaf_classes[leaf_indices[i]] += 1\n",
    "\n",
    "# Buscar la hoja con más clasificación correcta\n",
    "leaf_purity = {}\n",
    "for leaf in np.unique(leaf_indices):\n",
    "    # Obtener el índice de la hoja\n",
    "    leaf_purity[leaf] = np.sum(y_test[leaf_indices == leaf] == y_pred[leaf_indices == leaf])\n",
    "\n",
    "# Imprimir la hoja con mayor pureza\n",
    "best_leaf = sorted(leaf_purity.items(), key=lambda x: x[1], reverse=True)[0][0]\n",
    "\n",
    "print(f\"La hoja con mejor clasificación tiene el índice {best_leaf} con una pureza de {leaf_purity[best_leaf]} ejemplos correctos.\")\n",
    "\n",
    "# Mostrar más detalles sobre la hoja seleccionada\n",
    "print(f\"Detalles de la hoja de mejor clasificación: {best_leaf}\")\n",
    "print(f\"Predicción de la hoja: {dt.tree_.value[best_leaf]}\")"
   ]
  },
  {
   "cell_type": "markdown",
   "id": "9b061026-e32f-4758-851e-1887e120d79b",
   "metadata": {},
   "source": [
    "\n",
    "\n",
    "El modelo ha mostrado la predicción de la hoja como [[0.09855173, 0.90144827]]. Esto es un vector de probabilidades, donde cada valor representa la probabilidad de que una instancia en esa hoja pertenezca a cada clase (en este caso, parece que es un problema binario).\n",
    "\n",
    "0.09855173 es la probabilidad de que la instancia pertenezca a la clase 0 (por ejemplo, \"No es un outlier\").\n",
    "\n",
    "0.90144827 es la probabilidad de que la instancia pertenezca a la clase 1 (por ejemplo, \"Es un outlier\").\n",
    "\n",
    "Dado que la suma de las probabilidades es 1, la probabilidad de la clase 1 es mucho mayor que la de la clase 0. Esto indica que, en promedio, las instancias en esta hoja están más inclinadas a ser clasificadas como \"outliers\" (si esa es la clase 1)."
   ]
  },
  {
   "cell_type": "code",
   "execution_count": 30,
   "id": "d9f27f0f-e1d2-4ecc-b743-42a2eb9140eb",
   "metadata": {},
   "outputs": [
    {
     "name": "stdout",
     "output_type": "stream",
     "text": [
      "Reglas completas del árbol de decisión:\n",
      " Si stddev_dhdr_mnt_total_receptor <= 8448835.50, ir a la izquierda, de lo contrario, ir a la derecha. \n",
      "[Izquierda]: Si emis_INICIO_SEGMENTO_SGGC <= 0.50, ir a la izquierda, de lo contrario, ir a la derecha. \n",
      "[Izquierda]: Si bloque_horario_Tarde <= 0.50, ir a la izquierda, de lo contrario, ir a la derecha. \n",
      "[Izquierda]: Si emis_ACEC_DES_SUBRUBRO_PPAL_VENTA AL POR MENOR DE ALIMENTOS, BEBIDAS Y TABACO EN COMERCIOS ESPECIALIZADOS <= 0.50, ir a la izquierda, de lo contrario, ir a la derecha. \n",
      "[Izquierda]: Si es_fin_de_semana <= 0.50, ir a la izquierda, de lo contrario, ir a la derecha. \n",
      "[Izquierda]: Clase 0 (Valor: [[0.559971 0.440029]]) \n",
      "[Derecha]: Clase 0 (Valor: [[0.83006304 0.16993696]]) \n",
      "[Derecha]: Si recep_ACEC_DES_SUBRUBRO_PPAL_ELABORACION DE OTROS PRODUCTOS ALIMENTICIOS <= 0.50, ir a la izquierda, de lo contrario, ir a la derecha. \n",
      "[Izquierda]: Clase 0 (Valor: [[0.87122347 0.12877653]]) \n",
      "[Derecha]: Clase 1 (Valor: [[0.44316943 0.55683057]]) \n",
      "[Derecha]: Si emis_ACEC_DES_SUBRUBRO_PPAL_VENTA AL POR MENOR DE OTROS PRODUCTOS EN COMERCIOS ESPECIALIZADOS <= 0.50, ir a la izquierda, de lo contrario, ir a la derecha. \n",
      "[Izquierda]: Si emis_Alerta_52 <= 0.50, ir a la izquierda, de lo contrario, ir a la derecha. \n",
      "[Izquierda]: Clase 1 (Valor: [[0.36156523 0.63843477]]) \n",
      "[Derecha]: Clase 0 (Valor: [[0.92578191 0.07421809]]) \n",
      "[Derecha]: Si recep_ACEC_DES_SUBRUBRO_PPAL_VENTA AL POR MENOR DE OTROS PRODUCTOS EN COMERCIOS ESPECIALIZADOS <= 0.50, ir a la izquierda, de lo contrario, ir a la derecha. \n",
      "[Izquierda]: Clase 0 (Valor: [[0.86768238 0.13231762]]) \n",
      "[Derecha]: Clase 1 (Valor: [[0.44555157 0.55444843]]) \n",
      "[Derecha]: Si avg_dhdr_mnt_total_emisor <= 5091917.00, ir a la izquierda, de lo contrario, ir a la derecha. \n",
      "[Izquierda]: Si recep_ACEC_DES_SUBRUBRO_PPAL_VENTA AL POR MAYOR DE ENSERES DOMESTICOS <= 0.50, ir a la izquierda, de lo contrario, ir a la derecha. \n",
      "[Izquierda]: Si es_fin_de_semana <= 0.50, ir a la izquierda, de lo contrario, ir a la derecha. \n",
      "[Izquierda]: Clase 1 (Valor: [[0.09855173 0.90144827]]) \n",
      "[Derecha]: Clase 1 (Valor: [[0.38495344 0.61504656]]) \n",
      "[Derecha]: Si recep_COCO_IMP_VENTAS_IVA <= 464062336.00, ir a la izquierda, de lo contrario, ir a la derecha. \n",
      "[Izquierda]: Clase 0 (Valor: [[0.68953709 0.31046291]]) \n",
      "[Derecha]: Clase 0 (Valor: [[0.85666941 0.14333059]]) \n",
      "[Derecha]: Si emis_COCO_MTO_VENTAS <= 459077812224.00, ir a la izquierda, de lo contrario, ir a la derecha. \n",
      "[Izquierda]: Si avg_dhdr_mnt_total_emisor <= 14110670.50, ir a la izquierda, de lo contrario, ir a la derecha. \n",
      "[Izquierda]: Clase 1 (Valor: [[0.38874566 0.61125434]]) \n",
      "[Derecha]: Clase 0 (Valor: [[0.83305002 0.16694998]]) \n",
      "[Derecha]: Si emis_ACEC_DES_SUBRUBRO_PPAL_VENTA AL POR MAYOR DE ENSERES DOMESTICOS <= 0.50, ir a la izquierda, de lo contrario, ir a la derecha. \n",
      "[Izquierda]: Clase 0 (Valor: [[0.9164614 0.0835386]]) \n",
      "[Derecha]: Clase 1 (Valor: [[0.01469257 0.98530743]]) \n",
      "[Derecha]: Si recep_COCO_MTO_VENTAS <= 605186818048.00, ir a la izquierda, de lo contrario, ir a la derecha. \n",
      "[Izquierda]: Si avg_dhdr_mnt_total_emisor <= 5092485.00, ir a la izquierda, de lo contrario, ir a la derecha. \n",
      "[Izquierda]: Si emis_INICIO_SEGMENTO_SGGC <= 0.50, ir a la izquierda, de lo contrario, ir a la derecha. \n",
      "[Izquierda]: Si stddev_dhdr_iva_receptor <= 6854110.00, ir a la izquierda, de lo contrario, ir a la derecha. \n",
      "[Izquierda]: Clase 0 (Valor: [[0.70783697 0.29216303]]) \n",
      "[Derecha]: Clase 0 (Valor: [[0.90359963 0.09640037]]) \n",
      "[Derecha]: Si stddev_dhdr_mnt_total_receptor <= 83521976.00, ir a la izquierda, de lo contrario, ir a la derecha. \n",
      "[Izquierda]: Clase 1 (Valor: [[0.41588791 0.58411209]]) \n",
      "[Derecha]: Clase 0 (Valor: [[0.84089073 0.15910927]]) \n",
      "[Derecha]: Si avg_dhdr_iva_emisor <= 1520201.56, ir a la izquierda, de lo contrario, ir a la derecha. \n",
      "[Izquierda]: Si avg_dhdr_mnt_total_emisor <= 5098744.50, ir a la izquierda, de lo contrario, ir a la derecha. \n",
      "[Izquierda]: Clase 0 (Valor: [[0.98605473 0.01394527]]) \n",
      "[Derecha]: Clase 0 (Valor: [[0.68175536 0.31824464]]) \n",
      "[Derecha]: Si avg_dhdr_iva_emisor <= 3099740.75, ir a la izquierda, de lo contrario, ir a la derecha. \n",
      "[Izquierda]: Clase 0 (Valor: [[0.88752261 0.11247739]]) \n",
      "[Derecha]: Clase 0 (Valor: [[0.96939188 0.03060812]]) \n",
      "[Derecha]: Si recep_ACEC_DES_SUBRUBRO_PPAL_EVACUACION DE AGUAS RESIDUALES <= 0.50, ir a la izquierda, de lo contrario, ir a la derecha. \n",
      "[Izquierda]: Si recep_ACEC_DES_SUBRUBRO_PPAL_VENTA AL POR MENOR DE OTROS ENSERES DOMESTICOS EN COMERCIOS ESPECIALIZADOS <= 0.50, ir a la izquierda, de lo contrario, ir a la derecha. \n",
      "[Izquierda]: Si emis_ACEC_DES_SUBRUBRO_PPAL_FABRICACION DE OTROS PRODUCTOS TEXTILES <= 0.50, ir a la izquierda, de lo contrario, ir a la derecha. \n",
      "[Izquierda]: Clase 0 (Valor: [[0.98415603 0.01584397]]) \n",
      "[Derecha]: Clase 0 (Valor: [[0.54095162 0.45904838]]) \n",
      "[Derecha]: Si emis_INICIO_SEGMENTO_SGGC <= 0.50, ir a la izquierda, de lo contrario, ir a la derecha. \n",
      "[Izquierda]: Clase 0 (Valor: [[0.56344828 0.43655172]]) \n",
      "[Derecha]: Clase 1 (Valor: [[0.05010948 0.94989052]]) \n",
      "[Derecha]: Si emis_ACEC_DES_SUBRUBRO_PPAL_VENTA AL POR MAYOR NO ESPECIALIZADA <= 0.50, ir a la izquierda, de lo contrario, ir a la derecha. \n",
      "[Izquierda]: Si emis_INICIO_SEGMENTO_SGGC <= 0.50, ir a la izquierda, de lo contrario, ir a la derecha. \n",
      "[Izquierda]: Clase 0 (Valor: [[0.7792094 0.2207906]]) \n",
      "[Derecha]: Clase 1 (Valor: [[0.33847458 0.66152542]]) \n",
      "[Derecha]: Si emis_COCO_IMP_VENTAS_IVA <= 9194372608.00, ir a la izquierda, de lo contrario, ir a la derecha. \n",
      "[Izquierda]: Clase 0 (Valor: [[0.9920246 0.0079754]]) \n",
      "[Derecha]: Clase 0 (Valor: [[0.73871902 0.26128098]])\n"
     ]
    }
   ],
   "source": [
    "#REGLAS COMPLETAS DEL ARBOL DE DECISION\n",
    "\n",
    "from sklearn.tree import _tree\n",
    "\n",
    "def get_tree_rules(tree, feature_names):\n",
    "    \"\"\"\n",
    "    Función para obtener las reglas de decisión de un árbol de decisión.\n",
    "    Retorna un diccionario con las reglas para cada nodo.\n",
    "    \"\"\"\n",
    "    tree_ = tree.tree_\n",
    "    feature_name = [feature_names[i] if i != _tree.TREE_UNDEFINED else \"undefined!\" \n",
    "                    for i in tree_.feature]\n",
    "    \n",
    "    def recurse(node):\n",
    "        if tree_.feature[node] != _tree.TREE_UNDEFINED:\n",
    "            name = feature_name[node]\n",
    "            threshold = tree_.threshold[node]\n",
    "            left_child = tree_.children_left[node]\n",
    "            right_child = tree_.children_right[node]\n",
    "            \n",
    "            # Regla para el nodo\n",
    "            rule = f\"Si {name} <= {threshold:.2f}, ir a la izquierda, de lo contrario, ir a la derecha.\"\n",
    "            \n",
    "            # Recursión para los nodos hijo\n",
    "            left_rule = recurse(left_child)\n",
    "            right_rule = recurse(right_child)\n",
    "            \n",
    "            return f\"{rule} \\n[Izquierda]: {left_rule} \\n[Derecha]: {right_rule}\"\n",
    "        else:\n",
    "            # Nodo hoja: retornar la clase mayoritaria\n",
    "            return f\"Clase {tree_.value[node].argmax()} (Valor: {tree_.value[node]})\"\n",
    "\n",
    "    # Iniciar recursión desde la raíz\n",
    "    return recurse(0)\n",
    "\n",
    "# Obtener las reglas del árbol\n",
    "rules = get_tree_rules(dt, list(X_processed.columns))\n",
    "\n",
    "# Mostrar las reglas completas\n",
    "print(\"Reglas completas del árbol de decisión:\\n\", rules)\n"
   ]
  },
  {
   "cell_type": "code",
   "execution_count": null,
   "id": "26556631-15db-4cbe-9849-5b03409e2fa5",
   "metadata": {},
   "outputs": [],
   "source": [
    "\n",
    "\n",
    "from sklearn.tree import _tree\n",
    "\n",
    "def get_decision_path(tree, feature_names, leaf_index):\n",
    "    \"\"\"\n",
    "    Devuelve el camino desde la raíz hasta la hoja especificada.\n",
    "    \"\"\"\n",
    "    tree_ = tree.tree_\n",
    "\n",
    "    # Convertir los índices de las características en nombres\n",
    "    feature_name = [feature_names[i] if i != _tree.TREE_UNDEFINED else \"undefined!\" \n",
    "                    for i in tree_.feature]\n",
    "\n",
    "    # Inicializamos el camino y el nodo actual (la hoja que nos interesa)\n",
    "    path = []\n",
    "    node = leaf_index\n",
    "\n",
    "    # Seguir el camino hacia atrás desde la hoja hasta la raíz\n",
    "    while node != 0:  # Continuamos hasta llegar a la raíz\n",
    "        # Obtenemos las condiciones de los nodos\n",
    "        if tree_.feature[node] != _tree.TREE_UNDEFINED:\n",
    "            name = feature_name[node]\n",
    "            threshold = tree_.threshold[node]\n",
    "\n",
    "            # Si la condición es a la izquierda o a la derecha\n",
    "            if tree_.children_left[node] == node:\n",
    "                path.append(f\"Si {name} <= {threshold:.2f}\")\n",
    "            else:\n",
    "                path.append(f\"Si {name} > {threshold:.2f}\")\n",
    "        \n",
    "        # Retrocedemos al nodo padre\n",
    "        node = tree_.children_left[node] if tree_.children_left[node] != _tree.TREE_UNDEFINED else tree_.children_right[node]\n",
    "    \n",
    "    # Regresamos el camino en el orden correcto (de arriba a abajo)\n",
    "    return path[::-1]\n",
    "\n",
    "# Obtener el índice de la hoja de decisión (en este caso, 20)\n",
    "leaf_index = 20\n",
    "\n",
    "# Obtener las reglas que conducen a la hoja 20\n",
    "leaf_rules = get_decision_path(dt, list(X_processed.columns), leaf_index)\n",
    "\n",
    "# Mostrar las reglas\n",
    "print(\"Reglas para la hoja con el índice 20:\")\n",
    "print(\" -> \".join(leaf_rules))\n",
    "\n"
   ]
  },
  {
   "cell_type": "code",
   "execution_count": null,
   "id": "0cdd8710-16a4-4e6b-9d11-bcc706bb8dcd",
   "metadata": {},
   "outputs": [],
   "source": []
  }
 ],
 "metadata": {
  "kernelspec": {
   "display_name": "Python 3 (ipykernel)",
   "language": "python",
   "name": "python3"
  },
  "language_info": {
   "codemirror_mode": {
    "name": "ipython",
    "version": 3
   },
   "file_extension": ".py",
   "mimetype": "text/x-python",
   "name": "python",
   "nbconvert_exporter": "python",
   "pygments_lexer": "ipython3",
   "version": "3.11.6"
  }
 },
 "nbformat": 4,
 "nbformat_minor": 5
}
